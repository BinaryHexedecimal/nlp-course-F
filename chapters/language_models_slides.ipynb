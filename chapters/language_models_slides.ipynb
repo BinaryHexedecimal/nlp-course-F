{
 "cells": [
  {
   "cell_type": "code",
   "execution_count": 64,
   "metadata": {
    "hideCode": false,
    "hidePrompt": false,
    "run_control": {
     "frozen": false,
     "read_only": false
    },
    "slideshow": {
     "slide_type": "skip"
    }
   },
   "outputs": [],
   "source": [
    "%%capture\n",
    "%load_ext autoreload\n",
    "%autoreload 2\n",
    "# %cd ..\n",
    "import sys\n",
    "sys.path.append(\"..\")\n",
    "import statnlpbook.util as util\n",
    "util.execute_notebook('language_models.ipynb')\n",
    "# import tikzmagic\n",
    "%load_ext tikzmagic\n",
    "matplotlib.rcParams['figure.figsize'] = (10.0, 6.0)"
   ]
  },
  {
   "cell_type": "markdown",
   "metadata": {
    "hideCode": false,
    "hidePrompt": false,
    "slideshow": {
     "slide_type": "skip"
    }
   },
   "source": [
    "<!---\n",
    "Latex Macros\n",
    "-->\n",
    "$$\n",
    "\\newcommand{\\prob}{p}\n",
    "\\newcommand{\\x}{\\mathbf{x}}\n",
    "\\newcommand{\\vocab}{V}\n",
    "\\newcommand{\\params}{\\boldsymbol{\\theta}}\n",
    "\\newcommand{\\param}{\\theta}\n",
    "\\DeclareMathOperator{\\perplexity}{PP}\n",
    "\\DeclareMathOperator{\\argmax}{argmax}\n",
    "\\newcommand{\\train}{\\mathcal{D}}\n",
    "\\newcommand{\\counts}[2]{\\#_{#1}(#2) }\n",
    "$$"
   ]
  },
  {
   "cell_type": "markdown",
   "metadata": {
    "hideCode": false,
    "hidePrompt": false,
    "slideshow": {
     "slide_type": "slide"
    }
   },
   "source": [
    "# Language Models"
   ]
  },
  {
   "cell_type": "markdown",
   "metadata": {
    "hideCode": false,
    "hidePrompt": false,
    "slideshow": {
     "slide_type": "slide"
    }
   },
   "source": [
    "## Language Models\n",
    "\n",
    "calculate the **probability of seeing a sequence of words**. "
   ]
  },
  {
   "cell_type": "markdown",
   "metadata": {
    "hideCode": false,
    "hidePrompt": false,
    "slideshow": {
     "slide_type": "subslide"
    }
   },
   "source": [
    "For example: how likely is the following sequence?\n",
    "\n",
    "> We're going to win bigly. "
   ]
  },
  {
   "cell_type": "markdown",
   "metadata": {
    "hideCode": false,
    "hidePrompt": false,
    "slideshow": {
     "slide_type": "fragment"
    }
   },
   "source": [
    "Is it more likely than this one?\n",
    "\n",
    "> We're going to win big league."
   ]
  },
  {
   "cell_type": "markdown",
   "metadata": {
    "hideCode": false,
    "hidePrompt": false,
    "slideshow": {
     "slide_type": "slide"
    }
   },
   "source": [
    "## Use Cases: Machine Translation\n",
    "\n",
    "> Wir werden haushoch gewinnen\n",
    "\n",
    "translates to?"
   ]
  },
  {
   "cell_type": "markdown",
   "metadata": {
    "hideCode": false,
    "hidePrompt": false,
    "slideshow": {
     "slide_type": "fragment"
    }
   },
   "source": [
    "> We will win by a mile\n",
    "\n",
    "or \n",
    "\n",
    "> We will win bigly"
   ]
  },
  {
   "cell_type": "markdown",
   "metadata": {
    "hideCode": false,
    "hidePrompt": false,
    "slideshow": {
     "slide_type": "subslide"
    }
   },
   "source": [
    "## Use Cases: Speech Recognition\n",
    "\n",
    "What did he [say](https://www.theguardian.com/us-news/video/2016/may/04/donald-trump-we-are-going-to-win-bigly-believe-me-video)?\n",
    "\n",
    "> We're going to win bigly\n",
    "\n",
    "or\n",
    "\n",
    "> We're going to win big league"
   ]
  },
  {
   "cell_type": "markdown",
   "metadata": {
    "collapsed": true,
    "hideCode": false,
    "hidePrompt": false,
    "slideshow": {
     "slide_type": "subslide"
    }
   },
   "source": [
    "## Use Cases: Natural Language Generation\n",
    "\n",
    "<img src=\"../img/drumpf.png\">\n",
    "\n",
    "https://twitter.com/deepdrumpf\n",
    "\n",
    "Other applications?"
   ]
  },
  {
   "cell_type": "markdown",
   "metadata": {
    "hideCode": false,
    "hidePrompt": false,
    "slideshow": {
     "slide_type": "slide"
    }
   },
   "source": [
    "## Formally\n",
    "Models the probability \n",
    "\n",
    "$$\\prob(w_1,\\ldots,w_d)$$ \n",
    "\n",
    "of observing sequences of words \\\\(w_1,\\ldots,w_d\\\\). "
   ]
  },
  {
   "cell_type": "markdown",
   "metadata": {
    "hideCode": false,
    "hidePrompt": false,
    "slideshow": {
     "slide_type": "subslide"
    }
   },
   "source": [
    "Without loss of generality: \n",
    "\n",
    "\\begin{align}\n",
    "\\prob(w_1,\\ldots,w_d) &= p(w_1) p(w_2|w_1) p(w_3|w_1, w_2) \\ldots \\\\\n",
    " &= \\prob(w_1) \\prod_{i = 2}^d \\prob(w_i|w_1,\\ldots,w_{i-1})\n",
    "\\end{align}"
   ]
  },
  {
   "cell_type": "markdown",
   "metadata": {
    "hideCode": false,
    "hidePrompt": false,
    "slideshow": {
     "slide_type": "subslide"
    }
   },
   "source": [
    "### Structured Prediction\n",
    "\n",
    "predict word $y=w_i$ \n",
    "* conditioned on history $\\x=w_1,\\ldots,w_{i-1}$."
   ]
  },
  {
   "cell_type": "markdown",
   "metadata": {
    "hideCode": false,
    "hidePrompt": false,
    "slideshow": {
     "slide_type": "slide"
    }
   },
   "source": [
    "## N-Gram Language Models\n",
    "\n",
    "Impossible to estimate sensible probability for each history \n",
    "\n",
    "$$\n",
    "\\x=w_1,\\ldots,w_{i-1}\n",
    "$$"
   ]
  },
  {
   "cell_type": "markdown",
   "metadata": {
    "hideCode": false,
    "hidePrompt": false,
    "slideshow": {
     "slide_type": "subslide"
    }
   },
   "source": [
    "### Change **representation**\n",
    "truncate history to last $n-1$ words: \n",
    "\n",
    "$$\n",
    "\\mathbf{f}(\\x)=w_{i-(n-1)},\\ldots,w_{i-1}\n",
    "$$\n",
    "\n",
    "$\\prob(\\text{bigly}|\\text{...,blah, blah, blah, we, will, win}) \n",
    "= \\prob(\\text{bigly}|\\text{we, will, win})$"
   ]
  },
  {
   "cell_type": "markdown",
   "metadata": {
    "hideCode": false,
    "hidePrompt": false,
    "slideshow": {
     "slide_type": "subslide"
    }
   },
   "source": [
    "### Unigram LM\n",
    "\n",
    "Set $n=1$:\n",
    "$$\n",
    "\\prob(w_i|w_1,\\ldots,w_{i-1}) = \\prob(w_i).\n",
    "$$\n",
    "\n",
    "$\\prob(\\text{bigly}|\\text{we, will, win}) = \\prob(\\text{bigly})$"
   ]
  },
  {
   "cell_type": "markdown",
   "metadata": {
    "hideCode": false,
    "hidePrompt": false,
    "slideshow": {
     "slide_type": "slide"
    }
   },
   "source": [
    "## Uniform LM\n",
    "Same probability for each word in a *vocabulary* \\\\(\\vocab\\\\):\n",
    "\n",
    "$$\n",
    "\\prob(w_i|w_1,\\ldots,w_{i-1}) = \\frac{1}{|\\vocab|}.\n",
    "$$\n",
    "\n",
    "$\\prob(\\text{big}) = \\prob(\\text{bigly}) = \\frac{1}{|\\vocab|}$"
   ]
  },
  {
   "cell_type": "markdown",
   "metadata": {
    "hideCode": false,
    "hidePrompt": false,
    "slideshow": {
     "slide_type": "subslide"
    }
   },
   "source": [
    "Let us look at a training set and create a uniform LM from it."
   ]
  },
  {
   "cell_type": "code",
   "execution_count": 65,
   "metadata": {
    "hideCode": false,
    "hidePrompt": false,
    "run_control": {
     "frozen": false,
     "read_only": false
    },
    "slideshow": {
     "slide_type": "fragment"
    }
   },
   "outputs": [
    {
     "data": {
      "text/plain": [
       "['[BAR]', 'Can', \"'t\", 'even', 'call', 'this', 'a', 'blues', 'song', '[/BAR]']"
      ]
     },
     "execution_count": 65,
     "metadata": {},
     "output_type": "execute_result"
    }
   ],
   "source": [
    "train[:10]"
   ]
  },
  {
   "cell_type": "code",
   "execution_count": 66,
   "metadata": {
    "hideCode": false,
    "hidePrompt": false,
    "run_control": {
     "frozen": false,
     "read_only": false
    },
    "slideshow": {
     "slide_type": "fragment"
    }
   },
   "outputs": [
    {
     "data": {
      "text/plain": [
       "0.9999999999999173"
      ]
     },
     "execution_count": 66,
     "metadata": {},
     "output_type": "execute_result"
    }
   ],
   "source": [
    "vocab = set(train)\n",
    "baseline = UniformLM(vocab)\n",
    "sum([baseline.probability(w) for w in vocab])"
   ]
  },
  {
   "cell_type": "markdown",
   "metadata": {
    "hideCode": false,
    "hidePrompt": false,
    "slideshow": {
     "slide_type": "fragment"
    }
   },
   "source": [
    "What about other words? Summing up probabilities?"
   ]
  },
  {
   "cell_type": "markdown",
   "metadata": {
    "hideCode": false,
    "hidePrompt": false,
    "slideshow": {
     "slide_type": "subslide"
    }
   },
   "source": [
    "## Sampling\n",
    "* Sampling from an LM is easy and instructive\n",
    "* Usually, the better the LM, the better the samples"
   ]
  },
  {
   "cell_type": "markdown",
   "metadata": {
    "hideCode": false,
    "hidePrompt": false,
    "slideshow": {
     "slide_type": "subslide"
    }
   },
   "source": [
    "Sample **incrementally**, one word at a time "
   ]
  },
  {
   "cell_type": "code",
   "execution_count": 67,
   "metadata": {
    "hideCode": false,
    "hidePrompt": false,
    "slideshow": {
     "slide_type": "-"
    }
   },
   "outputs": [],
   "source": [
    "def sample_once(lm, history, words):\n",
    "    probs = [lm.probability(word, *history) for word in words]\n",
    "    return np.random.choice(words,p=probs)"
   ]
  },
  {
   "cell_type": "code",
   "execution_count": 68,
   "metadata": {
    "hideCode": false,
    "hidePrompt": false,
    "slideshow": {
     "slide_type": "fragment"
    }
   },
   "outputs": [
    {
     "data": {
      "text/plain": [
       "'awful'"
      ]
     },
     "execution_count": 68,
     "metadata": {},
     "output_type": "execute_result"
    }
   ],
   "source": [
    "sample_once(baseline, [], list(baseline.vocab))    "
   ]
  },
  {
   "cell_type": "code",
   "execution_count": 69,
   "metadata": {
    "hideCode": false,
    "hidePrompt": false,
    "slideshow": {
     "slide_type": "subslide"
    }
   },
   "outputs": [],
   "source": [
    "def sample(lm, initial_history, amount_to_sample):\n",
    "    words = list(lm.vocab)\n",
    "    result = []\n",
    "    result += initial_history\n",
    "    for _ in range(0, amount_to_sample):\n",
    "        history = result[-(lm.order - 1):]\n",
    "        result.append(sample_once(lm,history,words))\n",
    "    return result"
   ]
  },
  {
   "cell_type": "code",
   "execution_count": 70,
   "metadata": {
    "hideCode": false,
    "hidePrompt": false,
    "run_control": {
     "frozen": false,
     "read_only": false
    },
    "slideshow": {
     "slide_type": "subslide"
    }
   },
   "outputs": [
    {
     "data": {
      "text/plain": [
       "['exit',\n",
       " 'bed',\n",
       " 'retire',\n",
       " 'believe',\n",
       " 'guaranteed',\n",
       " 'fall',\n",
       " 'begins',\n",
       " 'shooting',\n",
       " 'Stepped',\n",
       " '50']"
      ]
     },
     "execution_count": 70,
     "metadata": {},
     "output_type": "execute_result"
    }
   ],
   "source": [
    "sample(baseline, [], 10)"
   ]
  },
  {
   "cell_type": "markdown",
   "metadata": {
    "hideCode": false,
    "hidePrompt": false,
    "slideshow": {
     "slide_type": "slide"
    }
   },
   "source": [
    "## Evaluation\n",
    "* **Extrinsic**: how it improves a downstream task?\n",
    "* **Intrinsic**: how good does it model language?"
   ]
  },
  {
   "cell_type": "markdown",
   "metadata": {
    "hideCode": false,
    "hidePrompt": false,
    "slideshow": {
     "slide_type": "subslide"
    }
   },
   "source": [
    "## Intrinsic Evaluation\n",
    "**Shannon Game**: Predict next word, win if prediction match words in actual corpus (or you gave it high probability)\n",
    "\n",
    "> Our horrible trade agreements with [???]\n",
    "\n",
    "Formalised by ..."
   ]
  },
  {
   "cell_type": "markdown",
   "metadata": {
    "hideCode": false,
    "hidePrompt": false,
    "slideshow": {
     "slide_type": "subslide"
    }
   },
   "source": [
    "### Perplexity \n",
    "Given test sequence \\\\(w_1,\\ldots,w_T\\\\), perplexity \\\\(\\perplexity\\\\) is **geometric mean of inverse probabilities**:\n",
    "\n",
    "\\begin{align}\n",
    "\\perplexity(w_1,\\ldots,w_T) &= \\sqrt[T]{\\frac{1}{\\prob(w_1)} \\frac{1}{\\prob(w_2|w_1)} \\ldots} \\\\\n",
    "&= \\sqrt[T]{\\prod_i^T \\frac{1}{\\prob(w_i|w_{i-n},\\ldots,w_{i-1})}}\n",
    "\\end{align}"
   ]
  },
  {
   "cell_type": "markdown",
   "metadata": {
    "hideCode": false,
    "hidePrompt": false,
    "slideshow": {
     "slide_type": "subslide"
    }
   },
   "source": [
    "### Interpretation\n",
    "\n",
    "Consider LM where \n",
    "* at each position there are exactly **2** words with $\\frac{1}{2}$ probability\n",
    "* in test sequence, one of these is always the true word "
   ]
  },
  {
   "cell_type": "raw",
   "metadata": {
    "hide_egal": true,
    "is_egal": true,
    "slideshow": {
     "slide_type": "fragment"
    }
   },
   "source": [
    "<svg height=\"250\" width=\"100%\"><desc>Created with Snap</desc><defs><filter id=\"Sj8mewq2e4o\" filterUnits=\"userSpaceOnUse\"><feGaussianBlur in=\"SourceAlpha\" stdDeviation=\"3\"></feGaussianBlur><feOffset dx=\"0\" dy=\"2\" result=\"offsetblur\"></feOffset><feFlood flood-color=\"#000000\"></feFlood><feComposite in2=\"offsetblur\" operator=\"in\"></feComposite><feComponentTransfer><feFuncA type=\"linear\" slope=\"1\"></feFuncA></feComponentTransfer><feMerge><feMergeNode></feMergeNode><feMergeNode in=\"SourceGraphic\"></feMergeNode></feMerge></filter><marker viewBox=\"0 0 10 10\" markerWidth=\"10\" markerHeight=\"10\" orient=\"auto\" refX=\"9\" refY=\"3\" id=\"arrowEndMarker\"><polygon points=\"0,0,0,6,9,3,0,0\" fill=\"#323232\" id=\"arrow\" style=\"\"></polygon></marker><marker viewBox=\"0 0 10 10\" markerWidth=\"10\" markerHeight=\"10\" orient=\"auto\" refX=\"0\" refY=\"3\" id=\"arrowStartMarker\"><polygon points=\"0,3,9,0,9,6,0,3\" fill=\"#323232\" id=\"startArrow\" style=\"\"></polygon></marker><filter id=\"Sj8mfrvs23\" filterUnits=\"userSpaceOnUse\"><feGaussianBlur in=\"SourceAlpha\" stdDeviation=\"3\"></feGaussianBlur><feOffset dx=\"0\" dy=\"2\" result=\"offsetblur\"></feOffset><feFlood flood-color=\"#000000\"></feFlood><feComposite in2=\"offsetblur\" operator=\"in\"></feComposite><feComponentTransfer><feFuncA type=\"linear\" slope=\"1\"></feFuncA></feComponentTransfer><feMerge><feMergeNode></feMergeNode><feMergeNode in=\"SourceGraphic\"></feMergeNode></feMerge></filter><marker viewBox=\"0 0 10 10\" markerWidth=\"10\" markerHeight=\"10\" orient=\"auto\" refX=\"9\" refY=\"3\" id=\"arrowEndMarker\"><polygon points=\"0,0,0,6,9,3,0,0\" fill=\"#323232\" id=\"arrow\" style=\"\"></polygon></marker><marker viewBox=\"0 0 10 10\" markerWidth=\"10\" markerHeight=\"10\" orient=\"auto\" refX=\"0\" refY=\"3\" id=\"arrowStartMarker\"><polygon points=\"0,3,9,0,9,6,0,3\" fill=\"#323232\" id=\"startArrow\" style=\"\"></polygon></marker></defs><g id=\"drup_elem_1\" class=\"drupElem\"><rect x=\"66.578125\" y=\"35.1875\" width=\"134\" height=\"58\" fill=\"orange\" stroke=\"#000000\" vector-effect=\"non-scaling-stroke\" style=\"stroke-width: 0;\" class=\"core alignable sub\" transform=\"matrix(1,0,0,1,2,0)\"></rect><circle cx=\"133.578125\" cy=\"35.1875\" r=\"5\" stroke=\"#000000\" fill=\"#ffffff\" id=\"drup_elem_1_endpoint_0\" style=\"stroke-width: 1; opacity: 0;\" class=\"endPoint up sub\" transform=\"matrix(1,0,0,1,2,0)\"></circle><circle cx=\"133.578125\" cy=\"93.1875\" r=\"5\" stroke=\"#000000\" fill=\"#ffffff\" id=\"drup_elem_1_endpoint_1\" style=\"stroke-width: 1; opacity: 0;\" class=\"endPoint down sub\" transform=\"matrix(1,0,0,1,2,0)\"></circle><circle cx=\"66.578125\" cy=\"64.1875\" r=\"5\" stroke=\"#000000\" fill=\"#ffffff\" id=\"drup_elem_1_endpoint_2\" style=\"stroke-width: 1; opacity: 0;\" class=\"endPoint left sub\" transform=\"matrix(1,0,0,1,2,0)\"></circle><circle cx=\"200.578125\" cy=\"64.1875\" r=\"5\" stroke=\"#000000\" fill=\"#ffffff\" id=\"drup_elem_1_endpoint_3\" style=\"stroke-width: 1; opacity: 0;\" class=\"endPoint right sub\" transform=\"matrix(1,0,0,1,2,0)\"></circle><circle cx=\"66.578125\" cy=\"35.1875\" r=\"5\" stroke=\"#000000\" fill=\"#ffffff\" id=\"drup_elem_1_endpoint_4\" style=\"stroke-width: 1; opacity: 0;\" class=\"endPoint left-up sub\" transform=\"matrix(1,0,0,1,2,0)\"></circle><circle cx=\"66.578125\" cy=\"93.1875\" r=\"5\" stroke=\"#000000\" fill=\"#ffffff\" id=\"drup_elem_1_endpoint_5\" style=\"stroke-width: 1; opacity: 0;\" class=\"endPoint left-down sub\" transform=\"matrix(1,0,0,1,2,0)\"></circle><circle cx=\"200.578125\" cy=\"35.1875\" r=\"5\" stroke=\"#000000\" fill=\"#ffffff\" id=\"drup_elem_1_endpoint_6\" style=\"stroke-width: 1; opacity: 0;\" class=\"endPoint right-up sub\" transform=\"matrix(1,0,0,1,2,0)\"></circle><circle cx=\"200.578125\" cy=\"93.1875\" r=\"5\" stroke=\"#000000\" fill=\"#ffffff\" id=\"drup_elem_1_endpoint_7\" style=\"stroke-width: 1; opacity: 0;\" class=\"endPoint right-down sub\" transform=\"matrix(1,0,0,1,2,0)\"></circle><text x=\"133.578125\" y=\"64.1875\" style=\"font-size: 20px; text-anchor: middle; alignment-baseline: central; opacity: 1; visibility: visible;\" class=\"egal-label sub\" transform=\"matrix(1,0,0,1,2,0)\" data-src=\"she\">she</text></g><g id=\"drup_elem_6\" class=\"drupElem egal-select\"><rect x=\"66.578125\" y=\"35.1875\" width=\"134\" height=\"58\" fill=\"lightgrey\" stroke=\"#000000\" vector-effect=\"non-scaling-stroke\" style=\"stroke-width: 0;\" class=\"core alignable sub\" transform=\"matrix(1,0,0,1,185,0)\"></rect><circle cx=\"133.578125\" cy=\"35.1875\" r=\"5\" stroke=\"#000000\" fill=\"#ffffff\" id=\"drup_elem_6_endpoint_0\" style=\"stroke-width: 1; opacity: 0;\" class=\"endPoint up sub\" transform=\"matrix(1,0,0,1,185,0)\"></circle><circle cx=\"133.578125\" cy=\"93.1875\" r=\"5\" stroke=\"#000000\" fill=\"#ffffff\" id=\"drup_elem_6_endpoint_1\" style=\"stroke-width: 1; opacity: 0;\" class=\"endPoint down sub\" transform=\"matrix(1,0,0,1,185,0)\"></circle><circle cx=\"66.578125\" cy=\"64.1875\" r=\"5\" stroke=\"#000000\" fill=\"#ffffff\" id=\"drup_elem_6_endpoint_2\" style=\"stroke-width: 1; opacity: 0;\" class=\"endPoint left sub\" transform=\"matrix(1,0,0,1,185,0)\"></circle><circle cx=\"200.578125\" cy=\"64.1875\" r=\"5\" stroke=\"#000000\" fill=\"#ffffff\" id=\"drup_elem_6_endpoint_3\" style=\"stroke-width: 1; opacity: 0;\" class=\"endPoint right sub\" transform=\"matrix(1,0,0,1,185,0)\"></circle><circle cx=\"66.578125\" cy=\"35.1875\" r=\"5\" stroke=\"#000000\" fill=\"#ffffff\" id=\"drup_elem_6_endpoint_4\" style=\"stroke-width: 1; opacity: 0;\" class=\"endPoint left-up sub\" transform=\"matrix(1,0,0,1,185,0)\"></circle><circle cx=\"66.578125\" cy=\"93.1875\" r=\"5\" stroke=\"#000000\" fill=\"#ffffff\" id=\"drup_elem_6_endpoint_5\" style=\"stroke-width: 1; opacity: 0;\" class=\"endPoint left-down sub\" transform=\"matrix(1,0,0,1,185,0)\"></circle><circle cx=\"200.578125\" cy=\"35.1875\" r=\"5\" stroke=\"#000000\" fill=\"#ffffff\" id=\"drup_elem_6_endpoint_6\" style=\"stroke-width: 1; opacity: 0;\" class=\"endPoint right-up sub\" transform=\"matrix(1,0,0,1,185,0)\"></circle><circle cx=\"200.578125\" cy=\"93.1875\" r=\"5\" stroke=\"#000000\" fill=\"#ffffff\" id=\"drup_elem_6_endpoint_7\" style=\"stroke-width: 1; opacity: 0;\" class=\"endPoint right-down sub\" transform=\"matrix(1,0,0,1,185,0)\"></circle><text x=\"133.578125\" y=\"64.1875\" style=\"font-size: 20px; text-anchor: middle; alignment-baseline: central; opacity: 1; visibility: visible;\" class=\"egal-label sub\" transform=\"matrix(1,0,0,1,185,0)\" data-src=\"raps\">raps</text></g><g id=\"drup_elem_7\" class=\"drupElem\"><rect x=\"66.578125\" y=\"35.1875\" width=\"134\" height=\"58\" fill=\"orange\" stroke=\"red\" vector-effect=\"non-scaling-stroke\" style=\"stroke-width: 5;\" class=\"core alignable sub\" transform=\"matrix(1,0,0,1,367,0)\"></rect><circle cx=\"133.578125\" cy=\"35.1875\" r=\"5\" stroke=\"#000000\" fill=\"#ffffff\" id=\"drup_elem_7_endpoint_0\" style=\"stroke-width: 1; opacity: 0;\" class=\"endPoint up sub\" transform=\"matrix(1,0,0,1,367,0)\"></circle><circle cx=\"133.578125\" cy=\"93.1875\" r=\"5\" stroke=\"#000000\" fill=\"#ffffff\" id=\"drup_elem_7_endpoint_1\" style=\"stroke-width: 1; opacity: 0;\" class=\"endPoint down sub\" transform=\"matrix(1,0,0,1,367,0)\"></circle><circle cx=\"66.578125\" cy=\"64.1875\" r=\"5\" stroke=\"#000000\" fill=\"#ffffff\" id=\"drup_elem_7_endpoint_2\" style=\"stroke-width: 1; opacity: 0;\" class=\"endPoint left sub\" transform=\"matrix(1,0,0,1,367,0)\"></circle><circle cx=\"200.578125\" cy=\"64.1875\" r=\"5\" stroke=\"#000000\" fill=\"#ffffff\" id=\"drup_elem_7_endpoint_3\" style=\"stroke-width: 1; opacity: 0;\" class=\"endPoint right sub\" transform=\"matrix(1,0,0,1,367,0)\"></circle><circle cx=\"66.578125\" cy=\"35.1875\" r=\"5\" stroke=\"#000000\" fill=\"#ffffff\" id=\"drup_elem_7_endpoint_4\" style=\"stroke-width: 1; opacity: 0;\" class=\"endPoint left-up sub\" transform=\"matrix(1,0,0,1,367,0)\"></circle><circle cx=\"66.578125\" cy=\"93.1875\" r=\"5\" stroke=\"#000000\" fill=\"#ffffff\" id=\"drup_elem_7_endpoint_5\" style=\"stroke-width: 1; opacity: 0;\" class=\"endPoint left-down sub\" transform=\"matrix(1,0,0,1,367,0)\"></circle><circle cx=\"200.578125\" cy=\"35.1875\" r=\"5\" stroke=\"#000000\" fill=\"#ffffff\" id=\"drup_elem_7_endpoint_6\" style=\"stroke-width: 1; opacity: 0;\" class=\"endPoint right-up sub\" transform=\"matrix(1,0,0,1,367,0)\"></circle><circle cx=\"200.578125\" cy=\"93.1875\" r=\"5\" stroke=\"#000000\" fill=\"#ffffff\" id=\"drup_elem_7_endpoint_7\" style=\"stroke-width: 1; opacity: 0;\" class=\"endPoint right-down sub\" transform=\"matrix(1,0,0,1,367,0)\"></circle><text x=\"133.578125\" y=\"64.1875\" style=\"font-size: 20px; text-anchor: middle; alignment-baseline: central; opacity: 1; visibility: visible;\" class=\"egal-label sub\" transform=\"matrix(1,0,0,1,367,0)\" data-src=\"bigly\">bigly</text></g><g id=\"drup_elem_2\" class=\"drupElem egal-select\"><rect x=\"66.578125\" y=\"35.1875\" width=\"134\" height=\"58\" fill=\"lightgrey\" stroke=\"#000000\" vector-effect=\"non-scaling-stroke\" style=\"stroke-width: 0;\" class=\"core alignable sub\" transform=\"matrix(1,0,0,1,2,150)\"></rect><circle cx=\"133.578125\" cy=\"35.1875\" r=\"5\" stroke=\"#000000\" fill=\"#ffffff\" id=\"drup_elem_2_endpoint_0\" style=\"stroke-width: 1; opacity: 0;\" class=\"endPoint up sub\" transform=\"matrix(1,0,0,1,2,150)\"></circle><circle cx=\"133.578125\" cy=\"93.1875\" r=\"5\" stroke=\"#000000\" fill=\"#ffffff\" id=\"drup_elem_2_endpoint_1\" style=\"stroke-width: 1; opacity: 0;\" class=\"endPoint down sub\" transform=\"matrix(1,0,0,1,2,150)\"></circle><circle cx=\"66.578125\" cy=\"64.1875\" r=\"5\" stroke=\"#000000\" fill=\"#ffffff\" id=\"drup_elem_2_endpoint_2\" style=\"stroke-width: 1; opacity: 0;\" class=\"endPoint left sub\" transform=\"matrix(1,0,0,1,2,150)\"></circle><circle cx=\"200.578125\" cy=\"64.1875\" r=\"5\" stroke=\"#000000\" fill=\"#ffffff\" id=\"drup_elem_2_endpoint_3\" style=\"stroke-width: 1; opacity: 0;\" class=\"endPoint right sub\" transform=\"matrix(1,0,0,1,2,150)\"></circle><circle cx=\"66.578125\" cy=\"35.1875\" r=\"5\" stroke=\"#000000\" fill=\"#ffffff\" id=\"drup_elem_2_endpoint_4\" style=\"stroke-width: 1; opacity: 0;\" class=\"endPoint left-up sub\" transform=\"matrix(1,0,0,1,2,150)\"></circle><circle cx=\"66.578125\" cy=\"93.1875\" r=\"5\" stroke=\"#000000\" fill=\"#ffffff\" id=\"drup_elem_2_endpoint_5\" style=\"stroke-width: 1; opacity: 0;\" class=\"endPoint left-down sub\" transform=\"matrix(1,0,0,1,2,150)\"></circle><circle cx=\"200.578125\" cy=\"35.1875\" r=\"5\" stroke=\"#000000\" fill=\"#ffffff\" id=\"drup_elem_2_endpoint_6\" style=\"stroke-width: 1; opacity: 0;\" class=\"endPoint right-up sub\" transform=\"matrix(1,0,0,1,2,150)\"></circle><circle cx=\"200.578125\" cy=\"93.1875\" r=\"5\" stroke=\"#000000\" fill=\"#ffffff\" id=\"drup_elem_2_endpoint_7\" style=\"stroke-width: 1; opacity: 0;\" class=\"endPoint right-down sub\" transform=\"matrix(1,0,0,1,2,150)\"></circle><text x=\"133.578125\" y=\"64.1875\" style=\"font-size: 20px; text-anchor: middle; alignment-baseline: central; opacity: 1; visibility: visible;\" class=\"egal-label sub\" transform=\"matrix(1,0,0,1,2,150)\" data-src=\"Matko\">Matko</text></g><g id=\"drup_elem_4\" class=\"drupElem\"><rect x=\"66.578125\" y=\"35.1875\" width=\"134\" height=\"58\" fill=\"orange\" stroke=\"red\" vector-effect=\"non-scaling-stroke\" style=\"stroke-width: 5;\" class=\"core alignable sub\" transform=\"matrix(1,0,0,1,184,150)\"></rect><circle cx=\"133.578125\" cy=\"35.1875\" r=\"5\" stroke=\"#000000\" fill=\"#ffffff\" id=\"drup_elem_4_endpoint_0\" style=\"stroke-width: 1; opacity: 0;\" class=\"endPoint up sub\" transform=\"matrix(1,0,0,1,184,150)\"></circle><circle cx=\"133.578125\" cy=\"93.1875\" r=\"5\" stroke=\"#000000\" fill=\"#ffffff\" id=\"drup_elem_4_endpoint_1\" style=\"stroke-width: 1; opacity: 0;\" class=\"endPoint down sub\" transform=\"matrix(1,0,0,1,184,150)\"></circle><circle cx=\"66.578125\" cy=\"64.1875\" r=\"5\" stroke=\"#000000\" fill=\"#ffffff\" id=\"drup_elem_4_endpoint_2\" style=\"stroke-width: 1; opacity: 0;\" class=\"endPoint left sub\" transform=\"matrix(1,0,0,1,184,150)\"></circle><circle cx=\"200.578125\" cy=\"64.1875\" r=\"5\" stroke=\"#000000\" fill=\"#ffffff\" id=\"drup_elem_4_endpoint_3\" style=\"stroke-width: 1; opacity: 0;\" class=\"endPoint right sub\" transform=\"matrix(1,0,0,1,184,150)\"></circle><circle cx=\"66.578125\" cy=\"35.1875\" r=\"5\" stroke=\"#000000\" fill=\"#ffffff\" id=\"drup_elem_4_endpoint_4\" style=\"stroke-width: 1; opacity: 0;\" class=\"endPoint left-up sub\" transform=\"matrix(1,0,0,1,184,150)\"></circle><circle cx=\"66.578125\" cy=\"93.1875\" r=\"5\" stroke=\"#000000\" fill=\"#ffffff\" id=\"drup_elem_4_endpoint_5\" style=\"stroke-width: 1; opacity: 0;\" class=\"endPoint left-down sub\" transform=\"matrix(1,0,0,1,184,150)\"></circle><circle cx=\"200.578125\" cy=\"35.1875\" r=\"5\" stroke=\"#000000\" fill=\"#ffffff\" id=\"drup_elem_4_endpoint_6\" style=\"stroke-width: 1; opacity: 0;\" class=\"endPoint right-up sub\" transform=\"matrix(1,0,0,1,184,150)\"></circle><circle cx=\"200.578125\" cy=\"93.1875\" r=\"5\" stroke=\"#000000\" fill=\"#ffffff\" id=\"drup_elem_4_endpoint_7\" style=\"stroke-width: 1; opacity: 0;\" class=\"endPoint right-down sub\" transform=\"matrix(1,0,0,1,184,150)\"></circle><text x=\"133.578125\" y=\"64.1875\" style=\"font-size: 20px; text-anchor: middle; alignment-baseline: central; opacity: 1; visibility: visible;\" class=\"egal-label sub\" transform=\"matrix(1,0,0,1,184,150)\" data-src=\"won\">won</text></g><g id=\"drup_elem_9\" class=\"drupElem egal-select\"><rect x=\"66.578125\" y=\"35.1875\" width=\"134\" height=\"58\" fill=\"lightgrey\" stroke=\"#000000\" vector-effect=\"non-scaling-stroke\" style=\"stroke-width: 0;\" class=\"core alignable sub\" transform=\"matrix(1,0,0,1,367,150)\"></rect><circle cx=\"133.578125\" cy=\"35.1875\" r=\"5\" stroke=\"#000000\" fill=\"#ffffff\" id=\"drup_elem_9_endpoint_0\" style=\"stroke-width: 1; opacity: 0;\" class=\"endPoint up sub\" transform=\"matrix(1,0,0,1,367,150)\"></circle><circle cx=\"133.578125\" cy=\"93.1875\" r=\"5\" stroke=\"#000000\" fill=\"#ffffff\" id=\"drup_elem_9_endpoint_1\" style=\"stroke-width: 1; opacity: 0;\" class=\"endPoint down sub\" transform=\"matrix(1,0,0,1,367,150)\"></circle><circle cx=\"66.578125\" cy=\"64.1875\" r=\"5\" stroke=\"#000000\" fill=\"#ffffff\" id=\"drup_elem_9_endpoint_2\" style=\"stroke-width: 1; opacity: 0;\" class=\"endPoint left sub\" transform=\"matrix(1,0,0,1,367,150)\"></circle><circle cx=\"200.578125\" cy=\"64.1875\" r=\"5\" stroke=\"#000000\" fill=\"#ffffff\" id=\"drup_elem_9_endpoint_3\" style=\"stroke-width: 1; opacity: 0;\" class=\"endPoint right sub\" transform=\"matrix(1,0,0,1,367,150)\"></circle><circle cx=\"66.578125\" cy=\"35.1875\" r=\"5\" stroke=\"#000000\" fill=\"#ffffff\" id=\"drup_elem_9_endpoint_4\" style=\"stroke-width: 1; opacity: 0;\" class=\"endPoint left-up sub\" transform=\"matrix(1,0,0,1,367,150)\"></circle><circle cx=\"66.578125\" cy=\"93.1875\" r=\"5\" stroke=\"#000000\" fill=\"#ffffff\" id=\"drup_elem_9_endpoint_5\" style=\"stroke-width: 1; opacity: 0;\" class=\"endPoint left-down sub\" transform=\"matrix(1,0,0,1,367,150)\"></circle><circle cx=\"200.578125\" cy=\"35.1875\" r=\"5\" stroke=\"#000000\" fill=\"#ffffff\" id=\"drup_elem_9_endpoint_6\" style=\"stroke-width: 1; opacity: 0;\" class=\"endPoint right-up sub\" transform=\"matrix(1,0,0,1,367,150)\"></circle><circle cx=\"200.578125\" cy=\"93.1875\" r=\"5\" stroke=\"#000000\" fill=\"#ffffff\" id=\"drup_elem_9_endpoint_7\" style=\"stroke-width: 1; opacity: 0;\" class=\"endPoint right-down sub\" transform=\"matrix(1,0,0,1,367,150)\"></circle><text x=\"133.578125\" y=\"64.1875\" style=\"font-size: 20px; text-anchor: middle; alignment-baseline: central; opacity: 1; visibility: visible;\" class=\"egal-label sub\" transform=\"matrix(1,0,0,1,367,150)\" data-src=\"strongly\">strongly</text></g><g id=\"drup_elem_3\" class=\"drupElem\"><rect x=\"66.578125\" y=\"35.1875\" width=\"134\" height=\"58\" fill=\"orange\" stroke=\"red\" vector-effect=\"non-scaling-stroke\" style=\"stroke-width: 5;\" class=\"core alignable sub\" transform=\"matrix(1,0,0,1,2,75)\"></rect><circle cx=\"133.578125\" cy=\"35.1875\" r=\"5\" stroke=\"#000000\" fill=\"#ffffff\" id=\"drup_elem_3_endpoint_0\" style=\"stroke-width: 1; opacity: 0;\" class=\"endPoint up sub\" transform=\"matrix(1,0,0,1,2,75)\"></circle><circle cx=\"133.578125\" cy=\"93.1875\" r=\"5\" stroke=\"#000000\" fill=\"#ffffff\" id=\"drup_elem_3_endpoint_1\" style=\"stroke-width: 1; opacity: 0;\" class=\"endPoint down sub\" transform=\"matrix(1,0,0,1,2,75)\"></circle><circle cx=\"66.578125\" cy=\"64.1875\" r=\"5\" stroke=\"#000000\" fill=\"#ffffff\" id=\"drup_elem_3_endpoint_2\" style=\"stroke-width: 1; opacity: 0;\" class=\"endPoint left sub\" transform=\"matrix(1,0,0,1,2,75)\"></circle><circle cx=\"200.578125\" cy=\"64.1875\" r=\"5\" stroke=\"#000000\" fill=\"#ffffff\" id=\"drup_elem_3_endpoint_3\" style=\"stroke-width: 1; opacity: 0;\" class=\"endPoint right sub\" transform=\"matrix(1,0,0,1,2,75)\"></circle><circle cx=\"66.578125\" cy=\"35.1875\" r=\"5\" stroke=\"#000000\" fill=\"#ffffff\" id=\"drup_elem_3_endpoint_4\" style=\"stroke-width: 1; opacity: 0;\" class=\"endPoint left-up sub\" transform=\"matrix(1,0,0,1,2,75)\"></circle><circle cx=\"66.578125\" cy=\"93.1875\" r=\"5\" stroke=\"#000000\" fill=\"#ffffff\" id=\"drup_elem_3_endpoint_5\" style=\"stroke-width: 1; opacity: 0;\" class=\"endPoint left-down sub\" transform=\"matrix(1,0,0,1,2,75)\"></circle><circle cx=\"200.578125\" cy=\"35.1875\" r=\"5\" stroke=\"#000000\" fill=\"#ffffff\" id=\"drup_elem_3_endpoint_6\" style=\"stroke-width: 1; opacity: 0;\" class=\"endPoint right-up sub\" transform=\"matrix(1,0,0,1,2,75)\"></circle><circle cx=\"200.578125\" cy=\"93.1875\" r=\"5\" stroke=\"#000000\" fill=\"#ffffff\" id=\"drup_elem_3_endpoint_7\" style=\"stroke-width: 1; opacity: 0;\" class=\"endPoint right-down sub\" transform=\"matrix(1,0,0,1,2,75)\"></circle><text x=\"133.578125\" y=\"64.1875\" style=\"font-size: 20px; text-anchor: middle; alignment-baseline: central; opacity: 1; visibility: visible;\" class=\"egal-label sub\" transform=\"matrix(1,0,0,1,2,75)\" data-src=\"he\">he</text></g><g id=\"drup_elem_5\" class=\"drupElem\"><rect x=\"66.578125\" y=\"35.1875\" width=\"134\" height=\"58\" fill=\"orange\" stroke=\"#000000\" vector-effect=\"non-scaling-stroke\" style=\"stroke-width: 0;\" class=\"core alignable sub\" transform=\"matrix(1,0,0,1,184,75)\"></rect><circle cx=\"133.578125\" cy=\"35.1875\" r=\"5\" stroke=\"#000000\" fill=\"#ffffff\" id=\"drup_elem_5_endpoint_0\" style=\"stroke-width: 1; opacity: 0;\" class=\"endPoint up sub\" transform=\"matrix(1,0,0,1,184,75)\"></circle><circle cx=\"133.578125\" cy=\"93.1875\" r=\"5\" stroke=\"#000000\" fill=\"#ffffff\" id=\"drup_elem_5_endpoint_1\" style=\"stroke-width: 1; opacity: 0;\" class=\"endPoint down sub\" transform=\"matrix(1,0,0,1,184,75)\"></circle><circle cx=\"66.578125\" cy=\"64.1875\" r=\"5\" stroke=\"#000000\" fill=\"#ffffff\" id=\"drup_elem_5_endpoint_2\" style=\"stroke-width: 1; opacity: 0;\" class=\"endPoint left sub\" transform=\"matrix(1,0,0,1,184,75)\"></circle><circle cx=\"200.578125\" cy=\"64.1875\" r=\"5\" stroke=\"#000000\" fill=\"#ffffff\" id=\"drup_elem_5_endpoint_3\" style=\"stroke-width: 1; opacity: 0;\" class=\"endPoint right sub\" transform=\"matrix(1,0,0,1,184,75)\"></circle><circle cx=\"66.578125\" cy=\"35.1875\" r=\"5\" stroke=\"#000000\" fill=\"#ffffff\" id=\"drup_elem_5_endpoint_4\" style=\"stroke-width: 1; opacity: 0;\" class=\"endPoint left-up sub\" transform=\"matrix(1,0,0,1,184,75)\"></circle><circle cx=\"66.578125\" cy=\"93.1875\" r=\"5\" stroke=\"#000000\" fill=\"#ffffff\" id=\"drup_elem_5_endpoint_5\" style=\"stroke-width: 1; opacity: 0;\" class=\"endPoint left-down sub\" transform=\"matrix(1,0,0,1,184,75)\"></circle><circle cx=\"200.578125\" cy=\"35.1875\" r=\"5\" stroke=\"#000000\" fill=\"#ffffff\" id=\"drup_elem_5_endpoint_6\" style=\"stroke-width: 1; opacity: 0;\" class=\"endPoint right-up sub\" transform=\"matrix(1,0,0,1,184,75)\"></circle><circle cx=\"200.578125\" cy=\"93.1875\" r=\"5\" stroke=\"#000000\" fill=\"#ffffff\" id=\"drup_elem_5_endpoint_7\" style=\"stroke-width: 1; opacity: 0;\" class=\"endPoint right-down sub\" transform=\"matrix(1,0,0,1,184,75)\"></circle><text x=\"133.578125\" y=\"64.1875\" style=\"font-size: 20px; text-anchor: middle; alignment-baseline: central; opacity: 1; visibility: visible;\" class=\"egal-label sub\" transform=\"matrix(1,0,0,1,184,75)\" data-src=\"lost\">lost</text></g><g id=\"drup_elem_8\" class=\"drupElem\"><rect x=\"66.578125\" y=\"35.1875\" width=\"134\" height=\"58\" fill=\"orange\" stroke=\"#000000\" vector-effect=\"non-scaling-stroke\" style=\"stroke-width: 0;\" class=\"core alignable sub\" transform=\"matrix(1,0,0,1,367,75)\"></rect><circle cx=\"133.578125\" cy=\"35.1875\" r=\"5\" stroke=\"#000000\" fill=\"#ffffff\" id=\"drup_elem_8_endpoint_0\" style=\"stroke-width: 1; opacity: 0;\" class=\"endPoint up sub\" transform=\"matrix(1,0,0,1,367,75)\"></circle><circle cx=\"133.578125\" cy=\"93.1875\" r=\"5\" stroke=\"#000000\" fill=\"#ffffff\" id=\"drup_elem_8_endpoint_1\" style=\"stroke-width: 1; opacity: 0;\" class=\"endPoint down sub\" transform=\"matrix(1,0,0,1,367,75)\"></circle><circle cx=\"66.578125\" cy=\"64.1875\" r=\"5\" stroke=\"#000000\" fill=\"#ffffff\" id=\"drup_elem_8_endpoint_2\" style=\"stroke-width: 1; opacity: 0;\" class=\"endPoint left sub\" transform=\"matrix(1,0,0,1,367,75)\"></circle><circle cx=\"200.578125\" cy=\"64.1875\" r=\"5\" stroke=\"#000000\" fill=\"#ffffff\" id=\"drup_elem_8_endpoint_3\" style=\"stroke-width: 1; opacity: 0;\" class=\"endPoint right sub\" transform=\"matrix(1,0,0,1,367,75)\"></circle><circle cx=\"66.578125\" cy=\"35.1875\" r=\"5\" stroke=\"#000000\" fill=\"#ffffff\" id=\"drup_elem_8_endpoint_4\" style=\"stroke-width: 1; opacity: 0;\" class=\"endPoint left-up sub\" transform=\"matrix(1,0,0,1,367,75)\"></circle><circle cx=\"66.578125\" cy=\"93.1875\" r=\"5\" stroke=\"#000000\" fill=\"#ffffff\" id=\"drup_elem_8_endpoint_5\" style=\"stroke-width: 1; opacity: 0;\" class=\"endPoint left-down sub\" transform=\"matrix(1,0,0,1,367,75)\"></circle><circle cx=\"200.578125\" cy=\"35.1875\" r=\"5\" stroke=\"#000000\" fill=\"#ffffff\" id=\"drup_elem_8_endpoint_6\" style=\"stroke-width: 1; opacity: 0;\" class=\"endPoint right-up sub\" transform=\"matrix(1,0,0,1,367,75)\"></circle><circle cx=\"200.578125\" cy=\"93.1875\" r=\"5\" stroke=\"#000000\" fill=\"#ffffff\" id=\"drup_elem_8_endpoint_7\" style=\"stroke-width: 1; opacity: 0;\" class=\"endPoint right-down sub\" transform=\"matrix(1,0,0,1,367,75)\"></circle><text x=\"133.578125\" y=\"64.1875\" style=\"font-size: 20px; text-anchor: middle; alignment-baseline: central; opacity: 1; visibility: visible;\" class=\"egal-label sub\" transform=\"matrix(1,0,0,1,367,75)\" data-src=\"smally\">smally</text></g><g id=\"drup_elem_11\" class=\"drupElem\"><text x=\"675.578125\" y=\"134.1875\" class=\"core alignable sub egal-label\" style=\"text-anchor: middle; alignment-baseline: central;\"></text></g><g id=\"drup_elem_12\" class=\"drupElem\"><text x=\"652.578125\" y=\"119.1875\" class=\"core alignable sub egal-label\" style=\"text-anchor: middle; alignment-baseline: central; font-size: 20px;\"></text></g><g id=\"drup_elem_13\" class=\"drupElem\"><text x=\"659.578125\" y=\"104.1875\" class=\"core alignable sub egal-label\" style=\"text-anchor: middle; alignment-baseline: central; font-size: 20px;\"></text></g><g id=\"drup_elem_15\" class=\"drupElem\"><text x=\"43.578125\" y=\"67.1875\" class=\"core alignable sub egal-label\" style=\"text-anchor: middle; alignment-baseline: central; font-size: 20px;\" data-src=\"0.5\">0.5</text></g><g id=\"drup_elem_18\" class=\"drupElem\"><text x=\"43.578125\" y=\"67.1875\" class=\"core alignable sub egal-label\" style=\"text-anchor: middle; alignment-baseline: central; font-size: 20px;\" data-src=\"0.5\" transform=\"matrix(1,0,0,1,0,72)\">0.5</text></g><g id=\"drup_elem_23\" class=\"drupElem\"><text x=\"43.578125\" y=\"67.1875\" class=\"core alignable sub egal-label\" style=\"text-anchor: middle; alignment-baseline: central; font-size: 20px; visibility: visible; opacity: 1;\" data-src=\"0.0\" transform=\"matrix(1,0,0,1,0,146)\">0.0</text></g><g id=\"drup_elem_16\" class=\"drupElem\"><text x=\"39.578125\" y=\"94.1875\" class=\"core alignable sub egal-label\" style=\"text-anchor: middle; alignment-baseline: central; font-size: 20px;\"></text></g><g id=\"drup_elem_17\" class=\"drupElem\"><text x=\"52.578125\" y=\"72.1875\" class=\"core alignable sub egal-label\" style=\"text-anchor: middle; alignment-baseline: central; font-size: 20px;\"></text></g></svg>"
   ]
  },
  {
   "cell_type": "markdown",
   "metadata": {
    "hideCode": false,
    "hidePrompt": false,
    "slideshow": {
     "slide_type": "subslide"
    }
   },
   "source": [
    "Then \n",
    "\n",
    "* $\\perplexity(w_1,\\ldots,w_T) = \\sqrt[T]{2 \\cdot 2  \\cdot\\ldots} = 2$\n",
    "* Perplexity $\\approx$ average number of choices"
   ]
  },
  {
   "cell_type": "markdown",
   "metadata": {
    "hideCode": false,
    "hidePrompt": false,
    "slideshow": {
     "slide_type": "subslide"
    }
   },
   "source": [
    "Perplexity of uniform LM on an **unseen** test set?"
   ]
  },
  {
   "cell_type": "code",
   "execution_count": 71,
   "metadata": {
    "hideCode": false,
    "hidePrompt": false,
    "run_control": {
     "frozen": false,
     "read_only": false
    },
    "slideshow": {
     "slide_type": "fragment"
    }
   },
   "outputs": [
    {
     "data": {
      "text/plain": [
       "inf"
      ]
     },
     "execution_count": 71,
     "metadata": {},
     "output_type": "execute_result"
    }
   ],
   "source": [
    "perplexity(baseline, test)"
   ]
  },
  {
   "cell_type": "markdown",
   "metadata": {
    "hideCode": false,
    "hidePrompt": false,
    "slideshow": {
     "slide_type": "subslide"
    }
   },
   "source": [
    "Problem: model assigns **zero probability** to words not in the vocabulary. "
   ]
  },
  {
   "cell_type": "code",
   "execution_count": 72,
   "metadata": {
    "hideCode": false,
    "hidePrompt": false,
    "run_control": {
     "frozen": false,
     "read_only": false
    },
    "slideshow": {
     "slide_type": "subslide"
    }
   },
   "outputs": [
    {
     "data": {
      "text/plain": [
       "[('does', 0.0), ('Ceremonies', 0.0), ('Masquerading', 0.0)]"
      ]
     },
     "execution_count": 72,
     "metadata": {},
     "output_type": "execute_result"
    }
   ],
   "source": [
    "[(w,baseline.probability(w)) for w in test if w not in vocab][:3]"
   ]
  },
  {
   "cell_type": "markdown",
   "metadata": {
    "hideCode": false,
    "hidePrompt": false,
    "slideshow": {
     "slide_type": "slide"
    }
   },
   "source": [
    "## The Long Tail\n",
    "New words not specific to our corpus: \n",
    "* long **tail** of words that appear only a few times\n",
    "* each has low probability, but probability of seeing any long tail word is high\n"
   ]
  },
  {
   "cell_type": "markdown",
   "metadata": {
    "hideCode": false,
    "hidePrompt": false,
    "slideshow": {
     "slide_type": "subslide"
    }
   },
   "source": [
    "Let us plot word frequency ranks (x-axis) against frequency (y-axis) "
   ]
  },
  {
   "cell_type": "code",
   "execution_count": 73,
   "metadata": {
    "hideCode": false,
    "hidePrompt": false,
    "run_control": {
     "frozen": false,
     "read_only": false
    },
    "slideshow": {
     "slide_type": "subslide"
    }
   },
   "outputs": [
    {
     "data": {
      "text/plain": [
       "[<matplotlib.lines.Line2D at 0x7fd735792710>]"
      ]
     },
     "execution_count": 73,
     "metadata": {},
     "output_type": "execute_result"
    },
    {
     "data": {
      "image/png": "[encoded data removed]",
      "text/plain": [
       "<matplotlib.figure.Figure at 0x7fd73534afd0>"
      ]
     },
     "metadata": {},
     "output_type": "display_data"
    }
   ],
   "source": [
    "plt.xscale('log')\n",
    "plt.yscale('log') \n",
    "plt.plot(ranks, sorted_counts)"
   ]
  },
  {
   "cell_type": "markdown",
   "metadata": {
    "hideCode": false,
    "hidePrompt": false,
    "slideshow": {
     "slide_type": "subslide"
    }
   },
   "source": [
    "In log-space such rank vs frequency graphs are **linear** \n",
    "\n",
    "* Known as **Zipf's Law**\n",
    "\n",
    "Let $r_w$ be the rank of a word \\\\(w\\\\), and \\\\(f_w\\\\) its frequency:\n",
    "\n",
    "$$\n",
    "  f_w \\propto \\frac{1}{r_w}.\n",
    "$$\n",
    "\n",
    "* Also true in [random text](http://citeseerx.ist.psu.edu/viewdoc/download?doi=10.1.1.164.8422&rep=rep1&type=pdf)"
   ]
  },
  {
   "cell_type": "markdown",
   "metadata": {
    "hideCode": false,
    "hidePrompt": false,
    "slideshow": {
     "slide_type": "slide"
    }
   },
   "source": [
    "## Out-of-Vocabularly (OOV) Tokens\n",
    "There will always be words with zero counts in your training set.\n",
    "\n",
    "Solutions:\n",
    "* Remove unseen words from test set (bad)\n",
    "* Move probability mass to unseen words (good, discuss later)\n",
    "* Replace unseen words with out-of-vocabularly token, estimate its probability"
   ]
  },
  {
   "cell_type": "markdown",
   "metadata": {
    "hideCode": false,
    "hidePrompt": false,
    "slideshow": {
     "slide_type": "subslide"
    }
   },
   "source": [
    "### Inserting OOV Tokens"
   ]
  },
  {
   "cell_type": "code",
   "execution_count": 74,
   "metadata": {
    "hideCode": false,
    "hidePrompt": false,
    "run_control": {
     "frozen": false,
     "read_only": false
    },
    "slideshow": {
     "slide_type": "-"
    }
   },
   "outputs": [
    {
     "data": {
      "text/plain": [
       "['[BAR]',\n",
       " 'scratched',\n",
       " '[/BAR]',\n",
       " '[BAR]',\n",
       " 'What',\n",
       " '[OOV]',\n",
       " 'it',\n",
       " 'take',\n",
       " '[/BAR]',\n",
       " '[BAR]']"
      ]
     },
     "execution_count": 74,
     "metadata": {},
     "output_type": "execute_result"
    }
   ],
   "source": [
    "replace_OOVs(baseline.vocab, test[:10])"
   ]
  },
  {
   "cell_type": "markdown",
   "metadata": {
    "hideCode": false,
    "hidePrompt": false,
    "slideshow": {
     "slide_type": "subslide"
    }
   },
   "source": [
    "### Estimate `OOV` probability\n",
    "What is the probability of seeing a word you haven't seen before?"
   ]
  },
  {
   "cell_type": "markdown",
   "metadata": {
    "hideCode": false,
    "hidePrompt": false,
    "slideshow": {
     "slide_type": "subslide"
    }
   },
   "source": [
    "Consider the \"words\"\n",
    "\n",
    "> AA AA BB BB AA\n",
    "\n",
    "Going left to right, how often do I see new words?"
   ]
  },
  {
   "cell_type": "markdown",
   "metadata": {
    "hideCode": false,
    "hidePrompt": false,
    "slideshow": {
     "slide_type": "subslide"
    }
   },
   "source": [
    "Inject `OOV` tokens to mark these \"new word events\""
   ]
  },
  {
   "cell_type": "code",
   "execution_count": 75,
   "metadata": {
    "hideCode": false,
    "hidePrompt": false,
    "run_control": {
     "frozen": false,
     "read_only": false
    },
    "slideshow": {
     "slide_type": "fragment"
    }
   },
   "outputs": [
    {
     "data": {
      "text/plain": [
       "['[OOV]', 'AA', '[OOV]', 'BB', 'AA']"
      ]
     },
     "execution_count": 75,
     "metadata": {},
     "output_type": "execute_result"
    }
   ],
   "source": [
    "inject_OOVs([\"AA\",\"AA\",\"BB\",\"BB\",\"AA\"])"
   ]
  },
  {
   "cell_type": "markdown",
   "metadata": {
    "hideCode": false,
    "hidePrompt": false,
    "slideshow": {
     "slide_type": "subslide"
    }
   },
   "source": [
    "Now train on replaced data..."
   ]
  },
  {
   "cell_type": "code",
   "execution_count": 76,
   "metadata": {
    "hideCode": false,
    "hidePrompt": false,
    "run_control": {
     "frozen": false,
     "read_only": false
    },
    "slideshow": {
     "slide_type": "fragment"
    }
   },
   "outputs": [
    {
     "data": {
      "text/plain": [
       "1290.0000000049852"
      ]
     },
     "execution_count": 76,
     "metadata": {},
     "output_type": "execute_result"
    }
   ],
   "source": [
    "oov_train = inject_OOVs(train)\n",
    "oov_vocab = set(oov_train)\n",
    "oov_test = replace_OOVs(oov_vocab, test)\n",
    "oov_baseline = UniformLM(oov_vocab)\n",
    "perplexity(oov_baseline,oov_test)"
   ]
  },
  {
   "cell_type": "markdown",
   "metadata": {
    "hideCode": false,
    "hidePrompt": false,
    "slideshow": {
     "slide_type": "fragment"
    }
   },
   "source": [
    "What does this perplexity correspond to?\n",
    "What are the downsides of unigram language models?\n",
    "Discuss with your neighbour and enter your answers here: https://tinyurl.com/y7v9jrfv"
   ]
  },
  {
   "cell_type": "markdown",
   "metadata": {
    "hideCode": false,
    "hidePrompt": false,
    "slideshow": {
     "slide_type": "slide"
    }
   },
   "source": [
    "## Training N-Gram Language Models"
   ]
  },
  {
   "cell_type": "markdown",
   "metadata": {
    "hideCode": false,
    "hidePrompt": false,
    "slideshow": {
     "slide_type": "fragment"
    }
   },
   "source": [
    "N-gram language models condition on a limited history: \n",
    "\n",
    "$$\n",
    "\\prob(w_i|w_1,\\ldots,w_{i-1}) = \\prob(w_i|w_{i-(n-1)},\\ldots,w_{i-1}).\n",
    "$$\n",
    "\n",
    "What are its parameters (continuous values that control its behaviour)?"
   ]
  },
  {
   "cell_type": "markdown",
   "metadata": {
    "hideCode": false,
    "hidePrompt": false,
    "slideshow": {
     "slide_type": "subslide"
    }
   },
   "source": [
    "One parameter $\\param_{w,h}$ for each word $w$ and history $h=w_{i-(n-1)},\\ldots,w_{i-1}$ pair:\n",
    "\n",
    "$$\n",
    "\\prob_\\params(w|h) = \\param_{w,h}\n",
    "$$\n",
    "\n",
    "$\\prob_\\params(\\text{bigly}|\\text{win}) = \\param_{\\text{bigly, win}}$"
   ]
  },
  {
   "cell_type": "markdown",
   "metadata": {
    "hideCode": false,
    "hidePrompt": false,
    "slideshow": {
     "slide_type": "subslide"
    }
   },
   "source": [
    "### Maximum Likelihood Estimate\n",
    "\n",
    "Assume training set \\\\(\\train=(w_1,\\ldots,w_d)\\\\)"
   ]
  },
  {
   "cell_type": "markdown",
   "metadata": {
    "hideCode": false,
    "hidePrompt": false,
    "slideshow": {
     "slide_type": "subslide"
    }
   },
   "source": [
    "### Maximum Likelihood Estimate\n",
    "\n",
    "Find \\\\(\\params\\\\) that maximises the log-likelihood of \\\\(\\train\\\\):\n",
    "\n",
    "$$\n",
    "\\params^* = \\argmax_\\params \\log p_\\params(\\train)\n",
    "$$\n",
    "\n",
    "where\n",
    "\n",
    "$$\n",
    "\\prob_\\params(\\train) = \\ldots \\prob_\\params(w_i|\\ldots w_{i-1}) \\prob_\\params(w_{i+1}|\\ldots w_{i}) \\ldots \n",
    "$$\n",
    "\n",
    "**Structured Prediction**: this is your continuous optimisation problem!"
   ]
  },
  {
   "cell_type": "markdown",
   "metadata": {
    "hideCode": false,
    "hidePrompt": false,
    "slideshow": {
     "slide_type": "subslide"
    }
   },
   "source": [
    "Maximum-log-likelihood estimate (MLE) can be calculated in **[closed form](/notebooks/chapters/mle.ipynb)**:\n",
    "$$\n",
    "\\prob_{\\params^*}(w|h) = \\param^*_{w,h} = \\frac{\\counts{\\train}{h,w}}{\\counts{\\train}{h}} \n",
    "$$\n",
    "\n",
    "where \n",
    "\n",
    "$$\n",
    "\\counts{D}{e} = \\text{Count of } e \\text{ in }  D \n",
    "$$\n",
    "\n",
    "Many LM variants: different estimation of counts. "
   ]
  },
  {
   "cell_type": "markdown",
   "metadata": {
    "hideCode": false,
    "hidePrompt": false,
    "slideshow": {
     "slide_type": "slide"
    }
   },
   "source": [
    "## Training a Unigram Model\n",
    "Let us train a unigram model..."
   ]
  },
  {
   "cell_type": "markdown",
   "metadata": {
    "hideCode": false,
    "hidePrompt": false,
    "slideshow": {
     "slide_type": "subslide"
    }
   },
   "source": [
    "What do you think the most probable words are? \n",
    "\n",
    "Remember our training set looks like this ..."
   ]
  },
  {
   "cell_type": "code",
   "execution_count": 77,
   "metadata": {
    "hideCode": false,
    "hidePrompt": false,
    "slideshow": {
     "slide_type": "fragment"
    }
   },
   "outputs": [
    {
     "data": {
      "text/plain": [
       "['[BAR]', 'I', '[OOV]', 'at', 'home', 'but', 'I', 'gotta', 'escape', '[/BAR]']"
      ]
     },
     "execution_count": 77,
     "metadata": {},
     "output_type": "execute_result"
    }
   ],
   "source": [
    "oov_train[10000:10010]"
   ]
  },
  {
   "cell_type": "code",
   "execution_count": 78,
   "metadata": {
    "hideCode": false,
    "hidePrompt": false,
    "run_control": {
     "frozen": false,
     "read_only": false
    },
    "slideshow": {
     "slide_type": "subslide"
    }
   },
   "outputs": [
    {
     "data": {
      "image/png": "[encoded data removed]",
      "text/plain": [
       "<matplotlib.figure.Figure at 0x7fd7350f3518>"
      ]
     },
     "metadata": {},
     "output_type": "display_data"
    }
   ],
   "source": [
    "unigram = NGramLM(oov_train,1)\n",
    "plot_probabilities(unigram)\n",
    "# sum([unigram.probability(w) for w in unigram.vocab])"
   ]
  },
  {
   "cell_type": "markdown",
   "metadata": {
    "hideCode": false,
    "hidePrompt": false,
    "slideshow": {
     "slide_type": "subslide"
    }
   },
   "source": [
    "The unigram LM has substantially reduced (and hence better) perplexity than the uniform LM:"
   ]
  },
  {
   "cell_type": "code",
   "execution_count": 79,
   "metadata": {
    "hideCode": false,
    "hidePrompt": false,
    "run_control": {
     "frozen": false,
     "read_only": false
    },
    "slideshow": {
     "slide_type": "fragment"
    }
   },
   "outputs": [
    {
     "data": {
      "text/plain": [
       "91.4414922652717"
      ]
     },
     "execution_count": 79,
     "metadata": {},
     "output_type": "execute_result"
    }
   ],
   "source": [
    "perplexity(unigram,oov_test)"
   ]
  },
  {
   "cell_type": "markdown",
   "metadata": {
    "hideCode": false,
    "hidePrompt": false,
    "slideshow": {
     "slide_type": "subslide"
    }
   },
   "source": [
    "Its samples look (a little) more reasonable:"
   ]
  },
  {
   "cell_type": "code",
   "execution_count": 80,
   "metadata": {
    "hideCode": false,
    "hidePrompt": false,
    "run_control": {
     "frozen": false,
     "read_only": false
    },
    "slideshow": {
     "slide_type": "fragment"
    }
   },
   "outputs": [
    {
     "data": {
      "text/plain": [
       "['the',\n",
       " 'too',\n",
       " '[OOV]',\n",
       " 'speed',\n",
       " '[/BAR]',\n",
       " 'more',\n",
       " '[OOV]',\n",
       " 'and',\n",
       " 'people',\n",
       " '[BAR]']"
      ]
     },
     "execution_count": 80,
     "metadata": {},
     "output_type": "execute_result"
    }
   ],
   "source": [
    "sample(unigram, [], 10)"
   ]
  },
  {
   "cell_type": "markdown",
   "metadata": {
    "hideCode": false,
    "hidePrompt": false,
    "slideshow": {
     "slide_type": "slide"
    }
   },
   "source": [
    "## Bigram Model\n",
    "We can do better by setting $n=2$"
   ]
  },
  {
   "cell_type": "code",
   "execution_count": 81,
   "metadata": {
    "hideCode": false,
    "hidePrompt": false,
    "run_control": {
     "frozen": false,
     "read_only": false
    },
    "slideshow": {
     "slide_type": "fragment"
    }
   },
   "outputs": [
    {
     "data": {
      "image/png": "[encoded data removed]",
      "text/plain": [
       "<matplotlib.figure.Figure at 0x7fd739525d30>"
      ]
     },
     "metadata": {},
     "output_type": "display_data"
    }
   ],
   "source": [
    "bigram = NGramLM(oov_train,2)\n",
    "plot_probabilities(laplace_bigram, (\"FIND\",)) #I, FIND, laplace .. "
   ]
  },
  {
   "cell_type": "markdown",
   "metadata": {
    "hideCode": false,
    "hidePrompt": false,
    "slideshow": {
     "slide_type": "subslide"
    }
   },
   "source": [
    "Samples should look (slightly) more fluent:"
   ]
  },
  {
   "cell_type": "code",
   "execution_count": 82,
   "metadata": {
    "hideCode": false,
    "hidePrompt": false,
    "run_control": {
     "frozen": false,
     "read_only": false
    },
    "slideshow": {
     "slide_type": "fragment"
    }
   },
   "outputs": [
    {
     "data": {
      "text/plain": [
       "'FIND young worth stick takin them Pac freak rat styles school did wrong 9 line hard know has ill no time my [OOV] when fists face action very hip soft living'"
      ]
     },
     "execution_count": 82,
     "metadata": {},
     "output_type": "execute_result"
    }
   ],
   "source": [
    "\" \".join(sample(laplace_bigram, ['FIND'], 30)) # try: I, FIND"
   ]
  },
  {
   "cell_type": "markdown",
   "metadata": {
    "hideCode": false,
    "hidePrompt": false,
    "slideshow": {
     "slide_type": "subslide"
    }
   },
   "source": [
    "How about perplexity?"
   ]
  },
  {
   "cell_type": "code",
   "execution_count": 83,
   "metadata": {
    "hideCode": false,
    "hidePrompt": false,
    "run_control": {
     "frozen": false,
     "read_only": false
    },
    "slideshow": {
     "slide_type": "fragment"
    }
   },
   "outputs": [
    {
     "data": {
      "text/plain": [
       "inf"
      ]
     },
     "execution_count": 83,
     "metadata": {},
     "output_type": "execute_result"
    }
   ],
   "source": [
    "perplexity(bigram,oov_test)"
   ]
  },
  {
   "cell_type": "markdown",
   "metadata": {
    "hideCode": false,
    "hidePrompt": false,
    "slideshow": {
     "slide_type": "subslide"
    }
   },
   "source": [
    "Some contexts where OOV word (and others) haven't been seen, hence 0 probability..."
   ]
  },
  {
   "cell_type": "code",
   "execution_count": 84,
   "metadata": {
    "hideCode": false,
    "hidePrompt": false,
    "run_control": {
     "frozen": false,
     "read_only": false
    },
    "slideshow": {
     "slide_type": "fragment"
    }
   },
   "outputs": [
    {
     "data": {
      "text/plain": [
       "0.0"
      ]
     },
     "execution_count": 84,
     "metadata": {},
     "output_type": "execute_result"
    }
   ],
   "source": [
    "bigram.probability(\"[OOV]\",\"money\")"
   ]
  },
  {
   "cell_type": "markdown",
   "metadata": {
    "hideCode": false,
    "hidePrompt": false,
    "slideshow": {
     "slide_type": "slide"
    }
   },
   "source": [
    "## Smoothing\n",
    "\n",
    "Maximum likelihood \n",
    "* **underestimates** true probability of some words \n",
    "* **overestimates** the probabilities of other\n",
    "\n",
    "Solution: _smooth_ the probabilities and **move mass** from seen to unseen events."
   ]
  },
  {
   "cell_type": "raw",
   "metadata": {
    "hideCode": false,
    "hidePrompt": false,
    "hide_egal": true,
    "is_egal": true,
    "slideshow": {
     "slide_type": "subslide"
    }
   },
   "source": [
    "<svg height=\"400\" width=\"100%\"><desc>Created with Snap</desc><defs><filter id=\"Sj8iyg5my3\" filterUnits=\"userSpaceOnUse\"><feGaussianBlur in=\"SourceAlpha\" stdDeviation=\"3\"></feGaussianBlur><feOffset dx=\"0\" dy=\"2\" result=\"offsetblur\"></feOffset><feFlood flood-color=\"#000000\"></feFlood><feComposite in2=\"offsetblur\" operator=\"in\"></feComposite><feComponentTransfer><feFuncA type=\"linear\" slope=\"1\"></feFuncA></feComponentTransfer><feMerge><feMergeNode></feMergeNode><feMergeNode in=\"SourceGraphic\"></feMergeNode></feMerge></filter><marker viewBox=\"0 0 10 10\" markerWidth=\"10\" markerHeight=\"10\" orient=\"auto\" refX=\"9\" refY=\"3\" id=\"arrowEndMarker\"><polygon points=\"0,0,0,6,9,3,0,0\" fill=\"#323232\" id=\"arrow\" style=\"\"></polygon></marker><marker viewBox=\"0 0 10 10\" markerWidth=\"10\" markerHeight=\"10\" orient=\"auto\" refX=\"0\" refY=\"3\" id=\"arrowStartMarker\"><polygon points=\"0,3,9,0,9,6,0,3\" fill=\"#323232\" id=\"startArrow\" style=\"\"></polygon></marker><filter id=\"Sj8p3bl8w3b\" filterUnits=\"userSpaceOnUse\"><feGaussianBlur in=\"SourceAlpha\" stdDeviation=\"3\"></feGaussianBlur><feOffset dx=\"0\" dy=\"2\" result=\"offsetblur\"></feOffset><feFlood flood-color=\"#000000\"></feFlood><feComposite in2=\"offsetblur\" operator=\"in\"></feComposite><feComponentTransfer><feFuncA type=\"linear\" slope=\"1\"></feFuncA></feComponentTransfer><feMerge><feMergeNode></feMergeNode><feMergeNode in=\"SourceGraphic\"></feMergeNode></feMerge></filter><marker viewBox=\"0 0 10 10\" markerWidth=\"10\" markerHeight=\"10\" orient=\"auto\" refX=\"9\" refY=\"3\" id=\"arrowEndMarker\"><polygon points=\"0,0,0,6,9,3,0,0\" fill=\"#323232\" id=\"arrow\" style=\"\"></polygon></marker><marker viewBox=\"0 0 10 10\" markerWidth=\"10\" markerHeight=\"10\" orient=\"auto\" refX=\"0\" refY=\"3\" id=\"arrowStartMarker\"><polygon points=\"0,3,9,0,9,6,0,3\" fill=\"#323232\" id=\"startArrow\" style=\"\"></polygon></marker></defs><g id=\"drup_elem_1\" class=\"drupElem\"><rect x=\"71.578125\" y=\"75.90625\" width=\"156\" height=\"72\" fill=\"lightblue\" stroke=\"white\" vector-effect=\"non-scaling-stroke\" style=\"stroke-width: 1;\" class=\"core alignable sub\" transform=\"matrix(1,0,0,1,0,-7)\"></rect><circle cx=\"149.578125\" cy=\"75.90625\" r=\"5\" stroke=\"#000000\" fill=\"#ffffff\" id=\"drup_elem_1_endpoint_0\" style=\"stroke-width: 1; opacity: 0;\" class=\"endPoint up sub\" transform=\"matrix(1,0,0,1,0,-7)\"></circle><circle cx=\"149.578125\" cy=\"147.90625\" r=\"5\" stroke=\"#000000\" fill=\"#ffffff\" id=\"drup_elem_1_endpoint_1\" style=\"stroke-width: 1; opacity: 0;\" class=\"endPoint down sub\" transform=\"matrix(1,0,0,1,0,-7)\"></circle><circle cx=\"71.578125\" cy=\"111.90625\" r=\"5\" stroke=\"#000000\" fill=\"#ffffff\" id=\"drup_elem_1_endpoint_2\" style=\"stroke-width: 1; opacity: 0;\" class=\"endPoint left sub\" transform=\"matrix(1,0,0,1,0,-7)\"></circle><circle cx=\"227.578125\" cy=\"111.90625\" r=\"5\" stroke=\"#000000\" fill=\"#ffffff\" id=\"drup_elem_1_endpoint_3\" style=\"stroke-width: 1; opacity: 0;\" class=\"endPoint right sub\" transform=\"matrix(1,0,0,1,0,-7)\"></circle><circle cx=\"71.578125\" cy=\"75.90625\" r=\"5\" stroke=\"#000000\" fill=\"#ffffff\" id=\"drup_elem_1_endpoint_4\" style=\"stroke-width: 1; opacity: 0;\" class=\"endPoint left-up sub\" transform=\"matrix(1,0,0,1,0,-7)\"></circle><circle cx=\"71.578125\" cy=\"147.90625\" r=\"5\" stroke=\"#000000\" fill=\"#ffffff\" id=\"drup_elem_1_endpoint_5\" style=\"stroke-width: 1; opacity: 0;\" class=\"endPoint left-down sub\" transform=\"matrix(1,0,0,1,0,-7)\"></circle><circle cx=\"227.578125\" cy=\"75.90625\" r=\"5\" stroke=\"#000000\" fill=\"#ffffff\" id=\"drup_elem_1_endpoint_6\" style=\"stroke-width: 1; opacity: 0;\" class=\"endPoint right-up sub\" transform=\"matrix(1,0,0,1,0,-7)\"></circle><circle cx=\"227.578125\" cy=\"147.90625\" r=\"5\" stroke=\"#000000\" fill=\"#ffffff\" id=\"drup_elem_1_endpoint_7\" style=\"stroke-width: 1; opacity: 0;\" class=\"endPoint right-down sub\" transform=\"matrix(1,0,0,1,0,-7)\"></circle><text x=\"149.578125\" y=\"111.90625\" style=\"font-size: 20px; text-anchor: middle; alignment-baseline: central; opacity: 1; visibility: visible;\" class=\"egal-label sub\" data-src=\"Count=1\" transform=\"matrix(1,0,0,1,0,-7)\">Count=1</text></g><g id=\"drup_elem_3\" class=\"drupElem\"><rect x=\"71.578125\" y=\"75.90625\" width=\"156\" height=\"72\" fill=\"lightgrey\" stroke=\"white\" vector-effect=\"non-scaling-stroke\" style=\"stroke-width: 1;\" class=\"core alignable sub\" transform=\"matrix(0.7308,0,0,1,19.271,170)\"></rect><circle cx=\"149.578125\" cy=\"75.90625\" r=\"5\" stroke=\"#000000\" fill=\"#ffffff\" id=\"drup_elem_3_endpoint_0\" style=\"stroke-width: 1; opacity: 0;\" class=\"endPoint up sub\" transform=\"matrix(1,0,0,1,-20.9999,170)\"></circle><circle cx=\"149.578125\" cy=\"147.90625\" r=\"5\" stroke=\"#000000\" fill=\"#ffffff\" id=\"drup_elem_3_endpoint_1\" style=\"stroke-width: 1; opacity: 0;\" class=\"endPoint down sub\" transform=\"matrix(1,0,0,1,-20.9999,170)\"></circle><circle cx=\"71.578125\" cy=\"111.90625\" r=\"5\" stroke=\"#000000\" fill=\"#ffffff\" id=\"drup_elem_3_endpoint_2\" style=\"stroke-width: 1; opacity: 0;\" class=\"endPoint left sub\" transform=\"matrix(1,0,0,1,0,170)\"></circle><circle cx=\"227.578125\" cy=\"111.90625\" r=\"5\" stroke=\"#000000\" fill=\"#ffffff\" id=\"drup_elem_3_endpoint_3\" style=\"stroke-width: 1; opacity: 0;\" class=\"endPoint right sub\" transform=\"matrix(1,0,0,1,-41.9999,170)\"></circle><circle cx=\"71.578125\" cy=\"75.90625\" r=\"5\" stroke=\"#000000\" fill=\"#ffffff\" id=\"drup_elem_3_endpoint_4\" style=\"stroke-width: 1; opacity: 0;\" class=\"endPoint left-up sub\" transform=\"matrix(1,0,0,1,0,170)\"></circle><circle cx=\"71.578125\" cy=\"147.90625\" r=\"5\" stroke=\"#000000\" fill=\"#ffffff\" id=\"drup_elem_3_endpoint_5\" style=\"stroke-width: 1; opacity: 0;\" class=\"endPoint left-down sub\" transform=\"matrix(1,0,0,1,0,170)\"></circle><circle cx=\"227.578125\" cy=\"75.90625\" r=\"5\" stroke=\"#000000\" fill=\"#ffffff\" id=\"drup_elem_3_endpoint_6\" style=\"stroke-width: 1; opacity: 0;\" class=\"endPoint right-up sub\" transform=\"matrix(1,0,0,1,-41.9999,170)\"></circle><circle cx=\"227.578125\" cy=\"147.90625\" r=\"5\" stroke=\"#000000\" fill=\"#ffffff\" id=\"drup_elem_3_endpoint_7\" style=\"stroke-width: 1; opacity: 0;\" class=\"endPoint right-down sub\" transform=\"matrix(1,0,0,1,-41.9999,170)\"></circle><text x=\"149.578125\" y=\"111.90625\" style=\"font-size: 20px; text-anchor: middle; alignment-baseline: central; opacity: 1; visibility: visible;\" class=\"egal-label sub\" data-src=\"Count=0\" transform=\"matrix(1,0,0,1,-20.9978,170)\">Count=0</text></g><g id=\"drup_elem_5\" class=\"drupElem\"><rect x=\"71.578125\" y=\"75.90625\" width=\"156\" height=\"72\" fill=\"lightblue\" stroke=\"white\" vector-effect=\"non-scaling-stroke\" style=\"stroke-width: 1;\" class=\"core alignable sub\" transform=\"matrix(0.6923,0,0,1,144.024,170)\"></rect><circle cx=\"149.578125\" cy=\"75.90625\" r=\"5\" stroke=\"#000000\" fill=\"#ffffff\" id=\"drup_elem_5_endpoint_0\" style=\"stroke-width: 1; opacity: 0;\" class=\"endPoint up sub\" transform=\"matrix(1,0,0,1,98,170)\"></circle><circle cx=\"149.578125\" cy=\"147.90625\" r=\"5\" stroke=\"#000000\" fill=\"#ffffff\" id=\"drup_elem_5_endpoint_1\" style=\"stroke-width: 1; opacity: 0;\" class=\"endPoint down sub\" transform=\"matrix(1,0,0,1,98,170)\"></circle><circle cx=\"71.578125\" cy=\"111.90625\" r=\"5\" stroke=\"#000000\" fill=\"#ffffff\" id=\"drup_elem_5_endpoint_2\" style=\"stroke-width: 1; opacity: 0;\" class=\"endPoint left sub\" transform=\"matrix(1,0,0,1,122,170)\"></circle><circle cx=\"227.578125\" cy=\"111.90625\" r=\"5\" stroke=\"#000000\" fill=\"#ffffff\" id=\"drup_elem_5_endpoint_3\" style=\"stroke-width: 1; opacity: 0;\" class=\"endPoint right sub\" transform=\"matrix(1,0,0,1,74,170)\"></circle><circle cx=\"71.578125\" cy=\"75.90625\" r=\"5\" stroke=\"#000000\" fill=\"#ffffff\" id=\"drup_elem_5_endpoint_4\" style=\"stroke-width: 1; opacity: 0;\" class=\"endPoint left-up sub\" transform=\"matrix(1,0,0,1,122,170)\"></circle><circle cx=\"71.578125\" cy=\"147.90625\" r=\"5\" stroke=\"#000000\" fill=\"#ffffff\" id=\"drup_elem_5_endpoint_5\" style=\"stroke-width: 1; opacity: 0;\" class=\"endPoint left-down sub\" transform=\"matrix(1,0,0,1,122,170)\"></circle><circle cx=\"227.578125\" cy=\"75.90625\" r=\"5\" stroke=\"#000000\" fill=\"#ffffff\" id=\"drup_elem_5_endpoint_6\" style=\"stroke-width: 1; opacity: 0;\" class=\"endPoint right-up sub\" transform=\"matrix(1,0,0,1,74,170)\"></circle><circle cx=\"227.578125\" cy=\"147.90625\" r=\"5\" stroke=\"#000000\" fill=\"#ffffff\" id=\"drup_elem_5_endpoint_7\" style=\"stroke-width: 1; opacity: 0;\" class=\"endPoint right-down sub\" transform=\"matrix(1,0,0,1,74,170)\"></circle><text x=\"149.578125\" y=\"111.90625\" style=\"font-size: 20px; text-anchor: middle; alignment-baseline: central; opacity: 1; visibility: visible;\" class=\"egal-label sub\" data-src=\"Count=1\" transform=\"matrix(1,0,0,1,98.0024,170)\">Count=1</text></g><g id=\"drup_elem_2\" class=\"drupElem egal-select\"><rect x=\"71.578125\" y=\"75.90625\" width=\"156\" height=\"72\" fill=\"orange\" stroke=\"white\" vector-effect=\"non-scaling-stroke\" style=\"stroke-width: 1;\" class=\"core alignable sub\" transform=\"matrix(2.6538,0,0,1,42.6208,-7)\"></rect><circle cx=\"149.578125\" cy=\"75.90625\" r=\"5\" stroke=\"#000000\" fill=\"#ffffff\" id=\"drup_elem_2_endpoint_0\" style=\"stroke-width: 1; opacity: 0;\" class=\"endPoint up sub\" transform=\"matrix(1,0,0,1,290,-7)\"></circle><circle cx=\"149.578125\" cy=\"147.90625\" r=\"5\" stroke=\"#000000\" fill=\"#ffffff\" id=\"drup_elem_2_endpoint_1\" style=\"stroke-width: 1; opacity: 0;\" class=\"endPoint down sub\" transform=\"matrix(1,0,0,1,290,-7)\"></circle><circle cx=\"71.578125\" cy=\"111.90625\" r=\"5\" stroke=\"#000000\" fill=\"#ffffff\" id=\"drup_elem_2_endpoint_2\" style=\"stroke-width: 1; opacity: 0;\" class=\"endPoint left sub\" transform=\"matrix(1,0,0,1,161,-7)\"></circle><circle cx=\"227.578125\" cy=\"111.90625\" r=\"5\" stroke=\"#000000\" fill=\"#ffffff\" id=\"drup_elem_2_endpoint_3\" style=\"stroke-width: 1; opacity: 0;\" class=\"endPoint right sub\" transform=\"matrix(1,0,0,1,419,-7)\"></circle><circle cx=\"71.578125\" cy=\"75.90625\" r=\"5\" stroke=\"#000000\" fill=\"#ffffff\" id=\"drup_elem_2_endpoint_4\" style=\"stroke-width: 1; opacity: 0;\" class=\"endPoint left-up sub\" transform=\"matrix(1,0,0,1,161,-7)\"></circle><circle cx=\"71.578125\" cy=\"147.90625\" r=\"5\" stroke=\"#000000\" fill=\"#ffffff\" id=\"drup_elem_2_endpoint_5\" style=\"stroke-width: 1; opacity: 0;\" class=\"endPoint left-down sub\" transform=\"matrix(1,0,0,1,161,-7)\"></circle><circle cx=\"227.578125\" cy=\"75.90625\" r=\"5\" stroke=\"#000000\" fill=\"#ffffff\" id=\"drup_elem_2_endpoint_6\" style=\"stroke-width: 1; opacity: 0;\" class=\"endPoint right-up sub\" transform=\"matrix(1,0,0,1,419,-7)\"></circle><circle cx=\"227.578125\" cy=\"147.90625\" r=\"5\" stroke=\"#000000\" fill=\"#ffffff\" id=\"drup_elem_2_endpoint_7\" style=\"stroke-width: 1; opacity: 0;\" class=\"endPoint right-down sub\" transform=\"matrix(1,0,0,1,419,-7)\"></circle><text x=\"149.578125\" y=\"111.90625\" style=\"font-size: 20px; text-anchor: middle; alignment-baseline: central; opacity: 1; visibility: visible;\" class=\"egal-label sub\" data-src=\">1\" transform=\"matrix(1,0,0,1,289.9871,-7)\">&gt;1</text></g><g id=\"drup_elem_4\" class=\"drupElem\"><rect x=\"71.578125\" y=\"75.90625\" width=\"156\" height=\"72\" fill=\"orange\" stroke=\"white\" vector-effect=\"non-scaling-stroke\" style=\"stroke-width: 1;\" class=\"core alignable sub\" transform=\"matrix(2.1666,0,0,1,153.4922,170)\"></rect><circle cx=\"149.578125\" cy=\"75.90625\" r=\"5\" stroke=\"#000000\" fill=\"#ffffff\" id=\"drup_elem_4_endpoint_0\" style=\"stroke-width: 1; opacity: 0;\" class=\"endPoint up sub\" transform=\"matrix(1,0,0,1,327.9987,170)\"></circle><circle cx=\"149.578125\" cy=\"147.90625\" r=\"5\" stroke=\"#000000\" fill=\"#ffffff\" id=\"drup_elem_4_endpoint_1\" style=\"stroke-width: 1; opacity: 0;\" class=\"endPoint down sub\" transform=\"matrix(1,0,0,1,327.9987,170)\"></circle><circle cx=\"71.578125\" cy=\"111.90625\" r=\"5\" stroke=\"#000000\" fill=\"#ffffff\" id=\"drup_elem_4_endpoint_2\" style=\"stroke-width: 1; opacity: 0;\" class=\"endPoint left sub\" transform=\"matrix(1,0,0,1,236.9994,170)\"></circle><circle cx=\"227.578125\" cy=\"111.90625\" r=\"5\" stroke=\"#000000\" fill=\"#ffffff\" id=\"drup_elem_4_endpoint_3\" style=\"stroke-width: 1; opacity: 0;\" class=\"endPoint right sub\" transform=\"matrix(1,0,0,1,418.9981,170)\"></circle><circle cx=\"71.578125\" cy=\"75.90625\" r=\"5\" stroke=\"#000000\" fill=\"#ffffff\" id=\"drup_elem_4_endpoint_4\" style=\"stroke-width: 1; opacity: 0;\" class=\"endPoint left-up sub\" transform=\"matrix(1,0,0,1,236.9994,170)\"></circle><circle cx=\"71.578125\" cy=\"147.90625\" r=\"5\" stroke=\"#000000\" fill=\"#ffffff\" id=\"drup_elem_4_endpoint_5\" style=\"stroke-width: 1; opacity: 0;\" class=\"endPoint left-down sub\" transform=\"matrix(1,0,0,1,236.9994,170)\"></circle><circle cx=\"227.578125\" cy=\"75.90625\" r=\"5\" stroke=\"#000000\" fill=\"#ffffff\" id=\"drup_elem_4_endpoint_6\" style=\"stroke-width: 1; opacity: 0;\" class=\"endPoint right-up sub\" transform=\"matrix(1,0,0,1,418.9981,170)\"></circle><circle cx=\"227.578125\" cy=\"147.90625\" r=\"5\" stroke=\"#000000\" fill=\"#ffffff\" id=\"drup_elem_4_endpoint_7\" style=\"stroke-width: 1; opacity: 0;\" class=\"endPoint right-down sub\" transform=\"matrix(1,0,0,1,418.9981,170)\"></circle><text x=\"149.578125\" y=\"111.90625\" style=\"font-size: 20px; text-anchor: middle; alignment-baseline: central; opacity: 1; visibility: visible;\" class=\"egal-label sub\" data-src=\">1\" transform=\"matrix(1,0,0,1,327.9896,170)\">&gt;1</text></g><g id=\"drup_elem_6\" class=\"drupElem\"><text x=\"260.578125\" y=\"54.90625\" class=\"core alignable sub egal-label\" style=\"text-anchor: middle; alignment-baseline: central; font-size: 20px; visibility: visible; opacity: 1;\" data-src=\"Probability Mass per count-class for MLE \" transform=\"matrix(1,0,0,1,87,-11)\">Probability Mass per count-class for MLE </text></g><g id=\"drup_elem_7\" class=\"drupElem\"><text x=\"296.578125\" y=\"44.90625\" class=\"core alignable sub egal-label\" style=\"text-anchor: middle; alignment-baseline: central;\"></text></g><g id=\"drup_elem_8\" class=\"drupElem\"><text x=\"296.578125\" y=\"64.90625\" class=\"core alignable sub egal-label\" style=\"text-anchor: middle; alignment-baseline: central; font-size: 20px;\"></text></g><g id=\"drup_elem_9\" class=\"drupElem\"><text x=\"373.578125\" y=\"166.90625\" class=\"core alignable sub egal-label\" style=\"text-anchor: middle; alignment-baseline: central;\"></text></g><g id=\"drup_elem_10\" class=\"drupElem\"><text x=\"213.578125\" y=\"64.90625\" class=\"core alignable sub egal-label\" style=\"text-anchor: middle; alignment-baseline: central; font-size: 20px;\"></text></g><g id=\"drup_elem_11\" class=\"drupElem\"><text x=\"299.578125\" y=\"221.90625\" class=\"core alignable sub egal-label\" style=\"text-anchor: middle; alignment-baseline: central; font-size: 20px;\" data-src=\"Smoothing\" transform=\"matrix(1,0,0,1,48,-4)\">Smoothing</text></g><g id=\"drup_elem_12\" class=\"drupElem\"><text x=\"467.578125\" y=\"221.90625\" class=\"core alignable sub egal-label\" style=\"text-anchor: middle; alignment-baseline: central; font-size: 20px;\"></text></g></svg>"
   ]
  },
  {
   "cell_type": "markdown",
   "metadata": {
    "hideCode": false,
    "hidePrompt": false,
    "slideshow": {
     "slide_type": "subslide"
    }
   },
   "source": [
    "### Laplace Smoothing\n",
    "\n",
    "Add **pseudo counts** to each event in the dataset \n",
    "\n",
    "$$\n",
    "\\param^{\\alpha}_{w,h} = \\frac{\\counts{\\train}{h,w} + \\alpha}{\\counts{\\train}{h} + \\alpha \\lvert V \\rvert } \n",
    "$$\n",
    "\n",
    "Bayesian view: *maximum posteriori* estimate under a dirichlet prior on parameters."
   ]
  },
  {
   "cell_type": "code",
   "execution_count": 85,
   "metadata": {
    "hideCode": false,
    "hidePrompt": false,
    "run_control": {
     "frozen": false,
     "read_only": false
    },
    "slideshow": {
     "slide_type": "subslide"
    }
   },
   "outputs": [
    {
     "data": {
      "text/plain": [
       "0.0007692307692307692"
      ]
     },
     "execution_count": 85,
     "metadata": {},
     "output_type": "execute_result"
    }
   ],
   "source": [
    "laplace_bigram = LaplaceLM(bigram, 0.1) \n",
    "laplace_bigram.probability(\"[OOV]\",\"money\")"
   ]
  },
  {
   "cell_type": "markdown",
   "metadata": {
    "hideCode": false,
    "hidePrompt": false,
    "slideshow": {
     "slide_type": "subslide"
    }
   },
   "source": [
    "Perplexity should look better now:"
   ]
  },
  {
   "cell_type": "code",
   "execution_count": 86,
   "metadata": {
    "hideCode": false,
    "hidePrompt": false,
    "run_control": {
     "frozen": false,
     "read_only": false
    },
    "slideshow": {
     "slide_type": "fragment"
    }
   },
   "outputs": [
    {
     "data": {
      "text/plain": [
       "93.79512094464789"
      ]
     },
     "execution_count": 86,
     "metadata": {},
     "output_type": "execute_result"
    }
   ],
   "source": [
    "perplexity(LaplaceLM(bigram, 0.001),oov_test)"
   ]
  },
  {
   "cell_type": "markdown",
   "metadata": {
    "hideCode": false,
    "hidePrompt": false,
    "slideshow": {
     "slide_type": "slide"
    }
   },
   "source": [
    "### Example\n",
    "Consider three events:"
   ]
  },
  {
   "cell_type": "code",
   "execution_count": 87,
   "metadata": {
    "hideCode": false,
    "hidePrompt": false,
    "slideshow": {
     "slide_type": "fragment"
    }
   },
   "outputs": [
    {
     "data": {
      "text/html": [
       "<table align=\"left\" style=\"font-size:x-large;\"><tr><th>word</th><th>train count</th><th>MLE</th><th>Laplace</th><th>Same Denominator</th></tr><tr><td style='padding:5px; text-align:left'>smally</td> <td style='padding:5px; text-align:left'>0</td> <td style='padding:5px; text-align:left'>0/3</td> <td style='padding:5px; text-align:left'>1/6</td> <td style='padding:5px; text-align:left'>0.5/3</td><tr><tr><td style='padding:5px; text-align:left'>bigly</td> <td style='padding:5px; text-align:left'>1</td> <td style='padding:5px; text-align:left'>1/3</td> <td style='padding:5px; text-align:left'>2/6</td> <td style='padding:5px; text-align:left'>1/3</td><tr><tr><td style='padding:5px; text-align:left'>tremendously</td> <td style='padding:5px; text-align:left'>2</td> <td style='padding:5px; text-align:left'>2/3</td> <td style='padding:5px; text-align:left'>3/6</td> <td style='padding:5px; text-align:left'>1.5/3</td><tr></table>"
      ],
      "text/plain": [
       "<statnlpbook.util.Table at 0x7fd7350db6a0>"
      ]
     },
     "execution_count": 87,
     "metadata": {},
     "output_type": "execute_result"
    }
   ],
   "source": [
    "c  = [\"word\",         \"train count\", \"MLE\",  \"Laplace\", \"Same Denominator\"]\n",
    "r1 = [\"smally\",       \"0\",           \"0/3\",    \"1/6\",       \"0.5/3\"]\n",
    "r2 = [\"bigly\",        \"1\",           \"1/3\",    \"2/6\",       \"1/3\"]\n",
    "r3 = [\"tremendously\", \"2\",           \"2/3\",    \"3/6\",       \"1.5/3\"]\n",
    "util.Table([r1,r2,r3], column_names=c)"
   ]
  },
  {
   "cell_type": "markdown",
   "metadata": {
    "slideshow": {
     "slide_type": "subslide"
    }
   },
   "source": [
    "How is mass moved for Laplace Smoothing?"
   ]
  },
  {
   "cell_type": "raw",
   "metadata": {
    "hide_egal": true,
    "is_egal": true,
    "slideshow": {
     "slide_type": "fragment"
    }
   },
   "source": [
    "<svg height=\"350\" width=\"100%\"><g id=\"drup_elem_10\" class=\"drupElem\"><rect x=\"71.578125\" y=\"234.8125\" width=\"126\" height=\"92\" fill=\"transparent\" stroke=\"#000000\" vector-effect=\"non-scaling-stroke\" style=\"stroke-width: 1;\" class=\"core alignable sub\" transform=\"matrix(1.0159,0,0,0.9565,-3.1362,14.2092)\"></rect><circle cx=\"134.578125\" cy=\"234.8125\" r=\"5\" stroke=\"#000000\" fill=\"#ffffff\" id=\"drup_elem_10_endpoint_0\" style=\"stroke-width: 1; opacity: 0;\" class=\"endPoint up sub\" transform=\"matrix(1,0,0,1,-1,4)\"></circle><circle cx=\"134.578125\" cy=\"326.8125\" r=\"5\" stroke=\"#000000\" fill=\"#ffffff\" id=\"drup_elem_10_endpoint_1\" style=\"stroke-width: 1; opacity: 0;\" class=\"endPoint down sub\" transform=\"matrix(1,0,0,1,-1,0)\"></circle><circle cx=\"71.578125\" cy=\"280.8125\" r=\"5\" stroke=\"#000000\" fill=\"#ffffff\" id=\"drup_elem_10_endpoint_2\" style=\"stroke-width: 1; opacity: 0;\" class=\"endPoint left sub\" transform=\"matrix(1,0,0,1,-2,2)\"></circle><circle cx=\"197.578125\" cy=\"280.8125\" r=\"5\" stroke=\"#000000\" fill=\"#ffffff\" id=\"drup_elem_10_endpoint_3\" style=\"stroke-width: 1; opacity: 0;\" class=\"endPoint right sub\" transform=\"matrix(1,0,0,1,0,2)\"></circle><circle cx=\"71.578125\" cy=\"234.8125\" r=\"5\" stroke=\"#000000\" fill=\"#ffffff\" id=\"drup_elem_10_endpoint_4\" style=\"stroke-width: 1; opacity: 0;\" class=\"endPoint left-up sub\" transform=\"matrix(1,0,0,1,-2,4)\"></circle><circle cx=\"71.578125\" cy=\"326.8125\" r=\"5\" stroke=\"#000000\" fill=\"#ffffff\" id=\"drup_elem_10_endpoint_5\" style=\"stroke-width: 1; opacity: 0;\" class=\"endPoint left-down sub\" transform=\"matrix(1,0,0,1,-2,0)\"></circle><circle cx=\"197.578125\" cy=\"234.8125\" r=\"5\" stroke=\"#000000\" fill=\"#ffffff\" id=\"drup_elem_10_endpoint_6\" style=\"stroke-width: 1; opacity: 0;\" class=\"endPoint right-up sub\" transform=\"matrix(1,0,0,1,0,4)\"></circle><circle cx=\"197.578125\" cy=\"326.8125\" r=\"5\" stroke=\"#000000\" fill=\"#ffffff\" id=\"drup_elem_10_endpoint_7\" style=\"stroke-width: 1; opacity: 0;\" class=\"endPoint right-down sub\" transform=\"matrix(1,0,0,1,0,0)\"></circle><text x=\"134.578125\" y=\"280.8125\" style=\"font-size: 20px; text-anchor: middle; alignment-baseline: central; opacity: 0;\" class=\"egal-label sub\" transform=\"matrix(1,0,0,1,-1.0002,1.9891)\">|</text></g><desc>Created with Snap</desc><defs><filter id=\"Sj8p12k397a\" filterUnits=\"userSpaceOnUse\"><feGaussianBlur in=\"SourceAlpha\" stdDeviation=\"3\"></feGaussianBlur><feOffset dx=\"0\" dy=\"2\" result=\"offsetblur\"></feOffset><feFlood flood-color=\"#000000\"></feFlood><feComposite in2=\"offsetblur\" operator=\"in\"></feComposite><feComponentTransfer><feFuncA type=\"linear\" slope=\"1\"></feFuncA></feComponentTransfer><feMerge><feMergeNode></feMergeNode><feMergeNode in=\"SourceGraphic\"></feMergeNode></feMerge></filter><marker viewBox=\"0 0 10 10\" markerWidth=\"10\" markerHeight=\"10\" orient=\"auto\" refX=\"9\" refY=\"3\" id=\"arrowEndMarker\"><polygon points=\"0,0,0,6,9,3,0,0\" fill=\"#323232\" id=\"arrow\" style=\"\"></polygon></marker><marker viewBox=\"0 0 10 10\" markerWidth=\"10\" markerHeight=\"10\" orient=\"auto\" refX=\"0\" refY=\"3\" id=\"arrowStartMarker\"><polygon points=\"0,3,9,0,9,6,0,3\" fill=\"#323232\" id=\"startArrow\" style=\"\"></polygon></marker><filter id=\"Sj8p3bl8w5d\" filterUnits=\"userSpaceOnUse\"><feGaussianBlur in=\"SourceAlpha\" stdDeviation=\"3\"></feGaussianBlur><feOffset dx=\"0\" dy=\"2\" result=\"offsetblur\"></feOffset><feFlood flood-color=\"#000000\"></feFlood><feComposite in2=\"offsetblur\" operator=\"in\"></feComposite><feComponentTransfer><feFuncA type=\"linear\" slope=\"1\"></feFuncA></feComponentTransfer><feMerge><feMergeNode></feMergeNode><feMergeNode in=\"SourceGraphic\"></feMergeNode></feMerge></filter><marker viewBox=\"0 0 10 10\" markerWidth=\"10\" markerHeight=\"10\" orient=\"auto\" refX=\"9\" refY=\"3\" id=\"arrowEndMarker\"><polygon points=\"0,0,0,6,9,3,0,0\" fill=\"#323232\" id=\"arrow\" style=\"\"></polygon></marker><marker viewBox=\"0 0 10 10\" markerWidth=\"10\" markerHeight=\"10\" orient=\"auto\" refX=\"0\" refY=\"3\" id=\"arrowStartMarker\"><polygon points=\"0,3,9,0,9,6,0,3\" fill=\"#323232\" id=\"startArrow\" style=\"\"></polygon></marker></defs><g id=\"drup_elem_1\" class=\"drupElem\"><rect x=\"72.578125\" y=\"20.8125\" width=\"270\" height=\"89\" fill=\"lightblue\" stroke=\"#000000\" vector-effect=\"non-scaling-stroke\" style=\"stroke-width: 1;\" class=\"core alignable sub\" transform=\"matrix(1,0,0,1,-5,44)\"></rect><circle cx=\"207.578125\" cy=\"20.8125\" r=\"5\" stroke=\"#000000\" fill=\"#ffffff\" id=\"drup_elem_1_endpoint_0\" style=\"stroke-width: 1; opacity: 0;\" class=\"endPoint up sub\" transform=\"matrix(1,0,0,1,-5,44)\"></circle><circle cx=\"207.578125\" cy=\"109.8125\" r=\"5\" stroke=\"#000000\" fill=\"#ffffff\" id=\"drup_elem_1_endpoint_1\" style=\"stroke-width: 1; opacity: 0;\" class=\"endPoint down sub\" transform=\"matrix(1,0,0,1,-5,44)\"></circle><circle cx=\"72.578125\" cy=\"65.3125\" r=\"5\" stroke=\"#000000\" fill=\"#ffffff\" id=\"drup_elem_1_endpoint_2\" style=\"stroke-width: 1; opacity: 0;\" class=\"endPoint left sub\" transform=\"matrix(1,0,0,1,-5,44)\"></circle><circle cx=\"342.578125\" cy=\"65.3125\" r=\"5\" stroke=\"#000000\" fill=\"#ffffff\" id=\"drup_elem_1_endpoint_3\" style=\"stroke-width: 1; opacity: 0;\" class=\"endPoint right sub\" transform=\"matrix(1,0,0,1,-5,44)\"></circle><circle cx=\"72.578125\" cy=\"20.8125\" r=\"5\" stroke=\"#000000\" fill=\"#ffffff\" id=\"drup_elem_1_endpoint_4\" style=\"stroke-width: 1; opacity: 0;\" class=\"endPoint left-up sub\" transform=\"matrix(1,0,0,1,-5,44)\"></circle><circle cx=\"72.578125\" cy=\"109.8125\" r=\"5\" stroke=\"#000000\" fill=\"#ffffff\" id=\"drup_elem_1_endpoint_5\" style=\"stroke-width: 1; opacity: 0;\" class=\"endPoint left-down sub\" transform=\"matrix(1,0,0,1,-5,44)\"></circle><circle cx=\"342.578125\" cy=\"20.8125\" r=\"5\" stroke=\"#000000\" fill=\"#ffffff\" id=\"drup_elem_1_endpoint_6\" style=\"stroke-width: 1; opacity: 0;\" class=\"endPoint right-up sub\" transform=\"matrix(1,0,0,1,-5,44)\"></circle><circle cx=\"342.578125\" cy=\"109.8125\" r=\"5\" stroke=\"#000000\" fill=\"#ffffff\" id=\"drup_elem_1_endpoint_7\" style=\"stroke-width: 1; opacity: 0;\" class=\"endPoint right-down sub\" transform=\"matrix(1,0,0,1,-5,44)\"></circle><text x=\"207.578125\" y=\"65.3125\" style=\"font-size: 20px; text-anchor: middle; alignment-baseline: central; opacity: 1; visibility: visible;\" class=\"egal-label sub\" transform=\"matrix(1,0,0,1,-5,44)\" data-src=\"Count=1\">Count=1</text></g><g id=\"drup_elem_5\" class=\"drupElem\"><rect x=\"72.578125\" y=\"20.8125\" width=\"270\" height=\"89\" fill=\"orange\" stroke=\"#000000\" vector-effect=\"non-scaling-stroke\" style=\"stroke-width: 1;\" class=\"core alignable sub\" transform=\"matrix(0.4111,0,0,0.7865,47.7404,232.4431)\"></rect><circle cx=\"207.578125\" cy=\"20.8125\" r=\"5\" stroke=\"#000000\" fill=\"#ffffff\" id=\"drup_elem_5_endpoint_0\" style=\"stroke-width: 1; opacity: 0;\" class=\"endPoint up sub\" transform=\"matrix(1,0,0,1,-74.4992,228)\"></circle><circle cx=\"207.578125\" cy=\"109.8125\" r=\"5\" stroke=\"#000000\" fill=\"#ffffff\" id=\"drup_elem_5_endpoint_1\" style=\"stroke-width: 1; opacity: 0;\" class=\"endPoint down sub\" transform=\"matrix(1,0,0,1,-74.4992,209)\"></circle><circle cx=\"72.578125\" cy=\"65.3125\" r=\"5\" stroke=\"#000000\" fill=\"#ffffff\" id=\"drup_elem_5_endpoint_2\" style=\"stroke-width: 1; opacity: 0;\" class=\"endPoint left sub\" transform=\"matrix(1,0,0,1,5.0003,218.5)\"></circle><circle cx=\"342.578125\" cy=\"65.3125\" r=\"5\" stroke=\"#000000\" fill=\"#ffffff\" id=\"drup_elem_5_endpoint_3\" style=\"stroke-width: 1; opacity: 0;\" class=\"endPoint right sub\" transform=\"matrix(1,0,0,1,-153.9987,218.5)\"></circle><circle cx=\"72.578125\" cy=\"20.8125\" r=\"5\" stroke=\"#000000\" fill=\"#ffffff\" id=\"drup_elem_5_endpoint_4\" style=\"stroke-width: 1; opacity: 0;\" class=\"endPoint left-up sub\" transform=\"matrix(1,0,0,1,5.0003,228)\"></circle><circle cx=\"72.578125\" cy=\"109.8125\" r=\"5\" stroke=\"#000000\" fill=\"#ffffff\" id=\"drup_elem_5_endpoint_5\" style=\"stroke-width: 1; opacity: 0;\" class=\"endPoint left-down sub\" transform=\"matrix(1,0,0,1,5.0003,209)\"></circle><circle cx=\"342.578125\" cy=\"20.8125\" r=\"5\" stroke=\"#000000\" fill=\"#ffffff\" id=\"drup_elem_5_endpoint_6\" style=\"stroke-width: 1; opacity: 0;\" class=\"endPoint right-up sub\" transform=\"matrix(1,0,0,1,-153.9987,228)\"></circle><circle cx=\"342.578125\" cy=\"109.8125\" r=\"5\" stroke=\"#000000\" fill=\"#ffffff\" id=\"drup_elem_5_endpoint_7\" style=\"stroke-width: 1; opacity: 0;\" class=\"endPoint right-down sub\" transform=\"matrix(1,0,0,1,-153.9987,209)\"></circle><text x=\"207.578125\" y=\"65.3125\" style=\"font-size: 20px; text-anchor: middle; alignment-baseline: central; opacity: 0; visibility: visible;\" class=\"egal-label sub\" transform=\"matrix(1,0,0,1,-74.4911,218.4466)\">|</text></g><g id=\"drup_elem_6\" class=\"drupElem\"><rect x=\"72.578125\" y=\"20.8125\" width=\"270\" height=\"89\" fill=\"lightblue\" stroke=\"#000000\" vector-effect=\"non-scaling-stroke\" style=\"stroke-width: 1;\" class=\"core alignable sub\" transform=\"matrix(1,0,0,1,134,218)\"></rect><circle cx=\"207.578125\" cy=\"20.8125\" r=\"5\" stroke=\"#000000\" fill=\"#ffffff\" id=\"drup_elem_6_endpoint_0\" style=\"stroke-width: 1; opacity: 0;\" class=\"endPoint up sub\" transform=\"matrix(1,0,0,1,134,218)\"></circle><circle cx=\"207.578125\" cy=\"109.8125\" r=\"5\" stroke=\"#000000\" fill=\"#ffffff\" id=\"drup_elem_6_endpoint_1\" style=\"stroke-width: 1; opacity: 0;\" class=\"endPoint down sub\" transform=\"matrix(1,0,0,1,134,218)\"></circle><circle cx=\"72.578125\" cy=\"65.3125\" r=\"5\" stroke=\"#000000\" fill=\"#ffffff\" id=\"drup_elem_6_endpoint_2\" style=\"stroke-width: 1; opacity: 0;\" class=\"endPoint left sub\" transform=\"matrix(1,0,0,1,134,218)\"></circle><circle cx=\"342.578125\" cy=\"65.3125\" r=\"5\" stroke=\"#000000\" fill=\"#ffffff\" id=\"drup_elem_6_endpoint_3\" style=\"stroke-width: 1; opacity: 0;\" class=\"endPoint right sub\" transform=\"matrix(1,0,0,1,134,218)\"></circle><circle cx=\"72.578125\" cy=\"20.8125\" r=\"5\" stroke=\"#000000\" fill=\"#ffffff\" id=\"drup_elem_6_endpoint_4\" style=\"stroke-width: 1; opacity: 0;\" class=\"endPoint left-up sub\" transform=\"matrix(1,0,0,1,134,218)\"></circle><circle cx=\"72.578125\" cy=\"109.8125\" r=\"5\" stroke=\"#000000\" fill=\"#ffffff\" id=\"drup_elem_6_endpoint_5\" style=\"stroke-width: 1; opacity: 0;\" class=\"endPoint left-down sub\" transform=\"matrix(1,0,0,1,134,218)\"></circle><circle cx=\"342.578125\" cy=\"20.8125\" r=\"5\" stroke=\"#000000\" fill=\"#ffffff\" id=\"drup_elem_6_endpoint_6\" style=\"stroke-width: 1; opacity: 0;\" class=\"endPoint right-up sub\" transform=\"matrix(1,0,0,1,134,218)\"></circle><circle cx=\"342.578125\" cy=\"109.8125\" r=\"5\" stroke=\"#000000\" fill=\"#ffffff\" id=\"drup_elem_6_endpoint_7\" style=\"stroke-width: 1; opacity: 0;\" class=\"endPoint right-down sub\" transform=\"matrix(1,0,0,1,134,218)\"></circle><text x=\"207.578125\" y=\"65.3125\" style=\"font-size: 20px; text-anchor: middle; alignment-baseline: central; opacity: 1; visibility: visible;\" class=\"egal-label sub\" transform=\"matrix(1,0,0,1,134,218)\" data-src=\"=1\">=1</text></g><g id=\"drup_elem_7\" class=\"drupElem\"><rect x=\"72.578125\" y=\"20.8125\" width=\"270\" height=\"89\" fill=\"orange\" stroke=\"#000000\" vector-effect=\"non-scaling-stroke\" style=\"stroke-width: 1;\" class=\"core alignable sub\" transform=\"matrix(1.3185,0,0,1,388.8825,218)\"></rect><circle cx=\"207.578125\" cy=\"20.8125\" r=\"5\" stroke=\"#000000\" fill=\"#ffffff\" id=\"drup_elem_7_endpoint_0\" style=\"stroke-width: 1; opacity: 0;\" class=\"endPoint up sub\" transform=\"matrix(1,0,0,1,455,218)\"></circle><circle cx=\"207.578125\" cy=\"109.8125\" r=\"5\" stroke=\"#000000\" fill=\"#ffffff\" id=\"drup_elem_7_endpoint_1\" style=\"stroke-width: 1; opacity: 0;\" class=\"endPoint down sub\" transform=\"matrix(1,0,0,1,455,218)\"></circle><circle cx=\"72.578125\" cy=\"65.3125\" r=\"5\" stroke=\"#000000\" fill=\"#ffffff\" id=\"drup_elem_7_endpoint_2\" style=\"stroke-width: 1; opacity: 0;\" class=\"endPoint left sub\" transform=\"matrix(1,0,0,1,412,218)\"></circle><circle cx=\"342.578125\" cy=\"65.3125\" r=\"5\" stroke=\"#000000\" fill=\"#ffffff\" id=\"drup_elem_7_endpoint_3\" style=\"stroke-width: 1; opacity: 0;\" class=\"endPoint right sub\" transform=\"matrix(1,0,0,1,498,218)\"></circle><circle cx=\"72.578125\" cy=\"20.8125\" r=\"5\" stroke=\"#000000\" fill=\"#ffffff\" id=\"drup_elem_7_endpoint_4\" style=\"stroke-width: 1; opacity: 0;\" class=\"endPoint left-up sub\" transform=\"matrix(1,0,0,1,412,218)\"></circle><circle cx=\"72.578125\" cy=\"109.8125\" r=\"5\" stroke=\"#000000\" fill=\"#ffffff\" id=\"drup_elem_7_endpoint_5\" style=\"stroke-width: 1; opacity: 0;\" class=\"endPoint left-down sub\" transform=\"matrix(1,0,0,1,412,218)\"></circle><circle cx=\"342.578125\" cy=\"20.8125\" r=\"5\" stroke=\"#000000\" fill=\"#ffffff\" id=\"drup_elem_7_endpoint_6\" style=\"stroke-width: 1; opacity: 0;\" class=\"endPoint right-up sub\" transform=\"matrix(1,0,0,1,498,218)\"></circle><circle cx=\"342.578125\" cy=\"109.8125\" r=\"5\" stroke=\"#000000\" fill=\"#ffffff\" id=\"drup_elem_7_endpoint_7\" style=\"stroke-width: 1; opacity: 0;\" class=\"endPoint right-down sub\" transform=\"matrix(1,0,0,1,498,218)\"></circle><text x=\"207.578125\" y=\"65.3125\" style=\"font-size: 20px; text-anchor: middle; alignment-baseline: central; opacity: 1; visibility: visible;\" class=\"egal-label sub\" transform=\"matrix(1,0,0,1,454.995,218)\" data-src=\"=2\">=2</text></g><g id=\"drup_elem_2\" class=\"drupElem\"><rect x=\"350.578125\" y=\"20.8125\" width=\"490\" height=\"88\" fill=\"orange\" stroke=\"#000000\" vector-effect=\"non-scaling-stroke\" style=\"stroke-width: 1;\" class=\"core alignable sub\" transform=\"matrix(1,0,0,1.0115,0,43.7635)\"></rect><circle cx=\"595.578125\" cy=\"20.8125\" r=\"5\" stroke=\"#000000\" fill=\"#ffffff\" id=\"drup_elem_2_endpoint_0\" style=\"stroke-width: 1; opacity: 0;\" class=\"endPoint up sub\" transform=\"matrix(1,0,0,1,0,44)\"></circle><circle cx=\"595.578125\" cy=\"108.8125\" r=\"5\" stroke=\"#000000\" fill=\"#ffffff\" id=\"drup_elem_2_endpoint_1\" style=\"stroke-width: 1; opacity: 0;\" class=\"endPoint down sub\" transform=\"matrix(1,0,0,1,0,44.9996)\"></circle><circle cx=\"350.578125\" cy=\"64.8125\" r=\"5\" stroke=\"#000000\" fill=\"#ffffff\" id=\"drup_elem_2_endpoint_2\" style=\"stroke-width: 1; opacity: 0;\" class=\"endPoint left sub\" transform=\"matrix(1,0,0,1,0,44.4998)\"></circle><circle cx=\"840.578125\" cy=\"64.8125\" r=\"5\" stroke=\"#000000\" fill=\"#ffffff\" id=\"drup_elem_2_endpoint_3\" style=\"stroke-width: 1; opacity: 0;\" class=\"endPoint right sub\" transform=\"matrix(1,0,0,1,0,44.4998)\"></circle><circle cx=\"350.578125\" cy=\"20.8125\" r=\"5\" stroke=\"#000000\" fill=\"#ffffff\" id=\"drup_elem_2_endpoint_4\" style=\"stroke-width: 1; opacity: 0;\" class=\"endPoint left-up sub\" transform=\"matrix(1,0,0,1,0,44)\"></circle><circle cx=\"350.578125\" cy=\"108.8125\" r=\"5\" stroke=\"#000000\" fill=\"#ffffff\" id=\"drup_elem_2_endpoint_5\" style=\"stroke-width: 1; opacity: 0;\" class=\"endPoint left-down sub\" transform=\"matrix(1,0,0,1,0,44.9996)\"></circle><circle cx=\"840.578125\" cy=\"20.8125\" r=\"5\" stroke=\"#000000\" fill=\"#ffffff\" id=\"drup_elem_2_endpoint_6\" style=\"stroke-width: 1; opacity: 0;\" class=\"endPoint right-up sub\" transform=\"matrix(1,0,0,1,0,44)\"></circle><circle cx=\"840.578125\" cy=\"108.8125\" r=\"5\" stroke=\"#000000\" fill=\"#ffffff\" id=\"drup_elem_2_endpoint_7\" style=\"stroke-width: 1; opacity: 0;\" class=\"endPoint right-down sub\" transform=\"matrix(1,0,0,1,0,44.9996)\"></circle><text x=\"595.578125\" y=\"64.8125\" style=\"font-size: 20px; text-anchor: middle; alignment-baseline: central; opacity: 1; visibility: visible;\" class=\"egal-label sub\" transform=\"matrix(1,0,0,1,0,44.5026)\" data-src=\"Count=2\">Count=2</text></g><g id=\"drup_elem_8\" class=\"drupElem egal-select\"><text x=\"350.578125\" y=\"51.8125\" class=\"core alignable sub egal-label\" style=\"text-anchor: middle; alignment-baseline: central; font-size: 20px; visibility: visible; opacity: 1;\" data-src=\"probability for count class in Maximum Likelihood\" transform=\"matrix(1,0,0,1,91,-17)\">probability for count class in Maximum Likelihood</text></g><g id=\"drup_elem_9\" class=\"drupElem\"><text x=\"321.578125\" y=\"189.8125\" class=\"core alignable sub egal-label\" style=\"text-anchor: middle; alignment-baseline: central; font-size: 20px;\" data-src=\"Laplace\" transform=\"matrix(1,0,0,1,120,19)\">Laplace</text></g><g id=\"drup_elem_11\" class=\"drupElem\"><text x=\"119.578125\" y=\"231.8125\" class=\"core alignable sub egal-label\" style=\"text-anchor: middle; alignment-baseline: central; font-size: 20px;\" data-src=\"=0\" transform=\"matrix(1,0,0,1,14,-13)\">=0</text></g></svg>"
   ]
  },
  {
   "cell_type": "markdown",
   "metadata": {
    "hideCode": false,
    "hidePrompt": false,
    "slideshow": {
     "slide_type": "subslide"
    }
   },
   "source": [
    "Events with higher counts get penalised more!\n",
    "\n",
    "Is this consistent with how counts behave on an unseen test?"
   ]
  },
  {
   "cell_type": "code",
   "execution_count": 88,
   "metadata": {
    "hideCode": true,
    "hidePrompt": false,
    "run_control": {
     "frozen": false,
     "read_only": false
    },
    "scrolled": false,
    "slideshow": {
     "slide_type": "subslide"
    }
   },
   "outputs": [
    {
     "data": {
      "text/html": [
       "<table align=\"left\" style=\"font-size:x-large;\"><tr><th>Train Count</th><th>Test Count</th><th>Laplace Count</th></tr><tr><td style='padding:5px; text-align:left'>0</td> <td style='padding:5px; text-align:left'>0.0034</td> <td style='padding:5px; text-align:left'>0.0050</td><tr><tr><td style='padding:5px; text-align:left'>1</td> <td style='padding:5px; text-align:left'>0.4375</td> <td style='padding:5px; text-align:left'>0.3019</td><tr><tr><td style='padding:5px; text-align:left'>2</td> <td style='padding:5px; text-align:left'>1.1152</td> <td style='padding:5px; text-align:left'>0.7546</td><tr><tr><td style='padding:5px; text-align:left'>3</td> <td style='padding:5px; text-align:left'>1.6615</td> <td style='padding:5px; text-align:left'>1.2125</td><tr><tr><td style='padding:5px; text-align:left'>4</td> <td style='padding:5px; text-align:left'>2.6753</td> <td style='padding:5px; text-align:left'>1.5728</td><tr><tr><td style='padding:5px; text-align:left'>5</td> <td style='padding:5px; text-align:left'>4.1019</td> <td style='padding:5px; text-align:left'>2.2806</td><tr><tr><td style='padding:5px; text-align:left'>6</td> <td style='padding:5px; text-align:left'>4.6883</td> <td style='padding:5px; text-align:left'>2.5625</td><tr><tr><td style='padding:5px; text-align:left'>7</td> <td style='padding:5px; text-align:left'>5.3929</td> <td style='padding:5px; text-align:left'>3.5774</td><tr></table>"
      ],
      "text/plain": [
       "<statnlpbook.util.Table at 0x7fd72bd37cc0>"
      ]
     },
     "execution_count": 88,
     "metadata": {},
     "output_type": "execute_result"
    }
   ],
   "source": [
    "util.Table(frame, column_names = [\"Train Count\", \"Test Count\", \"Laplace Count\"], number_format=\"{0:.4f}\")"
   ]
  },
  {
   "cell_type": "markdown",
   "metadata": {
    "hideCode": false,
    "hidePrompt": false,
    "slideshow": {
     "slide_type": "fragment"
    }
   },
   "source": [
    "Penalty is closer to being constant than increasing by count:\n",
    "* Test counts usually between 0.6 and 1.4 smaller than train counts\n",
    "* In larger datasets this can be a constant!"
   ]
  },
  {
   "cell_type": "markdown",
   "metadata": {
    "hideCode": false,
    "hidePrompt": false,
    "slideshow": {
     "slide_type": "subslide"
    }
   },
   "source": [
    "So \"real\" re-allocation looks more like this:"
   ]
  },
  {
   "cell_type": "raw",
   "metadata": {
    "hide_egal": true,
    "is_egal": true,
    "slideshow": {
     "slide_type": "fragment"
    }
   },
   "source": [
    "<svg height=\"350\" width=\"100%\"><g id=\"drup_elem_10\" class=\"drupElem\"><rect x=\"71.578125\" y=\"234.8125\" width=\"126\" height=\"92\" fill=\"transparent\" stroke=\"#000000\" vector-effect=\"non-scaling-stroke\" style=\"stroke-width: 1;\" class=\"core alignable sub\" transform=\"matrix(1.0159,0,0,0.9565,-3.1362,14.2092)\"></rect><circle cx=\"134.578125\" cy=\"234.8125\" r=\"5\" stroke=\"#000000\" fill=\"#ffffff\" id=\"drup_elem_10_endpoint_0\" style=\"stroke-width: 1; opacity: 0;\" class=\"endPoint up sub\" transform=\"matrix(1,0,0,1,-1,4)\"></circle><circle cx=\"134.578125\" cy=\"326.8125\" r=\"5\" stroke=\"#000000\" fill=\"#ffffff\" id=\"drup_elem_10_endpoint_1\" style=\"stroke-width: 1; opacity: 0;\" class=\"endPoint down sub\" transform=\"matrix(1,0,0,1,-1,0)\"></circle><circle cx=\"71.578125\" cy=\"280.8125\" r=\"5\" stroke=\"#000000\" fill=\"#ffffff\" id=\"drup_elem_10_endpoint_2\" style=\"stroke-width: 1; opacity: 0;\" class=\"endPoint left sub\" transform=\"matrix(1,0,0,1,-2,2)\"></circle><circle cx=\"197.578125\" cy=\"280.8125\" r=\"5\" stroke=\"#000000\" fill=\"#ffffff\" id=\"drup_elem_10_endpoint_3\" style=\"stroke-width: 1; opacity: 0;\" class=\"endPoint right sub\" transform=\"matrix(1,0,0,1,0,2)\"></circle><circle cx=\"71.578125\" cy=\"234.8125\" r=\"5\" stroke=\"#000000\" fill=\"#ffffff\" id=\"drup_elem_10_endpoint_4\" style=\"stroke-width: 1; opacity: 0;\" class=\"endPoint left-up sub\" transform=\"matrix(1,0,0,1,-2,4)\"></circle><circle cx=\"71.578125\" cy=\"326.8125\" r=\"5\" stroke=\"#000000\" fill=\"#ffffff\" id=\"drup_elem_10_endpoint_5\" style=\"stroke-width: 1; opacity: 0;\" class=\"endPoint left-down sub\" transform=\"matrix(1,0,0,1,-2,0)\"></circle><circle cx=\"197.578125\" cy=\"234.8125\" r=\"5\" stroke=\"#000000\" fill=\"#ffffff\" id=\"drup_elem_10_endpoint_6\" style=\"stroke-width: 1; opacity: 0;\" class=\"endPoint right-up sub\" transform=\"matrix(1,0,0,1,0,4)\"></circle><circle cx=\"197.578125\" cy=\"326.8125\" r=\"5\" stroke=\"#000000\" fill=\"#ffffff\" id=\"drup_elem_10_endpoint_7\" style=\"stroke-width: 1; opacity: 0;\" class=\"endPoint right-down sub\" transform=\"matrix(1,0,0,1,0,0)\"></circle><text x=\"134.578125\" y=\"280.8125\" style=\"font-size: 20px; text-anchor: middle; alignment-baseline: central; opacity: 0;\" class=\"egal-label sub\" transform=\"matrix(1,0,0,1,-1.0002,1.9891)\">|</text></g><desc>Created with Snap</desc><defs><filter id=\"Sj8p12k397a\" filterUnits=\"userSpaceOnUse\"><feGaussianBlur in=\"SourceAlpha\" stdDeviation=\"3\"></feGaussianBlur><feOffset dx=\"0\" dy=\"2\" result=\"offsetblur\"></feOffset><feFlood flood-color=\"#000000\"></feFlood><feComposite in2=\"offsetblur\" operator=\"in\"></feComposite><feComponentTransfer><feFuncA type=\"linear\" slope=\"1\"></feFuncA></feComponentTransfer><feMerge><feMergeNode></feMergeNode><feMergeNode in=\"SourceGraphic\"></feMergeNode></feMerge></filter><marker viewBox=\"0 0 10 10\" markerWidth=\"10\" markerHeight=\"10\" orient=\"auto\" refX=\"9\" refY=\"3\" id=\"arrowEndMarker\"><polygon points=\"0,0,0,6,9,3,0,0\" fill=\"#323232\" id=\"arrow\" style=\"\"></polygon></marker><marker viewBox=\"0 0 10 10\" markerWidth=\"10\" markerHeight=\"10\" orient=\"auto\" refX=\"0\" refY=\"3\" id=\"arrowStartMarker\"><polygon points=\"0,3,9,0,9,6,0,3\" fill=\"#323232\" id=\"startArrow\" style=\"\"></polygon></marker><filter id=\"Sj8p3bl8w7h\" filterUnits=\"userSpaceOnUse\"><feGaussianBlur in=\"SourceAlpha\" stdDeviation=\"3\"></feGaussianBlur><feOffset dx=\"0\" dy=\"2\" result=\"offsetblur\"></feOffset><feFlood flood-color=\"#000000\"></feFlood><feComposite in2=\"offsetblur\" operator=\"in\"></feComposite><feComponentTransfer><feFuncA type=\"linear\" slope=\"1\"></feFuncA></feComponentTransfer><feMerge><feMergeNode></feMergeNode><feMergeNode in=\"SourceGraphic\"></feMergeNode></feMerge></filter><marker viewBox=\"0 0 10 10\" markerWidth=\"10\" markerHeight=\"10\" orient=\"auto\" refX=\"9\" refY=\"3\" id=\"arrowEndMarker\"><polygon points=\"0,0,0,6,9,3,0,0\" fill=\"#323232\" id=\"arrow\" style=\"\"></polygon></marker><marker viewBox=\"0 0 10 10\" markerWidth=\"10\" markerHeight=\"10\" orient=\"auto\" refX=\"0\" refY=\"3\" id=\"arrowStartMarker\"><polygon points=\"0,3,9,0,9,6,0,3\" fill=\"#323232\" id=\"startArrow\" style=\"\"></polygon></marker></defs><g id=\"drup_elem_1\" class=\"drupElem\"><rect x=\"72.578125\" y=\"20.8125\" width=\"270\" height=\"89\" fill=\"lightblue\" stroke=\"#000000\" vector-effect=\"non-scaling-stroke\" style=\"stroke-width: 1;\" class=\"core alignable sub\" transform=\"matrix(1,0,0,1,-5,44)\"></rect><circle cx=\"207.578125\" cy=\"20.8125\" r=\"5\" stroke=\"#000000\" fill=\"#ffffff\" id=\"drup_elem_1_endpoint_0\" style=\"stroke-width: 1; opacity: 0;\" class=\"endPoint up sub\" transform=\"matrix(1,0,0,1,-5,44)\"></circle><circle cx=\"207.578125\" cy=\"109.8125\" r=\"5\" stroke=\"#000000\" fill=\"#ffffff\" id=\"drup_elem_1_endpoint_1\" style=\"stroke-width: 1; opacity: 0;\" class=\"endPoint down sub\" transform=\"matrix(1,0,0,1,-5,44)\"></circle><circle cx=\"72.578125\" cy=\"65.3125\" r=\"5\" stroke=\"#000000\" fill=\"#ffffff\" id=\"drup_elem_1_endpoint_2\" style=\"stroke-width: 1; opacity: 0;\" class=\"endPoint left sub\" transform=\"matrix(1,0,0,1,-5,44)\"></circle><circle cx=\"342.578125\" cy=\"65.3125\" r=\"5\" stroke=\"#000000\" fill=\"#ffffff\" id=\"drup_elem_1_endpoint_3\" style=\"stroke-width: 1; opacity: 0;\" class=\"endPoint right sub\" transform=\"matrix(1,0,0,1,-5,44)\"></circle><circle cx=\"72.578125\" cy=\"20.8125\" r=\"5\" stroke=\"#000000\" fill=\"#ffffff\" id=\"drup_elem_1_endpoint_4\" style=\"stroke-width: 1; opacity: 0;\" class=\"endPoint left-up sub\" transform=\"matrix(1,0,0,1,-5,44)\"></circle><circle cx=\"72.578125\" cy=\"109.8125\" r=\"5\" stroke=\"#000000\" fill=\"#ffffff\" id=\"drup_elem_1_endpoint_5\" style=\"stroke-width: 1; opacity: 0;\" class=\"endPoint left-down sub\" transform=\"matrix(1,0,0,1,-5,44)\"></circle><circle cx=\"342.578125\" cy=\"20.8125\" r=\"5\" stroke=\"#000000\" fill=\"#ffffff\" id=\"drup_elem_1_endpoint_6\" style=\"stroke-width: 1; opacity: 0;\" class=\"endPoint right-up sub\" transform=\"matrix(1,0,0,1,-5,44)\"></circle><circle cx=\"342.578125\" cy=\"109.8125\" r=\"5\" stroke=\"#000000\" fill=\"#ffffff\" id=\"drup_elem_1_endpoint_7\" style=\"stroke-width: 1; opacity: 0;\" class=\"endPoint right-down sub\" transform=\"matrix(1,0,0,1,-5,44)\"></circle><text x=\"207.578125\" y=\"65.3125\" style=\"font-size: 20px; text-anchor: middle; alignment-baseline: central; opacity: 1; visibility: visible;\" class=\"egal-label sub\" transform=\"matrix(1,0,0,1,-5,44)\" data-src=\"Count=1\">Count=1</text></g><g id=\"drup_elem_5\" class=\"drupElem\"><rect x=\"72.578125\" y=\"20.8125\" width=\"270\" height=\"89\" fill=\"lightblue\" stroke=\"#000000\" vector-effect=\"non-scaling-stroke\" style=\"stroke-width: 1;\" class=\"core alignable sub\" transform=\"matrix(0.1963,0,0,0.7865,63.3313,232.4431)\"></rect><circle cx=\"207.578125\" cy=\"20.8125\" r=\"5\" stroke=\"#000000\" fill=\"#ffffff\" id=\"drup_elem_5_endpoint_0\" style=\"stroke-width: 1; opacity: 0;\" class=\"endPoint up sub\" transform=\"matrix(1,0,0,1,-103.5009,228)\"></circle><circle cx=\"207.578125\" cy=\"109.8125\" r=\"5\" stroke=\"#000000\" fill=\"#ffffff\" id=\"drup_elem_5_endpoint_1\" style=\"stroke-width: 1; opacity: 0;\" class=\"endPoint down sub\" transform=\"matrix(1,0,0,1,-103.5009,209)\"></circle><circle cx=\"72.578125\" cy=\"65.3125\" r=\"5\" stroke=\"#000000\" fill=\"#ffffff\" id=\"drup_elem_5_endpoint_2\" style=\"stroke-width: 1; opacity: 0;\" class=\"endPoint left sub\" transform=\"matrix(1,0,0,1,4.9997,218.5)\"></circle><circle cx=\"342.578125\" cy=\"65.3125\" r=\"5\" stroke=\"#000000\" fill=\"#ffffff\" id=\"drup_elem_5_endpoint_3\" style=\"stroke-width: 1; opacity: 0;\" class=\"endPoint right sub\" transform=\"matrix(1,0,0,1,-212.0014,218.5)\"></circle><circle cx=\"72.578125\" cy=\"20.8125\" r=\"5\" stroke=\"#000000\" fill=\"#ffffff\" id=\"drup_elem_5_endpoint_4\" style=\"stroke-width: 1; opacity: 0;\" class=\"endPoint left-up sub\" transform=\"matrix(1,0,0,1,4.9997,228)\"></circle><circle cx=\"72.578125\" cy=\"109.8125\" r=\"5\" stroke=\"#000000\" fill=\"#ffffff\" id=\"drup_elem_5_endpoint_5\" style=\"stroke-width: 1; opacity: 0;\" class=\"endPoint left-down sub\" transform=\"matrix(1,0,0,1,4.9997,209)\"></circle><circle cx=\"342.578125\" cy=\"20.8125\" r=\"5\" stroke=\"#000000\" fill=\"#ffffff\" id=\"drup_elem_5_endpoint_6\" style=\"stroke-width: 1; opacity: 0;\" class=\"endPoint right-up sub\" transform=\"matrix(1,0,0,1,-212.0014,228)\"></circle><circle cx=\"342.578125\" cy=\"109.8125\" r=\"5\" stroke=\"#000000\" fill=\"#ffffff\" id=\"drup_elem_5_endpoint_7\" style=\"stroke-width: 1; opacity: 0;\" class=\"endPoint right-down sub\" transform=\"matrix(1,0,0,1,-212.0014,209)\"></circle><text x=\"207.578125\" y=\"65.3125\" style=\"font-size: 20px; text-anchor: middle; alignment-baseline: central; opacity: 0; visibility: visible;\" class=\"egal-label sub\" transform=\"matrix(1,0,0,1,-103.4888,218.4466)\">|</text></g><g id=\"drup_elem_10\" class=\"drupElem\"><rect x=\"72.578125\" y=\"20.8125\" width=\"270\" height=\"89\" fill=\"orange\" stroke=\"#000000\" vector-effect=\"non-scaling-stroke\" style=\"stroke-width: 1;\" class=\"core alignable sub\" transform=\"matrix(0.1963,0,0,0.7865,122.3313,232.4431)\"></rect><circle cx=\"207.578125\" cy=\"20.8125\" r=\"5\" stroke=\"#000000\" fill=\"#ffffff\" id=\"drup_elem_10_endpoint_0\" style=\"stroke-width: 1; opacity: 0;\" class=\"endPoint up sub\" transform=\"matrix(1,0,0,1,-44.5009,228)\"></circle><circle cx=\"207.578125\" cy=\"109.8125\" r=\"5\" stroke=\"#000000\" fill=\"#ffffff\" id=\"drup_elem_10_endpoint_1\" style=\"stroke-width: 1; opacity: 0;\" class=\"endPoint down sub\" transform=\"matrix(1,0,0,1,-44.5009,209)\"></circle><circle cx=\"72.578125\" cy=\"65.3125\" r=\"5\" stroke=\"#000000\" fill=\"#ffffff\" id=\"drup_elem_10_endpoint_2\" style=\"stroke-width: 1; opacity: 0;\" class=\"endPoint left sub\" transform=\"matrix(1,0,0,1,63.9997,218.5)\"></circle><circle cx=\"342.578125\" cy=\"65.3125\" r=\"5\" stroke=\"#000000\" fill=\"#ffffff\" id=\"drup_elem_10_endpoint_3\" style=\"stroke-width: 1; opacity: 0;\" class=\"endPoint right sub\" transform=\"matrix(1,0,0,1,-153.0014,218.5)\"></circle><circle cx=\"72.578125\" cy=\"20.8125\" r=\"5\" stroke=\"#000000\" fill=\"#ffffff\" id=\"drup_elem_10_endpoint_4\" style=\"stroke-width: 1; opacity: 0;\" class=\"endPoint left-up sub\" transform=\"matrix(1,0,0,1,63.9997,228)\"></circle><circle cx=\"72.578125\" cy=\"109.8125\" r=\"5\" stroke=\"#000000\" fill=\"#ffffff\" id=\"drup_elem_10_endpoint_5\" style=\"stroke-width: 1; opacity: 0;\" class=\"endPoint left-down sub\" transform=\"matrix(1,0,0,1,63.9997,209)\"></circle><circle cx=\"342.578125\" cy=\"20.8125\" r=\"5\" stroke=\"#000000\" fill=\"#ffffff\" id=\"drup_elem_10_endpoint_6\" style=\"stroke-width: 1; opacity: 0;\" class=\"endPoint right-up sub\" transform=\"matrix(1,0,0,1,-153.0014,228)\"></circle><circle cx=\"342.578125\" cy=\"109.8125\" r=\"5\" stroke=\"#000000\" fill=\"#ffffff\" id=\"drup_elem_10_endpoint_7\" style=\"stroke-width: 1; opacity: 0;\" class=\"endPoint right-down sub\" transform=\"matrix(1,0,0,1,-153.0014,209)\"></circle><text x=\"207.578125\" y=\"65.3125\" style=\"font-size: 20px; text-anchor: middle; alignment-baseline: central; opacity: 0; visibility: visible;\" class=\"egal-label sub\" transform=\"matrix(1,0,0,1,-44.4888,218.4466)\">|</text></g><g id=\"drup_elem_6\" class=\"drupElem\"><rect x=\"72.578125\" y=\"20.8125\" width=\"270\" height=\"89\" fill=\"lightblue\" stroke=\"#000000\" vector-effect=\"non-scaling-stroke\" style=\"stroke-width: 1;\" class=\"core alignable sub\" transform=\"matrix(0.7074,0,0,1,155.2359,218)\"></rect><circle cx=\"207.578125\" cy=\"20.8125\" r=\"5\" stroke=\"#000000\" fill=\"#ffffff\" id=\"drup_elem_6_endpoint_0\" style=\"stroke-width: 1; opacity: 0;\" class=\"endPoint up sub\" transform=\"matrix(1,0,0,1,94.5009,218)\"></circle><circle cx=\"207.578125\" cy=\"109.8125\" r=\"5\" stroke=\"#000000\" fill=\"#ffffff\" id=\"drup_elem_6_endpoint_1\" style=\"stroke-width: 1; opacity: 0;\" class=\"endPoint down sub\" transform=\"matrix(1,0,0,1,94.5009,218)\"></circle><circle cx=\"72.578125\" cy=\"65.3125\" r=\"5\" stroke=\"#000000\" fill=\"#ffffff\" id=\"drup_elem_6_endpoint_2\" style=\"stroke-width: 1; opacity: 0;\" class=\"endPoint left sub\" transform=\"matrix(1,0,0,1,134.0003,218)\"></circle><circle cx=\"342.578125\" cy=\"65.3125\" r=\"5\" stroke=\"#000000\" fill=\"#ffffff\" id=\"drup_elem_6_endpoint_3\" style=\"stroke-width: 1; opacity: 0;\" class=\"endPoint right sub\" transform=\"matrix(1,0,0,1,55.0015,218)\"></circle><circle cx=\"72.578125\" cy=\"20.8125\" r=\"5\" stroke=\"#000000\" fill=\"#ffffff\" id=\"drup_elem_6_endpoint_4\" style=\"stroke-width: 1; opacity: 0;\" class=\"endPoint left-up sub\" transform=\"matrix(1,0,0,1,134.0003,218)\"></circle><circle cx=\"72.578125\" cy=\"109.8125\" r=\"5\" stroke=\"#000000\" fill=\"#ffffff\" id=\"drup_elem_6_endpoint_5\" style=\"stroke-width: 1; opacity: 0;\" class=\"endPoint left-down sub\" transform=\"matrix(1,0,0,1,134.0003,218)\"></circle><circle cx=\"342.578125\" cy=\"20.8125\" r=\"5\" stroke=\"#000000\" fill=\"#ffffff\" id=\"drup_elem_6_endpoint_6\" style=\"stroke-width: 1; opacity: 0;\" class=\"endPoint right-up sub\" transform=\"matrix(1,0,0,1,55.0015,218)\"></circle><circle cx=\"342.578125\" cy=\"109.8125\" r=\"5\" stroke=\"#000000\" fill=\"#ffffff\" id=\"drup_elem_6_endpoint_7\" style=\"stroke-width: 1; opacity: 0;\" class=\"endPoint right-down sub\" transform=\"matrix(1,0,0,1,55.0015,218)\"></circle><text x=\"207.578125\" y=\"65.3125\" style=\"font-size: 20px; text-anchor: middle; alignment-baseline: central; opacity: 1; visibility: visible;\" class=\"egal-label sub\" transform=\"matrix(1,0,0,1,94.5032,218)\" data-src=\"=1\">=1</text></g><g id=\"drup_elem_7\" class=\"drupElem\"><rect x=\"72.578125\" y=\"20.8125\" width=\"270\" height=\"89\" fill=\"orange\" stroke=\"#000000\" vector-effect=\"non-scaling-stroke\" style=\"stroke-width: 1;\" class=\"core alignable sub\" transform=\"matrix(1.6074,0,0,1,289.9155,218)\"></rect><circle cx=\"207.578125\" cy=\"20.8125\" r=\"5\" stroke=\"#000000\" fill=\"#ffffff\" id=\"drup_elem_7_endpoint_0\" style=\"stroke-width: 1; opacity: 0;\" class=\"endPoint up sub\" transform=\"matrix(1,0,0,1,416.0015,218)\"></circle><circle cx=\"207.578125\" cy=\"109.8125\" r=\"5\" stroke=\"#000000\" fill=\"#ffffff\" id=\"drup_elem_7_endpoint_1\" style=\"stroke-width: 1; opacity: 0;\" class=\"endPoint down sub\" transform=\"matrix(1,0,0,1,416.0015,218)\"></circle><circle cx=\"72.578125\" cy=\"65.3125\" r=\"5\" stroke=\"#000000\" fill=\"#ffffff\" id=\"drup_elem_7_endpoint_2\" style=\"stroke-width: 1; opacity: 0;\" class=\"endPoint left sub\" transform=\"matrix(1,0,0,1,334.0005,218)\"></circle><circle cx=\"342.578125\" cy=\"65.3125\" r=\"5\" stroke=\"#000000\" fill=\"#ffffff\" id=\"drup_elem_7_endpoint_3\" style=\"stroke-width: 1; opacity: 0;\" class=\"endPoint right sub\" transform=\"matrix(1,0,0,1,498.0024,218)\"></circle><circle cx=\"72.578125\" cy=\"20.8125\" r=\"5\" stroke=\"#000000\" fill=\"#ffffff\" id=\"drup_elem_7_endpoint_4\" style=\"stroke-width: 1; opacity: 0;\" class=\"endPoint left-up sub\" transform=\"matrix(1,0,0,1,334.0005,218)\"></circle><circle cx=\"72.578125\" cy=\"109.8125\" r=\"5\" stroke=\"#000000\" fill=\"#ffffff\" id=\"drup_elem_7_endpoint_5\" style=\"stroke-width: 1; opacity: 0;\" class=\"endPoint left-down sub\" transform=\"matrix(1,0,0,1,334.0005,218)\"></circle><circle cx=\"342.578125\" cy=\"20.8125\" r=\"5\" stroke=\"#000000\" fill=\"#ffffff\" id=\"drup_elem_7_endpoint_6\" style=\"stroke-width: 1; opacity: 0;\" class=\"endPoint right-up sub\" transform=\"matrix(1,0,0,1,498.0024,218)\"></circle><circle cx=\"342.578125\" cy=\"109.8125\" r=\"5\" stroke=\"#000000\" fill=\"#ffffff\" id=\"drup_elem_7_endpoint_7\" style=\"stroke-width: 1; opacity: 0;\" class=\"endPoint right-down sub\" transform=\"matrix(1,0,0,1,498.0024,218)\"></circle><text x=\"207.578125\" y=\"65.3125\" style=\"font-size: 20px; text-anchor: middle; alignment-baseline: central; opacity: 1; visibility: visible;\" class=\"egal-label sub\" transform=\"matrix(1,0,0,1,415.9936,218)\" data-src=\"=2\">=2</text></g><g id=\"drup_elem_2\" class=\"drupElem\"><rect x=\"350.578125\" y=\"20.8125\" width=\"490\" height=\"88\" fill=\"orange\" stroke=\"#000000\" vector-effect=\"non-scaling-stroke\" style=\"stroke-width: 1;\" class=\"core alignable sub\" transform=\"matrix(1,0,0,1.0115,0,43.7635)\"></rect><circle cx=\"595.578125\" cy=\"20.8125\" r=\"5\" stroke=\"#000000\" fill=\"#ffffff\" id=\"drup_elem_2_endpoint_0\" style=\"stroke-width: 1; opacity: 0;\" class=\"endPoint up sub\" transform=\"matrix(1,0,0,1,0,44)\"></circle><circle cx=\"595.578125\" cy=\"108.8125\" r=\"5\" stroke=\"#000000\" fill=\"#ffffff\" id=\"drup_elem_2_endpoint_1\" style=\"stroke-width: 1; opacity: 0;\" class=\"endPoint down sub\" transform=\"matrix(1,0,0,1,0,44.9996)\"></circle><circle cx=\"350.578125\" cy=\"64.8125\" r=\"5\" stroke=\"#000000\" fill=\"#ffffff\" id=\"drup_elem_2_endpoint_2\" style=\"stroke-width: 1; opacity: 0;\" class=\"endPoint left sub\" transform=\"matrix(1,0,0,1,0,44.4998)\"></circle><circle cx=\"840.578125\" cy=\"64.8125\" r=\"5\" stroke=\"#000000\" fill=\"#ffffff\" id=\"drup_elem_2_endpoint_3\" style=\"stroke-width: 1; opacity: 0;\" class=\"endPoint right sub\" transform=\"matrix(1,0,0,1,0,44.4998)\"></circle><circle cx=\"350.578125\" cy=\"20.8125\" r=\"5\" stroke=\"#000000\" fill=\"#ffffff\" id=\"drup_elem_2_endpoint_4\" style=\"stroke-width: 1; opacity: 0;\" class=\"endPoint left-up sub\" transform=\"matrix(1,0,0,1,0,44)\"></circle><circle cx=\"350.578125\" cy=\"108.8125\" r=\"5\" stroke=\"#000000\" fill=\"#ffffff\" id=\"drup_elem_2_endpoint_5\" style=\"stroke-width: 1; opacity: 0;\" class=\"endPoint left-down sub\" transform=\"matrix(1,0,0,1,0,44.9996)\"></circle><circle cx=\"840.578125\" cy=\"20.8125\" r=\"5\" stroke=\"#000000\" fill=\"#ffffff\" id=\"drup_elem_2_endpoint_6\" style=\"stroke-width: 1; opacity: 0;\" class=\"endPoint right-up sub\" transform=\"matrix(1,0,0,1,0,44)\"></circle><circle cx=\"840.578125\" cy=\"108.8125\" r=\"5\" stroke=\"#000000\" fill=\"#ffffff\" id=\"drup_elem_2_endpoint_7\" style=\"stroke-width: 1; opacity: 0;\" class=\"endPoint right-down sub\" transform=\"matrix(1,0,0,1,0,44.9996)\"></circle><text x=\"595.578125\" y=\"64.8125\" style=\"font-size: 20px; text-anchor: middle; alignment-baseline: central; opacity: 1; visibility: visible;\" class=\"egal-label sub\" transform=\"matrix(1,0,0,1,0,44.5026)\" data-src=\"Count=2\">Count=2</text></g><g id=\"drup_elem_8\" class=\"drupElem\"><text x=\"350.578125\" y=\"51.8125\" class=\"core alignable sub egal-label\" style=\"text-anchor: middle; alignment-baseline: central; font-size: 20px;\" data-src=\"Maximum Likelihood\" transform=\"matrix(1,0,0,1,91,-17)\">Maximum Likelihood</text></g><g id=\"drup_elem_9\" class=\"drupElem egal-select\"><text x=\"321.578125\" y=\"189.8125\" class=\"core alignable sub egal-label\" style=\"text-anchor: middle; alignment-baseline: central; font-size: 20px; visibility: visible; opacity: 1;\" data-src=\"Test Set Reallocation\" transform=\"matrix(1,0,0,1,119,19)\">Test Set Reallocation</text></g><g id=\"drup_elem_11\" class=\"drupElem\"><text x=\"119.578125\" y=\"231.8125\" class=\"core alignable sub egal-label\" style=\"text-anchor: middle; alignment-baseline: central; font-size: 20px;\" data-src=\"=0\" transform=\"matrix(1,0,0,1,14,-13)\">=0</text></g></svg>"
   ]
  },
  {
   "cell_type": "markdown",
   "metadata": {
    "hideCode": false,
    "hidePrompt": false,
    "slideshow": {
     "slide_type": "slide"
    }
   },
   "source": [
    "### Interpolation\n",
    "* Laplace Smoothing assigns mass **uniformly** to the words that haven't been seen in a context."
   ]
  },
  {
   "cell_type": "code",
   "execution_count": 89,
   "metadata": {
    "hideCode": false,
    "hidePrompt": false,
    "run_control": {
     "frozen": false,
     "read_only": false
    },
    "slideshow": {
     "slide_type": "fragment"
    }
   },
   "outputs": [
    {
     "data": {
      "text/plain": [
       "(0.0005649717514124294, 0.0005649717514124294)"
      ]
     },
     "execution_count": 89,
     "metadata": {},
     "output_type": "execute_result"
    }
   ],
   "source": [
    "laplace_bigram.probability('rhyme','man'), \\\n",
    "laplace_bigram.probability('of','man')"
   ]
  },
  {
   "cell_type": "markdown",
   "metadata": {
    "hideCode": false,
    "hidePrompt": false,
    "slideshow": {
     "slide_type": "subslide"
    }
   },
   "source": [
    "Not all unseen words (in a context) are equal"
   ]
  },
  {
   "cell_type": "markdown",
   "metadata": {
    "hideCode": false,
    "hidePrompt": false,
    "slideshow": {
     "slide_type": "subslide"
    }
   },
   "source": [
    "With **interpolation** We can do better: \n",
    "* give more mass to words likely under the $n-1$-gram model. \n",
    "    * Use $\\prob(\\text{of})$ for estimating $\\prob(\\text{of} | \\text{man})$\n",
    "* Combine $n$-gram model \\\\(p'\\\\) and a back-off \\\\(n-1\\\\) model \\\\(p''\\\\): \n",
    "\n",
    "$$\n",
    "\\prob_{\\alpha}(w_i|w_{i-n+1},\\ldots,w_{i-1}) = \\alpha \\cdot \\prob'(w_i|w_{i-n+1},\\ldots,w_{i-1}) + \\\\ (1 - \\alpha) \\cdot \\prob''(w_i|w_{i-n+2},\\ldots,w_{i-1})\n",
    "$$\n"
   ]
  },
  {
   "cell_type": "code",
   "execution_count": 90,
   "metadata": {
    "hideCode": false,
    "hidePrompt": false,
    "run_control": {
     "frozen": false,
     "read_only": false
    },
    "slideshow": {
     "slide_type": "subslide"
    }
   },
   "outputs": [
    {
     "data": {
      "text/plain": [
       "(0.001156307129798903, 0.007390310786106033)"
      ]
     },
     "execution_count": 90,
     "metadata": {},
     "output_type": "execute_result"
    }
   ],
   "source": [
    "interpolated = InterpolatedLM(bigram,unigram,0.01)\n",
    "interpolated.probability('rhyme','man'), \\\n",
    "interpolated.probability('of','man')"
   ]
  },
  {
   "cell_type": "markdown",
   "metadata": {
    "hideCode": false,
    "hidePrompt": false,
    "slideshow": {
     "slide_type": "subslide"
    }
   },
   "source": [
    "Can we find a good $\\alpha$ parameter? Tune on some **development set**!"
   ]
  },
  {
   "cell_type": "code",
   "execution_count": 91,
   "metadata": {
    "hideCode": false,
    "hidePrompt": false,
    "run_control": {
     "frozen": false,
     "read_only": false
    },
    "slideshow": {
     "slide_type": "fragment"
    }
   },
   "outputs": [
    {
     "data": {
      "text/plain": [
       "[<matplotlib.lines.Line2D at 0x7fd72bca9d30>]"
      ]
     },
     "execution_count": 91,
     "metadata": {},
     "output_type": "execute_result"
    },
    {
     "data": {
      "image/png": "[encoded data removed]",
      "text/plain": [
       "<matplotlib.figure.Figure at 0x7fd72bcc0f98>"
      ]
     },
     "metadata": {},
     "output_type": "display_data"
    }
   ],
   "source": [
    "alphas = np.arange(0,1.1,0.1)\n",
    "perplexities = [perplexity(InterpolatedLM(bigram,unigram,alpha),oov_test) \n",
    "                for alpha in alphas]\n",
    "plt.plot(alphas,perplexities)"
   ]
  },
  {
   "cell_type": "markdown",
   "metadata": {
    "hideCode": false,
    "hidePrompt": false,
    "slideshow": {
     "slide_type": "slide"
    }
   },
   "source": [
    "### Backoff \n",
    "* When we have counts for an event, trust these counts and not the simpler model\n",
    "    * use $\\prob(\\text{bigly}|\\text{win})$ if you have seen $(\\text{win, bigly})$, not $\\prob(\\text{bigly})$\n",
    "* **back-off** only when no counts for a given event are available."
   ]
  },
  {
   "cell_type": "markdown",
   "metadata": {
    "hideCode": false,
    "hidePrompt": false,
    "slideshow": {
     "slide_type": "subslide"
    }
   },
   "source": [
    "### Stupid Backoff\n",
    "Let \\\\(w\\\\) be a word and \\\\(h_{m}\\\\) an n-gram of length \\\\(m\\\\):  \n",
    "\n",
    "$$\n",
    "\\prob_{\\mbox{Stupid}}(w|h_{m}) = \n",
    "\\begin{cases}\n",
    "\\frac{\\counts{\\train}{h_{m},w}}{\\counts{\\train}{h_{m}}}  &= \\mbox{if }\\counts{\\train}{h_{m},w} > 0 \\\\\\\\\n",
    "\\prob_{\\mbox{Stupid}}(w|h_{m-1}) & \\mbox{otherwise}\n",
    "\\end{cases}\n",
    "$$"
   ]
  },
  {
   "cell_type": "markdown",
   "metadata": {
    "hideCode": false,
    "hidePrompt": false,
    "slideshow": {
     "slide_type": "subslide"
    }
   },
   "source": [
    "What is the problem with this model?"
   ]
  },
  {
   "cell_type": "code",
   "execution_count": 92,
   "metadata": {
    "hideCode": false,
    "hidePrompt": false,
    "run_control": {
     "frozen": false,
     "read_only": false
    },
    "slideshow": {
     "slide_type": "fragment"
    }
   },
   "outputs": [
    {
     "data": {
      "text/plain": [
       "1.0647115579930853"
      ]
     },
     "execution_count": 92,
     "metadata": {},
     "output_type": "execute_result"
    }
   ],
   "source": [
    "stupid = StupidBackoff(bigram, unigram, 0.1)\n",
    "sum([stupid.probability(word, 'the') for word in stupid.vocab])"
   ]
  },
  {
   "cell_type": "markdown",
   "metadata": {
    "hideCode": false,
    "hidePrompt": false,
    "run_control": {
     "frozen": false,
     "read_only": false
    },
    "slideshow": {
     "slide_type": "fragment"
    }
   },
   "source": [
    "Discuss with your neighbour and enter your answer here: https://tinyurl.com/ycf5b4p3"
   ]
  },
  {
   "cell_type": "markdown",
   "metadata": {
    "slideshow": {
     "slide_type": "slide"
    }
   },
   "source": [
    "### Absolute Discounting\n",
    "Recall that in test data, a constant probability mass is taken away for each non-zero count event. Can this be captured in a smoothing algorithm?"
   ]
  },
  {
   "cell_type": "markdown",
   "metadata": {
    "slideshow": {
     "slide_type": "subslide"
    }
   },
   "source": [
    "Yes: subtract (tunable) constant $d$ from each non-zero probability:\n",
    "\n",
    "$$\n",
    "\\prob_{\\mbox{Absolute}}(w|h_{m}) = \n",
    "\\begin{cases}\n",
    "\\frac{\\counts{\\train}{h_{m},w}-d}{\\counts{\\train}{h_{m}}}   &= \\mbox{if }\\counts{\\train}{h_{m},w} > 0 \\\\\\\\\n",
    "\\alpha(h_{m-1})\\cdot\\prob_{\\mbox{Absolute}}(w|h_{m-1}) & \\mbox{otherwise}\n",
    "\\end{cases}\n",
    "$$\n",
    "\n",
    "$\\alpha(h_{m-1})$ is a normalizer"
   ]
  },
  {
   "cell_type": "markdown",
   "metadata": {
    "slideshow": {
     "slide_type": "subslide"
    }
   },
   "source": [
    "### Unigram Backoff\n",
    "\n",
    "Assume, for example:\n",
    "* *Mos Def* is a rapper name that appears often in the data\n",
    "* *glasses* appears slightly less often\n",
    "* neither Def nor glasses have been seen in the context of the word *reading*"
   ]
  },
  {
   "cell_type": "markdown",
   "metadata": {
    "slideshow": {
     "slide_type": "subslide"
    }
   },
   "source": [
    "Then the final-backoff unigram model might assign a higher probability to\n",
    "\n",
    "> I can't see without my reading Def\n",
    "\n",
    "than\n",
    "\n",
    "> I can't see without my reading glasses\n",
    "\n",
    "because $\\prob(\\text{Def}) > \\prob(\\text{glasses})$"
   ]
  },
  {
   "cell_type": "markdown",
   "metadata": {
    "slideshow": {
     "slide_type": "fragment"
    }
   },
   "source": [
    "But *Def* never follows anything but *Mos*, and we can determine this by looking at the training data!"
   ]
  },
  {
   "cell_type": "markdown",
   "metadata": {
    "slideshow": {
     "slide_type": "subslide"
    }
   },
   "source": [
    "### Knesser Ney Smoothing\n",
    "\n",
    "Absolute Discounting, but use as final backoff probability the probability that a word appears after (any) word in the training set: \n",
    "\n",
    "$$\n",
    "\\prob_{\\mbox{KN}}(w) = \\frac{\\left|\\{w_{-1}:\\counts{\\train}{w_{-1},w}> 1\\}  \\right|}\n",
    "{\\sum_{w'}\\left|\\{w_{-1}:\\counts{\\train}{w_{-1},w'}\\} > 1 \\right|}  \n",
    "$$\n",
    "\n",
    "This is the *continuation probability*"
   ]
  },
  {
   "cell_type": "markdown",
   "metadata": {
    "hideCode": false,
    "hidePrompt": false,
    "slideshow": {
     "slide_type": "slide"
    }
   },
   "source": [
    "## Summary\n",
    "\n",
    "* LMs model probability of sequences of words \n",
    "* Defined in terms of \"next-word\" distributions conditioned on history\n",
    "* N-gram models truncate history representation\n",
    "* Often trained by maximising log-likelihood of training data and ...\n",
    "* smoothing to deal with sparsity\n"
   ]
  },
  {
   "cell_type": "markdown",
   "metadata": {
    "hideCode": false,
    "hidePrompt": false,
    "slideshow": {
     "slide_type": "slide"
    }
   },
   "source": [
    "## Background Reading\n",
    "\n",
    "* Jurafsky & Martin, [Speech and Language Processing (Third Edition)](https://web.stanford.edu/~jurafsky/slp3/ed3book.pdf): Chapter 3, N-Gram Language Models.\n",
    "* Bill MacCartney, Stanford NLP Lunch Tutorial: [Smoothing](http://nlp.stanford.edu/~wcmac/papers/20050421-smoothing-tutorial.pdf)\n",
    "* Lecture notes on [Maximum Likelihood Estimation](https://github.com/coastalcph/stat-nlp-book/blob/master/chapters/mle.ipynb)"
   ]
  },
  {
   "cell_type": "code",
   "execution_count": null,
   "metadata": {},
   "outputs": [],
   "source": []
  }
 ],
 "metadata": {
  "celltoolbar": "Slideshow",
  "hide_code_all_hidden": false,
  "hide_input": false,
  "kernelspec": {
   "display_name": "Python 3",
   "language": "python",
   "name": "python3"
  },
  "language_info": {
   "codemirror_mode": {
    "name": "ipython",
    "version": 3
   },
   "file_extension": ".py",
   "mimetype": "text/x-python",
   "name": "python",
   "nbconvert_exporter": "python",
   "pygments_lexer": "ipython3",
   "version": "3.6.2"
  }
 },
 "nbformat": 4,
 "nbformat_minor": 1
}
