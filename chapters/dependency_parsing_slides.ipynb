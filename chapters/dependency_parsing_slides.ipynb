{
 "cells": [
  {
   "cell_type": "code",
   "execution_count": 3,
   "metadata": {
    "slideshow": {
     "slide_type": "skip"
    },
    "pycharm": {
     "is_executing": false
    }
   },
   "outputs": [],
   "source": [
    "%%capture\n",
    "%load_ext autoreload\n",
    "%autoreload 2\n",
    "import sys\n",
    "sys.path.append(\"..\")\n",
    "from statnlpbook.util import execute_notebook\n",
    "import statnlpbook.parsing as parsing\n",
    "from statnlpbook.transition import *\n",
    "from statnlpbook.dep import *\n",
    "\n",
    "execute_notebook('transition-based_dependency_parsing.ipynb')"
   ]
  },
  {
   "cell_type": "markdown",
   "metadata": {
    "slideshow": {
     "slide_type": "skip"
    }
   },
   "source": [
    "<!---\n",
    "Latex Macros\n",
    "-->\n",
    "$$\n",
    "\\newcommand{\\Xs}{\\mathcal{X}}\n",
    "\\newcommand{\\Ys}{\\mathcal{Y}}\n",
    "\\newcommand{\\y}{\\mathbf{y}}\n",
    "\\newcommand{\\balpha}{\\boldsymbol{\\alpha}}\n",
    "\\newcommand{\\bbeta}{\\boldsymbol{\\beta}}\n",
    "\\newcommand{\\aligns}{\\mathbf{a}}\n",
    "\\newcommand{\\align}{a}\n",
    "\\newcommand{\\source}{\\mathbf{s}}\n",
    "\\newcommand{\\target}{\\mathbf{t}}\n",
    "\\newcommand{\\ssource}{s}\n",
    "\\newcommand{\\starget}{t}\n",
    "\\newcommand{\\repr}{\\mathbf{f}}\n",
    "\\newcommand{\\repry}{\\mathbf{g}}\n",
    "\\newcommand{\\x}{\\mathbf{x}}\n",
    "\\newcommand{\\prob}{p}\n",
    "\\newcommand{\\a}{\\alpha}\n",
    "\\newcommand{\\b}{\\beta}\n",
    "\\newcommand{\\vocab}{V}\n",
    "\\newcommand{\\params}{\\boldsymbol{\\theta}}\n",
    "\\newcommand{\\param}{\\theta}\n",
    "\\DeclareMathOperator{\\perplexity}{PP}\n",
    "\\DeclareMathOperator{\\argmax}{argmax}\n",
    "\\DeclareMathOperator{\\argmin}{argmin}\n",
    "\\newcommand{\\train}{\\mathcal{D}}\n",
    "\\newcommand{\\counts}[2]{\\#_{#1}(#2) }\n",
    "\\newcommand{\\length}[1]{\\text{length}(#1) }\n",
    "\\newcommand{\\indi}{\\mathbb{I}}\n",
    "$$"
   ]
  },
  {
   "cell_type": "markdown",
   "metadata": {
    "slideshow": {
     "slide_type": "slide"
    }
   },
   "source": [
    "# Parsing"
   ]
  },
  {
   "cell_type": "code",
   "execution_count": 15,
   "metadata": {
    "slideshow": {
     "slide_type": "skip"
    }
   },
   "outputs": [
    {
     "data": {
      "text/html": [
       "<style>\n",
       ".rendered_html td {\n",
       "    font-size: x-large;\n",
       "    text-align: left; !important\n",
       "}\n",
       ".rendered_html th {\n",
       "    font-size: x-large;\n",
       "    text-align: left; !important\n",
       "}\n",
       "</style>"
      ],
      "text/plain": [
       "<IPython.core.display.HTML object>"
      ]
     },
     "metadata": {},
     "output_type": "display_data"
    }
   ],
   "source": [
    "%%HTML\n",
    "<style>\n",
    ".rendered_html td {\n",
    "    font-size: x-large;\n",
    "    text-align: left; !important\n",
    "}\n",
    ".rendered_html th {\n",
    "    font-size: x-large;\n",
    "    text-align: left; !important\n",
    "}\n",
    "</style>"
   ]
  },
  {
   "cell_type": "markdown",
   "metadata": {
    "slideshow": {
     "slide_type": "slide"
    }
   },
   "source": [
    "##  Motivation \n",
    "\n",
    "Say you want to automatically build a database of this form\n",
    "\n",
    "| Brand   | Parent    |\n",
    "|---------|-----------|\n",
    "| KitKat  | Nestle    |\n",
    "| Lipton  | Unilever  |  \n",
    "| ...     | ...       |  \n",
    "\n",
    "or this graph:\n",
    "![graph](https://geekologie.com/2012/04/25/parent-companies-large.jpg)"
   ]
  },
  {
   "cell_type": "markdown",
   "metadata": {
    "slideshow": {
     "slide_type": "subslide"
    }
   },
   "source": [
    "Say you find positive textual mentions in this form:\n",
    "\n",
    "> <font color=\"blue\">Dechra Pharmaceuticals</font> has made its second acquisition after purchasing <font color=\"green\">Genitrix</font>."
   ]
  },
  {
   "cell_type": "markdown",
   "metadata": {
    "slideshow": {
     "slide_type": "fragment"
    }
   },
   "source": [
    "\n",
    "> <font color=\"blue\">Trinity Mirror plc</font> is the largest British newspaper after purchasing rival <font color=\"green\">Local World</font>."
   ]
  },
  {
   "cell_type": "markdown",
   "metadata": {
    "slideshow": {
     "slide_type": "fragment"
    }
   },
   "source": [
    "Can you find a pattern? "
   ]
  },
  {
   "cell_type": "markdown",
   "metadata": {
    "slideshow": {
     "slide_type": "subslide"
    }
   },
   "source": [
    "How about this sentence \n",
    "\n",
    "> <font color=\"blue\">Kraft</font> is gearing up for a roll-out of its <font color=\"blue\">Milka</font> brand after purchasing  <font color=\"green\">Cadbury Dairy Milk</font>.\n"
   ]
  },
  {
   "cell_type": "markdown",
   "metadata": {
    "slideshow": {
     "slide_type": "fragment"
    }
   },
   "source": [
    "Wouldn't it be great if we knew that\n",
    "\n",
    "* Kraft is the **subject** of the phrase **purchasing Cadbury Dairy Milk** "
   ]
  },
  {
   "cell_type": "markdown",
   "metadata": {
    "slideshow": {
     "slide_type": "subslide"
    }
   },
   "source": [
    "Check out [UDPipe](http://lindat.mff.cuni.cz/services/udpipe/run.php?model=english-ewt-ud-2.4-190531) and the [Stanford CoreNLP Parser](https://corenlp.run/)."
   ]
  },
  {
   "cell_type": "markdown",
   "metadata": {
    "slideshow": {
     "slide_type": "subslide"
    }
   },
   "source": [
    "Parsing is is the process of **finding these graphs**:\n",
    "\n",
    "* very important for downstream applications\n",
    "* researched in academia and [industry](http://www.telegraph.co.uk/technology/2016/05/17/has-googles-parsey-mcparseface-just-solved-one-of-the-worlds-big/)"
   ]
  },
  {
   "cell_type": "markdown",
   "metadata": {
    "slideshow": {
     "slide_type": "subslide"
    }
   },
   "source": [
    "How is this done?"
   ]
  },
  {
   "cell_type": "markdown",
   "metadata": {
    "slideshow": {
     "slide_type": "slide"
    }
   },
   "source": [
    "## Dependency Parsing\n",
    "\n",
    "* **Lexical Elements**: words\n",
    "* **Syntactic Relations**: subject, direct object, nominal modifier, etc. \n",
    "\n",
    "Task: determine the syntactic relations between words"
   ]
  },
  {
   "cell_type": "markdown",
   "metadata": {
    "slideshow": {
     "slide_type": "subslide"
    }
   },
   "source": [
    "### Grammatical Relations\n",
    "> <font color=\"blue\">Kraft</font> is gearing up for a roll-out of its <font color=\"blue\">Milka</font> brand after purchasing  <font color=\"green\">Cadbury</font>.\n",
    "\n",
    "* *Subject* of purchasing: **Kraft**\n",
    "* *Object* of purchasing: **Cadbury**"
   ]
  },
  {
   "cell_type": "markdown",
   "metadata": {
    "slideshow": {
     "slide_type": "subslide"
    }
   },
   "source": [
    "### Subcategorisation of Relations\n",
    "\n",
    "There are more complex (sub) categories of verbs (and other types of words)\n",
    "\n",
    "* Intransitive Verbs: must not have objects\n",
    "    * the student works\n",
    "* Transitive Verbs: must have exactly one object\n",
    "    * Kraft purchased Cadbury\n",
    "* Ditransitive Verbs: must have two objects\n",
    "    * Give me a break! "
   ]
  },
  {
   "cell_type": "markdown",
   "metadata": {
    "slideshow": {
     "slide_type": "subslide"
    }
   },
   "source": [
    "## Anatomy of a Dependency Tree\n",
    "\n",
    "* Nodes:\n",
    "    * Tokens of sentence\n",
    "    * a ROOT node\n",
    "* Edges:\n",
    "    * Directed from token child to **syntactic head**\n",
    "    * Each **non-ROOT** token has **exactly one parent**\n",
    "        * the word that controls its syntactic function, or\n",
    "        * the word \"it depends on\"\n",
    "* ROOT **has no parent**"
   ]
  },
  {
   "cell_type": "markdown",
   "metadata": {
    "slideshow": {
     "slide_type": "subslide"
    }
   },
   "source": [
    "### Example"
   ]
  },
  {
   "cell_type": "code",
   "source": [
    "conllu = \"\"\"\n",
    "1\tAlice\t_\t_\t_\t_\t2\tnsubj\t_\t_\n",
    "2\tsaw\t_\t_\t_\t_\t0\troot\t_\t_\n",
    "3\tBob\t_\t_\t_\t_\t2\tdobj\t_\t_\n",
    "\"\"\"\n",
    "arcs, tokens = to_displacy_graph(*load_arcs_tokens(conllu))\n",
    "render_displacy(arcs, tokens,\"900px\")"
   ],
   "metadata": {
    "collapsed": false,
    "pycharm": {
     "name": "#%%\n",
     "is_executing": false
    }
   },
   "execution_count": 1,
   "outputs": [
    {
     "traceback": [
      "\u001b[0;31m---------------------------------------------------------------------------\u001b[0m",
      "\u001b[0;31mNameError\u001b[0m                                 Traceback (most recent call last)",
      "\u001b[0;32m<ipython-input-1-cb2213b49201>\u001b[0m in \u001b[0;36m<module>\u001b[0;34m\u001b[0m\n\u001b[1;32m      5\u001b[0m \"\"\"\n\u001b[1;32m      6\u001b[0m \u001b[0;34m\u001b[0m\u001b[0m\n\u001b[0;32m----> 7\u001b[0;31m \u001b[0marcs\u001b[0m\u001b[0;34m,\u001b[0m \u001b[0mtokens\u001b[0m \u001b[0;34m=\u001b[0m \u001b[0mto_displacy_graph\u001b[0m\u001b[0;34m(\u001b[0m\u001b[0;34m*\u001b[0m\u001b[0marcs_tokens\u001b[0m\u001b[0;34m(\u001b[0m\u001b[0mload_conllu_lines\u001b[0m\u001b[0;34m(\u001b[0m\u001b[0mconllu\u001b[0m\u001b[0;34m)\u001b[0m\u001b[0;34m)\u001b[0m\u001b[0;34m)\u001b[0m\u001b[0;34m\u001b[0m\u001b[0;34m\u001b[0m\u001b[0m\n\u001b[0m\u001b[1;32m      8\u001b[0m \u001b[0mrender_displacy\u001b[0m\u001b[0;34m(\u001b[0m\u001b[0marcs\u001b[0m\u001b[0;34m,\u001b[0m \u001b[0mtokens\u001b[0m\u001b[0;34m,\u001b[0m\u001b[0;34m\"900px\"\u001b[0m\u001b[0;34m)\u001b[0m\u001b[0;34m\u001b[0m\u001b[0;34m\u001b[0m\u001b[0m\n\u001b[1;32m      9\u001b[0m \u001b[0;34m\u001b[0m\u001b[0m\n",
      "\u001b[0;31mNameError\u001b[0m: name 'to_displacy_graph' is not defined"
     ],
     "ename": "NameError",
     "evalue": "name 'to_displacy_graph' is not defined",
     "output_type": "error"
    }
   ]
  },
  {
   "cell_type": "markdown",
   "metadata": {
    "slideshow": {
     "slide_type": "subslide"
    }
   },
   "source": [
    "### Exercise\n",
    "\n",
    "If every token has exactly one parent, how does one represent a multi-word expression? Discuss with your neigbour and check your ideas with [UDPipe](http://lindat.mff.cuni.cz/services/udpipe/run.php?model=english-ewt-ud-2.4-190531) or the [Stanford CoreNLP Parser](http://nlp.stanford.edu:8080/corenlp/).\n",
    "Enter your results here:\n",
    "\n",
    "  <tt>[http://bit.ly/dep-mwe](http://bit.ly/dep-mwe)</tt>\n",
    "\n",
    "Hint: you might want to check out the UD annotation guidelines: <tt>[https://universaldependencies.org/guidelines.html](https://universaldependencies.org/guidelines.html)</tt>."
   ]
  },
  {
   "cell_type": "markdown",
   "source": [
    "### Universal Syntax\n",
    "\n",
    "English and Danish are similar, but some languages are less similar to English:\n",
    "![dendrogram](https://d3i71xaburhd42.cloudfront.net/85833272b1572f683a64055f6fff858f5546868e/7-Figure9-1.png)"
   ],
   "metadata": {
    "collapsed": false
   }
  },
  {
   "cell_type": "markdown",
   "source": [
    "### Universal Dependencies \n",
    "\n",
    "* Annotation framework featuring [37 syntactic relations](http://universaldependencies.org/)\n",
    "* [Treebanks](http://universaldependencies.org/) (i.e. datasets annotated with syntactic relations) in over 80 languages\n",
    "* Large project with over 200 contributors"
   ],
   "metadata": {
    "collapsed": false
   }
  },
  {
   "cell_type": "markdown",
   "source": [
    "### UD Dependency Relations\n",
    "\n",
    "<table border=\"1\">\n",
    "  <tr style=\"background-color:cornflowerblue\">\n",
    "      <td> </td>\n",
    "      <td> Nominals </td>\n",
    "      <td> Clauses </td>\n",
    "      <td> Modifier words </td>\n",
    "      <td> Function Words </td>\n",
    "  </tr>\n",
    "  <tr>\n",
    "      <td style=\"background-color:darkseagreen\">\n",
    "\tCore arguments\n",
    "      </td>\n",
    "      <td>\n",
    "\t    <a href=\"https://universaldependencies.org/u/dep/nsubj.html\" title=\"u-dep nsubj\">nsubj</a><br>\n",
    "\t    <a href=\"https://universaldependencies.org/u/dep/obj.html\" title=\"u-dep obj\">obj</a><br>\n",
    "\t    <a href=\"https://universaldependencies.org/u/dep/iobj.html\" title=\"u-dep iobj\">iobj</a>\n",
    "      </td>\n",
    "      <td>\n",
    "\t    <a href=\"https://universaldependencies.org/u/dep/csubj.html\" title=\"u-dep csubj\">csubj</a><br>\n",
    "\t    <a href=\"https://universaldependencies.org/u/dep/ccomp.html\" title=\"u-dep ccomp\">ccomp</a><br>\n",
    "\t    <a href=\"https://universaldependencies.org/u/dep/xcomp.html\" title=\"u-dep xcomp\">xcomp</a>\n",
    "      </td>\n",
    "\t  <td></td><td></td>\n",
    "  </tr>\n",
    "  <tr>\n",
    "      <td style=\"background-color:darkseagreen\">\n",
    "\tNon-core dependents\n",
    "      </td>\n",
    "      <td>\n",
    "\t    <a href=\"https://universaldependencies.org/u/dep/obl.html\" title=\"u-dep obl\">obl</a><br>\n",
    "\t    <a href=\"https://universaldependencies.org/u/dep/vocative.html\" title=\"u-dep vocative\">vocative</a><br>\n",
    "\t    <a href=\"https://universaldependencies.org/u/dep/expl.html\" title=\"u-dep expl\">expl</a><br>\n",
    "\t    <a href=\"https://universaldependencies.org/u/dep/dislocated.html\" title=\"u-dep dislocated\">dislocated</a>\n",
    "      </td>\n",
    "      <td>\n",
    "\t    <a href=\"https://universaldependencies.org/u/dep/advcl.html\" title=\"u-dep advcl\">advcl</a>\n",
    "      </td>\n",
    "      <td>\n",
    "\t    <a href=\"https://universaldependencies.org/u/dep/advmod.html\" title=\"u-dep advmod\">advmod</a><br>\n",
    "\t    <a href=\"https://universaldependencies.org/u/dep/discourse.html\" title=\"u-dep discourse\">discourse</a>\n",
    "      </td>\n",
    "      <td>\n",
    "\t    <a href=\"https://universaldependencies.org/u/dep/aux_.html\" title=\"u-dep aux\">aux</a><br>\n",
    "\t    <a href=\"https://universaldependencies.org/u/dep/cop.html\" title=\"u-dep cop\">cop</a><br>\n",
    "\t    <a href=\"https://universaldependencies.org/u/dep/mark.html\" title=\"u-dep mark\">mark</a>\n",
    "      </td>\n",
    "  </tr>\n",
    "  <tr>\n",
    "      <td style=\"background-color:darkseagreen\">\n",
    "\tNominal dependents\n",
    "      </td>\n",
    "      <td>\n",
    "\t    <a href=\"https://universaldependencies.org/u/dep/nmod.html\" title=\"u-dep nmod\">nmod</a><br>\n",
    "\t    <a href=\"https://universaldependencies.org/u/dep/appos.html\" title=\"u-dep appos\">appos</a><br>\n",
    "\t    <a href=\"https://universaldependencies.org/u/dep/nummod.html\" title=\"u-dep nummod\">nummod</a>\n",
    "      </td>\n",
    "      <td>\n",
    "\t    <a href=\"https://universaldependencies.org/u/dep/acl.html\" title=\"u-dep acl\">acl</a>\n",
    "      </td>\n",
    "      <td>\n",
    "\t    <a href=\"https://universaldependencies.org/u/dep/amod.html\" title=\"u-dep amod\">amod</a>\n",
    "      </td>\n",
    "      <td>\n",
    "\t    <a href=\"https://universaldependencies.org/u/dep/det.html\" title=\"u-dep det\">det</a><br>\n",
    "\t    <a href=\"https://universaldependencies.org/u/dep/clf.html\" title=\"u-dep clf\">clf</a><br>\n",
    "\t    <a href=\"https://universaldependencies.org/u/dep/case.html\" title=\"u-dep case\">case</a>\n",
    "      </td>\n",
    "  </tr>\n",
    "  <tr style=\"background-color:cornflowerblue\">\t\n",
    "      <td> Coordination </td>\n",
    "      <td> MWE </td>\n",
    "      <td> Loose </td>\n",
    "      <td> Special </td>\n",
    "      <td> Other </td>\n",
    "  </tr>\n",
    "  <tr>\n",
    "      <td>\n",
    "\t    <a href=\"https://universaldependencies.org/u/dep/conj.html\" title=\"u-dep conj\">conj</a><br>\n",
    "\t    <a href=\"https://universaldependencies.org/u/dep/cc.html\" title=\"u-dep cc\">cc</a>\n",
    "      </td>\n",
    "      <td>\n",
    "\t  <a href=\"https://universaldependencies.org/u/dep/fixed.html\" title=\"u-dep fixed\">fixed</a><br>\n",
    "\t  <a href=\"https://universaldependencies.org/u/dep/flat.html\" title=\"u-dep flat\">flat</a><br>\n",
    "\t  <a href=\"https://universaldependencies.org/u/dep/compound.html\" title=\"u-dep compound\">compound</a>\n",
    "    </td>\n",
    "    <td>\n",
    "\t  <a href=\"https://universaldependencies.org/u/dep/list.html\" title=\"u-dep list\">list</a><br>\n",
    "\t  <a href=\"https://universaldependencies.org/u/dep/parataxis.html\" title=\"u-dep parataxis\">parataxis</a>\n",
    "    </td>\n",
    "    <td>\n",
    "\t  <a href=\"https://universaldependencies.org/u/dep/orphan.html\" title=\"u-dep orphan\">orphan</a><br>\n",
    "\t  <a href=\"https://universaldependencies.org/u/dep/goeswith.html\" title=\"u-dep goeswith\">goeswith</a><br>\n",
    "\t  <a href=\"https://universaldependencies.org/u/dep/reparandum.html\" title=\"u-dep reparandum\">reparandum</a>\n",
    "    </td>\n",
    "    <td>\n",
    "\t  <a href=\"https://universaldependencies.org/u/dep/punct.html\" title=\"u-dep punct\">punct</a><br>\n",
    "\t  <a href=\"https://universaldependencies.org/u/dep/root.html\" title=\"u-dep root\">root</a><br>\n",
    "\t  <a href=\"https://universaldependencies.org/u/dep/dep.html\" title=\"u-dep dep\">dep</a>\n",
    "    </td>\n",
    "  </tr>\n",
    "</table>"
   ],
   "metadata": {
    "collapsed": false
   }
  },
  {
   "cell_type": "markdown",
   "metadata": {
    "slideshow": {
     "slide_type": "slide"
    }
   },
   "source": [
    "## Transition-Based Parsing\n",
    "\n",
    "* Learn to perform the right action / transition in a bottom-up left-right parser\n",
    "* Train classifiers $p(y|\\x)$ where $y$ is an action, and $\\x$ is solution built so far, and the remaining sentence\n",
    "* Shown here: arc-standard system ([Nivre, 2004](https://www.aclweb.org/anthology/W04-0308))"
   ]
  },
  {
   "cell_type": "markdown",
   "metadata": {
    "slideshow": {
     "slide_type": "subslide"
    }
   },
   "source": [
    "## Configuration (Parser State)\n",
    "\n",
    "Consists of a buffer, stack and set of arcs created so far."
   ]
  },
  {
   "cell_type": "markdown",
   "metadata": {
    "slideshow": {
     "slide_type": "fragment"
    }
   },
   "source": [
    "### Buffer\n",
    "\n",
    "of **remaining tokens**"
   ]
  },
  {
   "cell_type": "code",
   "execution_count": 5,
   "metadata": {
    "slideshow": {
     "slide_type": "fragment"
    },
    "pycharm": {
     "is_executing": false
    }
   },
   "outputs": [
    {
     "data": {
      "text/plain": "<statnlpbook.transition.render_transitions_displacy.<locals>.Output at 0x7f3ea776d7d0>",
      "text/html": "<table><tr><td>buffer</td><td>stack</td><td>parse</td><td>action</td></tr>\n<tr><td>ROOT Economic news had little effect on financial markets .</td><td></td><td>\n    <div id='displacy10' style=\"overflow: scroll; width: 500px;\"></div>\n    <script>\n    $(function() {\n    requirejs.config({\n        paths: {\n            'displaCy': ['/files/node_modules/displacy/displacy'],\n                                                  // strip .js ^, require adds it back\n        },\n    });\n    require(['displaCy'], function() {\n        console.log(\"Loaded :)\");\n        const displacy = new displaCy('http://localhost:8000', {\n            container: '#displacy10',\n            format: 'spacy',\n            distance: 150,\n            offsetX: 0,\n            wordSpacing: 20,\n            arrowSpacing: 3,\n\n        });\n        const parse = {\n            arcs: [],\n            words: [{\"text\": \"ROOT\"}]\n        };\n\n        displacy.render(parse, {\n            uniqueId: 'render_displacy10'\n            //color: '#ff0000'\n        });\n        return {};\n    });\n    });\n    </script></td><td>INIT</td></tr></table>"
     },
     "metadata": {},
     "output_type": "execute_result",
     "execution_count": 5
    }
   ],
   "source": [
    "render_transitions_displacy(transitions[0:1], tokenized_sentence)"
   ]
  },
  {
   "cell_type": "markdown",
   "metadata": {
    "slideshow": {
     "slide_type": "subslide"
    }
   },
   "source": [
    "### Stack\n",
    "of earlier tokens to **attach to later**"
   ]
  },
  {
   "cell_type": "code",
   "execution_count": 6,
   "metadata": {
    "slideshow": {
     "slide_type": "fragment"
    },
    "pycharm": {
     "is_executing": false
    }
   },
   "outputs": [
    {
     "data": {
      "text/plain": "<statnlpbook.transition.render_transitions_displacy.<locals>.Output at 0x7f3e82be6890>",
      "text/html": "<table><tr><td>buffer</td><td>stack</td><td>parse</td><td>action</td></tr>\n<tr><td>news had little effect on financial markets .</td><td>ROOT Economic</td><td>\n    <div id='displacy11' style=\"overflow: scroll; width: 500px;\"></div>\n    <script>\n    $(function() {\n    requirejs.config({\n        paths: {\n            'displaCy': ['/files/node_modules/displacy/displacy'],\n                                                  // strip .js ^, require adds it back\n        },\n    });\n    require(['displaCy'], function() {\n        console.log(\"Loaded :)\");\n        const displacy = new displaCy('http://localhost:8000', {\n            container: '#displacy11',\n            format: 'spacy',\n            distance: 150,\n            offsetX: 0,\n            wordSpacing: 20,\n            arrowSpacing: 3,\n\n        });\n        const parse = {\n            arcs: [],\n            words: [{\"text\": \"ROOT\"}, {\"text\": \"Economic\"}, {\"text\": \"news\"}]\n        };\n\n        displacy.render(parse, {\n            uniqueId: 'render_displacy11'\n            //color: '#ff0000'\n        });\n        return {};\n    });\n    });\n    </script></td><td>shift</td></tr></table>"
     },
     "metadata": {},
     "output_type": "execute_result",
     "execution_count": 6
    }
   ],
   "source": [
    "render_transitions_displacy(transitions[2:3],tokenized_sentence)"
   ]
  },
  {
   "cell_type": "markdown",
   "metadata": {
    "slideshow": {
     "slide_type": "subslide"
    }
   },
   "source": [
    "### Parse (set of arcs)\n",
    "built so far"
   ]
  },
  {
   "cell_type": "code",
   "execution_count": 7,
   "metadata": {
    "slideshow": {
     "slide_type": "fragment"
    },
    "pycharm": {
     "is_executing": false
    }
   },
   "outputs": [
    {
     "data": {
      "text/plain": "<statnlpbook.transition.render_transitions_displacy.<locals>.Output at 0x7f3e82be3850>",
      "text/html": "<table><tr><td>buffer</td><td>stack</td><td>parse</td><td>action</td></tr>\n<tr><td>on financial markets .</td><td>ROOT had effect</td><td>\n    <div id='displacy12' style=\"overflow: scroll; width: 500px;\"></div>\n    <script>\n    $(function() {\n    requirejs.config({\n        paths: {\n            'displaCy': ['/files/node_modules/displacy/displacy'],\n                                                  // strip .js ^, require adds it back\n        },\n    });\n    require(['displaCy'], function() {\n        console.log(\"Loaded :)\");\n        const displacy = new displaCy('http://localhost:8000', {\n            container: '#displacy12',\n            format: 'spacy',\n            distance: 150,\n            offsetX: 0,\n            wordSpacing: 20,\n            arrowSpacing: 3,\n\n        });\n        const parse = {\n            arcs: [{\"start\": 2, \"end\": 3, \"label\": \"nsubj\", \"dir\": \"left\"}, {\"start\": 4, \"end\": 5, \"label\": \"amod\", \"dir\": \"left\"}, {\"start\": 3, \"end\": 5, \"label\": \"dobj\", \"dir\": \"right\"}, {\"start\": 1, \"end\": 2, \"label\": \"amod\", \"dir\": \"left\"}, {\"start\": 0, \"end\": 3, \"label\": \"root\", \"dir\": \"right\"}],\n            words: [{\"text\": \"ROOT\"}, {\"text\": \"Economic\"}, {\"text\": \"news\"}, {\"text\": \"had\"}, {\"text\": \"little\"}, {\"text\": \"effect\"}, {\"text\": \"on\"}]\n        };\n\n        displacy.render(parse, {\n            uniqueId: 'render_displacy12'\n            //color: '#ff0000'\n        });\n        return {};\n    });\n    });\n    </script></td><td>rightArc-dobj</td></tr></table>"
     },
     "metadata": {},
     "output_type": "execute_result",
     "execution_count": 7
    }
   ],
   "source": [
    "render_transitions_displacy(transitions[9:10], tokenized_sentence)"
   ]
  },
  {
   "cell_type": "markdown",
   "metadata": {
    "slideshow": {
     "slide_type": "subslide"
    }
   },
   "source": [
    "We use the following \n",
    "### Actions"
   ]
  },
  {
   "cell_type": "markdown",
   "metadata": {
    "slideshow": {
     "slide_type": "fragment"
    }
   },
   "source": [
    "### Shift\n",
    "\n",
    "push the word at the top of the buffer to the stack \n",
    "\n",
    "$$\n",
    "(S, i|B, A)\\rightarrow(S|i, B, A)\n",
    "$$"
   ]
  },
  {
   "cell_type": "code",
   "execution_count": 8,
   "metadata": {
    "slideshow": {
     "slide_type": "fragment"
    },
    "pycharm": {
     "is_executing": false
    }
   },
   "outputs": [
    {
     "data": {
      "text/plain": "<statnlpbook.transition.render_transitions_displacy.<locals>.Output at 0x7f3e82c41fd0>",
      "text/html": "<table><tr><td>buffer</td><td>stack</td><td>parse</td><td>action</td></tr>\n<tr><td>ROOT Economic news had little effect on financial markets .</td><td></td><td>\n    <div id='displacy13' style=\"overflow: scroll; width: 500px;\"></div>\n    <script>\n    $(function() {\n    requirejs.config({\n        paths: {\n            'displaCy': ['/files/node_modules/displacy/displacy'],\n                                                  // strip .js ^, require adds it back\n        },\n    });\n    require(['displaCy'], function() {\n        console.log(\"Loaded :)\");\n        const displacy = new displaCy('http://localhost:8000', {\n            container: '#displacy13',\n            format: 'spacy',\n            distance: 150,\n            offsetX: 0,\n            wordSpacing: 20,\n            arrowSpacing: 3,\n\n        });\n        const parse = {\n            arcs: [],\n            words: [{\"text\": \"ROOT\"}]\n        };\n\n        displacy.render(parse, {\n            uniqueId: 'render_displacy13'\n            //color: '#ff0000'\n        });\n        return {};\n    });\n    });\n    </script></td><td>INIT</td></tr>\n<tr><td>Economic news had little effect on financial markets .</td><td>ROOT</td><td>\n    <div id='displacy14' style=\"overflow: scroll; width: 500px;\"></div>\n    <script>\n    $(function() {\n    requirejs.config({\n        paths: {\n            'displaCy': ['/files/node_modules/displacy/displacy'],\n                                                  // strip .js ^, require adds it back\n        },\n    });\n    require(['displaCy'], function() {\n        console.log(\"Loaded :)\");\n        const displacy = new displaCy('http://localhost:8000', {\n            container: '#displacy14',\n            format: 'spacy',\n            distance: 150,\n            offsetX: 0,\n            wordSpacing: 20,\n            arrowSpacing: 3,\n\n        });\n        const parse = {\n            arcs: [],\n            words: [{\"text\": \"ROOT\"}, {\"text\": \"Economic\"}]\n        };\n\n        displacy.render(parse, {\n            uniqueId: 'render_displacy14'\n            //color: '#ff0000'\n        });\n        return {};\n    });\n    });\n    </script></td><td>shift</td></tr></table>"
     },
     "metadata": {},
     "output_type": "execute_result",
     "execution_count": 8
    }
   ],
   "source": [
    "render_transitions_displacy(transitions[0:2], tokenized_sentence)"
   ]
  },
  {
   "cell_type": "markdown",
   "metadata": {
    "slideshow": {
     "slide_type": "subslide"
    }
   },
   "source": [
    "### Reduce\n",
    "\n",
    "pop the word at the top of the stack if it has a head \n",
    "\n",
    "$$\n",
    "(S|i, B, A)\\rightarrow(S, B, A)\n",
    "$$"
   ]
  },
  {
   "cell_type": "code",
   "execution_count": 9,
   "metadata": {
    "slideshow": {
     "slide_type": "fragment"
    },
    "pycharm": {
     "is_executing": false
    }
   },
   "outputs": [
    {
     "data": {
      "text/plain": "<statnlpbook.transition.render_transitions_displacy.<locals>.Output at 0x7f3e82be3610>",
      "text/html": "<table><tr><td>buffer</td><td>stack</td><td>parse</td><td>action</td></tr>\n<tr><td>.</td><td>ROOT had effect on markets</td><td>\n    <div id='displacy15' style=\"overflow: scroll; width: 500px;\"></div>\n    <script>\n    $(function() {\n    requirejs.config({\n        paths: {\n            'displaCy': ['/files/node_modules/displacy/displacy'],\n                                                  // strip .js ^, require adds it back\n        },\n    });\n    require(['displaCy'], function() {\n        console.log(\"Loaded :)\");\n        const displacy = new displaCy('http://localhost:8000', {\n            container: '#displacy15',\n            format: 'spacy',\n            distance: 150,\n            offsetX: 0,\n            wordSpacing: 20,\n            arrowSpacing: 3,\n\n        });\n        const parse = {\n            arcs: [{\"start\": 7, \"end\": 8, \"label\": \"amod\", \"dir\": \"left\"}, {\"start\": 2, \"end\": 3, \"label\": \"nsubj\", \"dir\": \"left\"}, {\"start\": 4, \"end\": 5, \"label\": \"amod\", \"dir\": \"left\"}, {\"start\": 5, \"end\": 6, \"label\": \"prep\", \"dir\": \"right\"}, {\"start\": 3, \"end\": 5, \"label\": \"dobj\", \"dir\": \"right\"}, {\"start\": 1, \"end\": 2, \"label\": \"amod\", \"dir\": \"left\"}, {\"start\": 0, \"end\": 3, \"label\": \"root\", \"dir\": \"right\"}, {\"start\": 6, \"end\": 8, \"label\": \"pmod\", \"dir\": \"right\"}],\n            words: [{\"text\": \"ROOT\"}, {\"text\": \"Economic\"}, {\"text\": \"news\"}, {\"text\": \"had\"}, {\"text\": \"little\"}, {\"text\": \"effect\"}, {\"text\": \"on\"}, {\"text\": \"financial\"}, {\"text\": \"markets\"}, {\"text\": \".\"}]\n        };\n\n        displacy.render(parse, {\n            uniqueId: 'render_displacy15'\n            //color: '#ff0000'\n        });\n        return {};\n    });\n    });\n    </script></td><td>rightArc-pmod</td></tr>\n<tr><td>.</td><td>ROOT had effect on</td><td>\n    <div id='displacy16' style=\"overflow: scroll; width: 500px;\"></div>\n    <script>\n    $(function() {\n    requirejs.config({\n        paths: {\n            'displaCy': ['/files/node_modules/displacy/displacy'],\n                                                  // strip .js ^, require adds it back\n        },\n    });\n    require(['displaCy'], function() {\n        console.log(\"Loaded :)\");\n        const displacy = new displaCy('http://localhost:8000', {\n            container: '#displacy16',\n            format: 'spacy',\n            distance: 150,\n            offsetX: 0,\n            wordSpacing: 20,\n            arrowSpacing: 3,\n\n        });\n        const parse = {\n            arcs: [{\"start\": 7, \"end\": 8, \"label\": \"amod\", \"dir\": \"left\"}, {\"start\": 2, \"end\": 3, \"label\": \"nsubj\", \"dir\": \"left\"}, {\"start\": 4, \"end\": 5, \"label\": \"amod\", \"dir\": \"left\"}, {\"start\": 5, \"end\": 6, \"label\": \"prep\", \"dir\": \"right\"}, {\"start\": 3, \"end\": 5, \"label\": \"dobj\", \"dir\": \"right\"}, {\"start\": 1, \"end\": 2, \"label\": \"amod\", \"dir\": \"left\"}, {\"start\": 0, \"end\": 3, \"label\": \"root\", \"dir\": \"right\"}, {\"start\": 6, \"end\": 8, \"label\": \"pmod\", \"dir\": \"right\"}],\n            words: [{\"text\": \"ROOT\"}, {\"text\": \"Economic\"}, {\"text\": \"news\"}, {\"text\": \"had\"}, {\"text\": \"little\"}, {\"text\": \"effect\"}, {\"text\": \"on\"}, {\"text\": \"financial\"}, {\"text\": \"markets\"}, {\"text\": \".\"}]\n        };\n\n        displacy.render(parse, {\n            uniqueId: 'render_displacy16'\n            //color: '#ff0000'\n        });\n        return {};\n    });\n    });\n    </script></td><td>reduce</td></tr></table>"
     },
     "metadata": {},
     "output_type": "execute_result",
     "execution_count": 9
    }
   ],
   "source": [
    "render_transitions_displacy(transitions[13:15], tokenized_sentence)"
   ]
  },
  {
   "cell_type": "markdown",
   "metadata": {
    "slideshow": {
     "slide_type": "subslide"
    }
   },
   "source": [
    "### rightArc-[label]\n",
    "\n",
    "Add labeled arc from top of stack \\\\(i\\\\) to top of the buffer \\\\(j\\\\). Shift the token on top of the buffer to the stack.\n",
    "\n",
    "$$\n",
    "(S|i, j|B, A) \\rightarrow (S|i|j, B, A\\cup\\{(i,j,l)\\})\n",
    "$$\n"
   ]
  },
  {
   "cell_type": "code",
   "execution_count": 10,
   "metadata": {
    "slideshow": {
     "slide_type": "fragment"
    },
    "pycharm": {
     "is_executing": false
    }
   },
   "outputs": [
    {
     "data": {
      "text/plain": "<statnlpbook.transition.render_transitions_displacy.<locals>.Output at 0x7f3e82b99cd0>",
      "text/html": "<table><tr><td>buffer</td><td>stack</td><td>parse</td><td>action</td></tr>\n<tr><td>had little effect on financial markets .</td><td>ROOT</td><td>\n    <div id='displacy17' style=\"overflow: scroll; width: 500px;\"></div>\n    <script>\n    $(function() {\n    requirejs.config({\n        paths: {\n            'displaCy': ['/files/node_modules/displacy/displacy'],\n                                                  // strip .js ^, require adds it back\n        },\n    });\n    require(['displaCy'], function() {\n        console.log(\"Loaded :)\");\n        const displacy = new displaCy('http://localhost:8000', {\n            container: '#displacy17',\n            format: 'spacy',\n            distance: 150,\n            offsetX: 0,\n            wordSpacing: 20,\n            arrowSpacing: 3,\n\n        });\n        const parse = {\n            arcs: [{\"start\": 2, \"end\": 3, \"label\": \"nsubj\", \"dir\": \"left\"}, {\"start\": 1, \"end\": 2, \"label\": \"amod\", \"dir\": \"left\"}],\n            words: [{\"text\": \"ROOT\"}, {\"text\": \"Economic\"}, {\"text\": \"news\"}, {\"text\": \"had\"}]\n        };\n\n        displacy.render(parse, {\n            uniqueId: 'render_displacy17'\n            //color: '#ff0000'\n        });\n        return {};\n    });\n    });\n    </script></td><td>leftArc-nsubj</td></tr>\n<tr><td>little effect on financial markets .</td><td>ROOT had</td><td>\n    <div id='displacy18' style=\"overflow: scroll; width: 500px;\"></div>\n    <script>\n    $(function() {\n    requirejs.config({\n        paths: {\n            'displaCy': ['/files/node_modules/displacy/displacy'],\n                                                  // strip .js ^, require adds it back\n        },\n    });\n    require(['displaCy'], function() {\n        console.log(\"Loaded :)\");\n        const displacy = new displaCy('http://localhost:8000', {\n            container: '#displacy18',\n            format: 'spacy',\n            distance: 150,\n            offsetX: 0,\n            wordSpacing: 20,\n            arrowSpacing: 3,\n\n        });\n        const parse = {\n            arcs: [{\"start\": 0, \"end\": 3, \"label\": \"root\", \"dir\": \"right\"}, {\"start\": 2, \"end\": 3, \"label\": \"nsubj\", \"dir\": \"left\"}, {\"start\": 1, \"end\": 2, \"label\": \"amod\", \"dir\": \"left\"}],\n            words: [{\"text\": \"ROOT\"}, {\"text\": \"Economic\"}, {\"text\": \"news\"}, {\"text\": \"had\"}, {\"text\": \"little\"}]\n        };\n\n        displacy.render(parse, {\n            uniqueId: 'render_displacy18'\n            //color: '#ff0000'\n        });\n        return {};\n    });\n    });\n    </script></td><td>rightArc-root</td></tr></table>"
     },
     "metadata": {},
     "output_type": "execute_result",
     "execution_count": 10
    }
   ],
   "source": [
    "render_transitions_displacy(transitions[5:7], tokenized_sentence)"
   ]
  },
  {
   "cell_type": "markdown",
   "metadata": {
    "slideshow": {
     "slide_type": "subslide"
    }
   },
   "source": [
    "### leftArc-[label] \n",
    "\n",
    "Add labeled arc from top of buffer, \\\\(j\\\\), to top of stack, \\\\(i\\\\), if \\\\(i\\\\) has no head. Reduce the token on top of the stack.\n",
    "\n",
    "$$\n",
    "(S|i, j|B, A) \\rightarrow (S, j|B, A\\cup\\{(j,i,l)\\})\n",
    "$$\n"
   ]
  },
  {
   "cell_type": "code",
   "execution_count": 11,
   "metadata": {
    "slideshow": {
     "slide_type": "fragment"
    },
    "pycharm": {
     "is_executing": false
    }
   },
   "outputs": [
    {
     "data": {
      "text/plain": "<statnlpbook.transition.render_transitions_displacy.<locals>.Output at 0x7f3e82bd9c50>",
      "text/html": "<table><tr><td>buffer</td><td>stack</td><td>parse</td><td>action</td></tr>\n<tr><td>news had little effect on financial markets .</td><td>ROOT Economic</td><td>\n    <div id='displacy19' style=\"overflow: scroll; width: 500px;\"></div>\n    <script>\n    $(function() {\n    requirejs.config({\n        paths: {\n            'displaCy': ['/files/node_modules/displacy/displacy'],\n                                                  // strip .js ^, require adds it back\n        },\n    });\n    require(['displaCy'], function() {\n        console.log(\"Loaded :)\");\n        const displacy = new displaCy('http://localhost:8000', {\n            container: '#displacy19',\n            format: 'spacy',\n            distance: 150,\n            offsetX: 0,\n            wordSpacing: 20,\n            arrowSpacing: 3,\n\n        });\n        const parse = {\n            arcs: [],\n            words: [{\"text\": \"ROOT\"}, {\"text\": \"Economic\"}, {\"text\": \"news\"}]\n        };\n\n        displacy.render(parse, {\n            uniqueId: 'render_displacy19'\n            //color: '#ff0000'\n        });\n        return {};\n    });\n    });\n    </script></td><td>shift</td></tr>\n<tr><td>news had little effect on financial markets .</td><td>ROOT</td><td>\n    <div id='displacy20' style=\"overflow: scroll; width: 500px;\"></div>\n    <script>\n    $(function() {\n    requirejs.config({\n        paths: {\n            'displaCy': ['/files/node_modules/displacy/displacy'],\n                                                  // strip .js ^, require adds it back\n        },\n    });\n    require(['displaCy'], function() {\n        console.log(\"Loaded :)\");\n        const displacy = new displaCy('http://localhost:8000', {\n            container: '#displacy20',\n            format: 'spacy',\n            distance: 150,\n            offsetX: 0,\n            wordSpacing: 20,\n            arrowSpacing: 3,\n\n        });\n        const parse = {\n            arcs: [{\"start\": 1, \"end\": 2, \"label\": \"amod\", \"dir\": \"left\"}],\n            words: [{\"text\": \"ROOT\"}, {\"text\": \"Economic\"}, {\"text\": \"news\"}]\n        };\n\n        displacy.render(parse, {\n            uniqueId: 'render_displacy20'\n            //color: '#ff0000'\n        });\n        return {};\n    });\n    });\n    </script></td><td>leftArc-amod</td></tr></table>"
     },
     "metadata": {},
     "output_type": "execute_result",
     "execution_count": 11
    }
   ],
   "source": [
    "render_transitions_displacy(transitions[2:4], tokenized_sentence)"
   ]
  },
  {
   "cell_type": "markdown",
   "metadata": {
    "slideshow": {
     "slide_type": "slide"
    }
   },
   "source": [
    "### Summary: Configuration\n",
    "\n",
    "**Configuration**:\n",
    "- Stack \\\\(S\\\\): a last-in, first-out memory to keep track of words to process later\n",
    "- Buffer \\\\(B\\\\): words not processed so far\n",
    "- Arcs \\\\(A\\\\): the dependency edges predicted so far\n",
    "\n",
    "We further define two special configurations:\n",
    "- initial: buffer is initialised to the words in the sentence, stack and arks are empty\n",
    "- terminal: buffer is empty"
   ]
  },
  {
   "cell_type": "markdown",
   "metadata": {
    "slideshow": {
     "slide_type": "slide"
    }
   },
   "source": [
    "### Summary: Actions\n",
    "\n",
    "- shift: push the word at the top of the buffer to the stack \\\\((S, i|B, A)\\rightarrow(S|i, B, A)\\\\)\n",
    "- reduce: pop the word at the top of the stack if it has a head \\\\((S|i, B, A)\\rightarrow(S, B, A)\\\\)\n",
    "- rightArc-label: create a labeled arc from the token at the top of the stack \\\\(i\\\\) to the token at the top of the buffer \\\\(j\\\\) \\\\((S|i, j|B, A) \\rightarrow (S|i|j, B, A\\cup\\{(i,j,l)\\})\\\\). Shift the token on top of the buffer to the stack.\n",
    "- leftArc-label: create a labeled arc from the token at the top of the buffer \\\\(j\\\\) to the token at the top of the stack \\\\(i\\\\) if \\\\(i\\\\) has no head \\\\((S|i, j|B, A) \\rightarrow (S, j|B, A\\cup\\{(j,i,l)\\})\\\\). Reduce the token on top of the stack."
   ]
  },
  {
   "cell_type": "markdown",
   "metadata": {
    "slideshow": {
     "slide_type": "slide"
    }
   },
   "source": [
    "## Full Example"
   ]
  },
  {
   "cell_type": "code",
   "execution_count": 12,
   "metadata": {
    "slideshow": {
     "slide_type": "fragment"
    },
    "pycharm": {
     "is_executing": false
    }
   },
   "outputs": [
    {
     "data": {
      "text/html": [
       "<table><tr><td>buffer</td><td>stack</td><td>parse</td><td>action</td></tr>\n",
       "<tr><td>ROOT Economic news had little effect on financial markets .</td><td></td><td>\n",
       "    <div id='displacy21' style=\"overflow: scroll; width: 500px;\"></div>\n",
       "    <script>\n",
       "    $(function() {\n",
       "    requirejs.config({\n",
       "        paths: {\n",
       "            'displaCy': ['/files/node_modules/displacy/displacy'],\n",
       "                                                  // strip .js ^, require adds it back\n",
       "        },\n",
       "    });\n",
       "    require(['displaCy'], function() {\n",
       "        console.log(\"Loaded :)\");\n",
       "        const displacy = new displaCy('http://localhost:8000', {\n",
       "            container: '#displacy21',\n",
       "            format: 'spacy',\n",
       "            distance: 150,\n",
       "            offsetX: 0,\n",
       "            wordSpacing: 20,\n",
       "            arrowSpacing: 3,\n",
       "\n",
       "        });\n",
       "        const parse = {\n",
       "            arcs: [],\n",
       "            words: [{\"text\": \"ROOT\"}]\n",
       "        };\n",
       "\n",
       "        displacy.render(parse, {\n",
       "            uniqueId: 'render_displacy21'\n",
       "            //color: '#ff0000'\n",
       "        });\n",
       "        return {};\n",
       "    });\n",
       "    });\n",
       "    </script></td><td>INIT</td></tr>\n",
       "<tr><td>Economic news had little effect on financial markets .</td><td>ROOT</td><td>\n",
       "    <div id='displacy22' style=\"overflow: scroll; width: 500px;\"></div>\n",
       "    <script>\n",
       "    $(function() {\n",
       "    requirejs.config({\n",
       "        paths: {\n",
       "            'displaCy': ['/files/node_modules/displacy/displacy'],\n",
       "                                                  // strip .js ^, require adds it back\n",
       "        },\n",
       "    });\n",
       "    require(['displaCy'], function() {\n",
       "        console.log(\"Loaded :)\");\n",
       "        const displacy = new displaCy('http://localhost:8000', {\n",
       "            container: '#displacy22',\n",
       "            format: 'spacy',\n",
       "            distance: 150,\n",
       "            offsetX: 0,\n",
       "            wordSpacing: 20,\n",
       "            arrowSpacing: 3,\n",
       "\n",
       "        });\n",
       "        const parse = {\n",
       "            arcs: [],\n",
       "            words: [{\"text\": \"ROOT\"}, {\"text\": \"Economic\"}]\n",
       "        };\n",
       "\n",
       "        displacy.render(parse, {\n",
       "            uniqueId: 'render_displacy22'\n",
       "            //color: '#ff0000'\n",
       "        });\n",
       "        return {};\n",
       "    });\n",
       "    });\n",
       "    </script></td><td>shift</td></tr>\n",
       "<tr><td>news had little effect on financial markets .</td><td>ROOT Economic</td><td>\n",
       "    <div id='displacy23' style=\"overflow: scroll; width: 500px;\"></div>\n",
       "    <script>\n",
       "    $(function() {\n",
       "    requirejs.config({\n",
       "        paths: {\n",
       "            'displaCy': ['/files/node_modules/displacy/displacy'],\n",
       "                                                  // strip .js ^, require adds it back\n",
       "        },\n",
       "    });\n",
       "    require(['displaCy'], function() {\n",
       "        console.log(\"Loaded :)\");\n",
       "        const displacy = new displaCy('http://localhost:8000', {\n",
       "            container: '#displacy23',\n",
       "            format: 'spacy',\n",
       "            distance: 150,\n",
       "            offsetX: 0,\n",
       "            wordSpacing: 20,\n",
       "            arrowSpacing: 3,\n",
       "\n",
       "        });\n",
       "        const parse = {\n",
       "            arcs: [],\n",
       "            words: [{\"text\": \"ROOT\"}, {\"text\": \"Economic\"}, {\"text\": \"news\"}]\n",
       "        };\n",
       "\n",
       "        displacy.render(parse, {\n",
       "            uniqueId: 'render_displacy23'\n",
       "            //color: '#ff0000'\n",
       "        });\n",
       "        return {};\n",
       "    });\n",
       "    });\n",
       "    </script></td><td>shift</td></tr>\n",
       "<tr><td>news had little effect on financial markets .</td><td>ROOT</td><td>\n",
       "    <div id='displacy24' style=\"overflow: scroll; width: 500px;\"></div>\n",
       "    <script>\n",
       "    $(function() {\n",
       "    requirejs.config({\n",
       "        paths: {\n",
       "            'displaCy': ['/files/node_modules/displacy/displacy'],\n",
       "                                                  // strip .js ^, require adds it back\n",
       "        },\n",
       "    });\n",
       "    require(['displaCy'], function() {\n",
       "        console.log(\"Loaded :)\");\n",
       "        const displacy = new displaCy('http://localhost:8000', {\n",
       "            container: '#displacy24',\n",
       "            format: 'spacy',\n",
       "            distance: 150,\n",
       "            offsetX: 0,\n",
       "            wordSpacing: 20,\n",
       "            arrowSpacing: 3,\n",
       "\n",
       "        });\n",
       "        const parse = {\n",
       "            arcs: [{\"start\": 1, \"end\": 2, \"label\": \"amod\", \"dir\": \"left\"}],\n",
       "            words: [{\"text\": \"ROOT\"}, {\"text\": \"Economic\"}, {\"text\": \"news\"}]\n",
       "        };\n",
       "\n",
       "        displacy.render(parse, {\n",
       "            uniqueId: 'render_displacy24'\n",
       "            //color: '#ff0000'\n",
       "        });\n",
       "        return {};\n",
       "    });\n",
       "    });\n",
       "    </script></td><td>leftArc-amod</td></tr>\n",
       "<tr><td>had little effect on financial markets .</td><td>ROOT news</td><td>\n",
       "    <div id='displacy25' style=\"overflow: scroll; width: 500px;\"></div>\n",
       "    <script>\n",
       "    $(function() {\n",
       "    requirejs.config({\n",
       "        paths: {\n",
       "            'displaCy': ['/files/node_modules/displacy/displacy'],\n",
       "                                                  // strip .js ^, require adds it back\n",
       "        },\n",
       "    });\n",
       "    require(['displaCy'], function() {\n",
       "        console.log(\"Loaded :)\");\n",
       "        const displacy = new displaCy('http://localhost:8000', {\n",
       "            container: '#displacy25',\n",
       "            format: 'spacy',\n",
       "            distance: 150,\n",
       "            offsetX: 0,\n",
       "            wordSpacing: 20,\n",
       "            arrowSpacing: 3,\n",
       "\n",
       "        });\n",
       "        const parse = {\n",
       "            arcs: [{\"start\": 1, \"end\": 2, \"label\": \"amod\", \"dir\": \"left\"}],\n",
       "            words: [{\"text\": \"ROOT\"}, {\"text\": \"Economic\"}, {\"text\": \"news\"}, {\"text\": \"had\"}]\n",
       "        };\n",
       "\n",
       "        displacy.render(parse, {\n",
       "            uniqueId: 'render_displacy25'\n",
       "            //color: '#ff0000'\n",
       "        });\n",
       "        return {};\n",
       "    });\n",
       "    });\n",
       "    </script></td><td>shift</td></tr>\n",
       "<tr><td>had little effect on financial markets .</td><td>ROOT</td><td>\n",
       "    <div id='displacy26' style=\"overflow: scroll; width: 500px;\"></div>\n",
       "    <script>\n",
       "    $(function() {\n",
       "    requirejs.config({\n",
       "        paths: {\n",
       "            'displaCy': ['/files/node_modules/displacy/displacy'],\n",
       "                                                  // strip .js ^, require adds it back\n",
       "        },\n",
       "    });\n",
       "    require(['displaCy'], function() {\n",
       "        console.log(\"Loaded :)\");\n",
       "        const displacy = new displaCy('http://localhost:8000', {\n",
       "            container: '#displacy26',\n",
       "            format: 'spacy',\n",
       "            distance: 150,\n",
       "            offsetX: 0,\n",
       "            wordSpacing: 20,\n",
       "            arrowSpacing: 3,\n",
       "\n",
       "        });\n",
       "        const parse = {\n",
       "            arcs: [{\"start\": 2, \"end\": 3, \"label\": \"nsubj\", \"dir\": \"left\"}, {\"start\": 1, \"end\": 2, \"label\": \"amod\", \"dir\": \"left\"}],\n",
       "            words: [{\"text\": \"ROOT\"}, {\"text\": \"Economic\"}, {\"text\": \"news\"}, {\"text\": \"had\"}]\n",
       "        };\n",
       "\n",
       "        displacy.render(parse, {\n",
       "            uniqueId: 'render_displacy26'\n",
       "            //color: '#ff0000'\n",
       "        });\n",
       "        return {};\n",
       "    });\n",
       "    });\n",
       "    </script></td><td>leftArc-nsubj</td></tr>\n",
       "<tr><td>little effect on financial markets .</td><td>ROOT had</td><td>\n",
       "    <div id='displacy27' style=\"overflow: scroll; width: 500px;\"></div>\n",
       "    <script>\n",
       "    $(function() {\n",
       "    requirejs.config({\n",
       "        paths: {\n",
       "            'displaCy': ['/files/node_modules/displacy/displacy'],\n",
       "                                                  // strip .js ^, require adds it back\n",
       "        },\n",
       "    });\n",
       "    require(['displaCy'], function() {\n",
       "        console.log(\"Loaded :)\");\n",
       "        const displacy = new displaCy('http://localhost:8000', {\n",
       "            container: '#displacy27',\n",
       "            format: 'spacy',\n",
       "            distance: 150,\n",
       "            offsetX: 0,\n",
       "            wordSpacing: 20,\n",
       "            arrowSpacing: 3,\n",
       "\n",
       "        });\n",
       "        const parse = {\n",
       "            arcs: [{\"start\": 0, \"end\": 3, \"label\": \"root\", \"dir\": \"right\"}, {\"start\": 2, \"end\": 3, \"label\": \"nsubj\", \"dir\": \"left\"}, {\"start\": 1, \"end\": 2, \"label\": \"amod\", \"dir\": \"left\"}],\n",
       "            words: [{\"text\": \"ROOT\"}, {\"text\": \"Economic\"}, {\"text\": \"news\"}, {\"text\": \"had\"}, {\"text\": \"little\"}]\n",
       "        };\n",
       "\n",
       "        displacy.render(parse, {\n",
       "            uniqueId: 'render_displacy27'\n",
       "            //color: '#ff0000'\n",
       "        });\n",
       "        return {};\n",
       "    });\n",
       "    });\n",
       "    </script></td><td>rightArc-root</td></tr>\n",
       "<tr><td>effect on financial markets .</td><td>ROOT had little</td><td>\n",
       "    <div id='displacy28' style=\"overflow: scroll; width: 500px;\"></div>\n",
       "    <script>\n",
       "    $(function() {\n",
       "    requirejs.config({\n",
       "        paths: {\n",
       "            'displaCy': ['/files/node_modules/displacy/displacy'],\n",
       "                                                  // strip .js ^, require adds it back\n",
       "        },\n",
       "    });\n",
       "    require(['displaCy'], function() {\n",
       "        console.log(\"Loaded :)\");\n",
       "        const displacy = new displaCy('http://localhost:8000', {\n",
       "            container: '#displacy28',\n",
       "            format: 'spacy',\n",
       "            distance: 150,\n",
       "            offsetX: 0,\n",
       "            wordSpacing: 20,\n",
       "            arrowSpacing: 3,\n",
       "\n",
       "        });\n",
       "        const parse = {\n",
       "            arcs: [{\"start\": 0, \"end\": 3, \"label\": \"root\", \"dir\": \"right\"}, {\"start\": 2, \"end\": 3, \"label\": \"nsubj\", \"dir\": \"left\"}, {\"start\": 1, \"end\": 2, \"label\": \"amod\", \"dir\": \"left\"}],\n",
       "            words: [{\"text\": \"ROOT\"}, {\"text\": \"Economic\"}, {\"text\": \"news\"}, {\"text\": \"had\"}, {\"text\": \"little\"}, {\"text\": \"effect\"}]\n",
       "        };\n",
       "\n",
       "        displacy.render(parse, {\n",
       "            uniqueId: 'render_displacy28'\n",
       "            //color: '#ff0000'\n",
       "        });\n",
       "        return {};\n",
       "    });\n",
       "    });\n",
       "    </script></td><td>shift</td></tr>\n",
       "<tr><td>effect on financial markets .</td><td>ROOT had</td><td>\n",
       "    <div id='displacy29' style=\"overflow: scroll; width: 500px;\"></div>\n",
       "    <script>\n",
       "    $(function() {\n",
       "    requirejs.config({\n",
       "        paths: {\n",
       "            'displaCy': ['/files/node_modules/displacy/displacy'],\n",
       "                                                  // strip .js ^, require adds it back\n",
       "        },\n",
       "    });\n",
       "    require(['displaCy'], function() {\n",
       "        console.log(\"Loaded :)\");\n",
       "        const displacy = new displaCy('http://localhost:8000', {\n",
       "            container: '#displacy29',\n",
       "            format: 'spacy',\n",
       "            distance: 150,\n",
       "            offsetX: 0,\n",
       "            wordSpacing: 20,\n",
       "            arrowSpacing: 3,\n",
       "\n",
       "        });\n",
       "        const parse = {\n",
       "            arcs: [{\"start\": 0, \"end\": 3, \"label\": \"root\", \"dir\": \"right\"}, {\"start\": 2, \"end\": 3, \"label\": \"nsubj\", \"dir\": \"left\"}, {\"start\": 4, \"end\": 5, \"label\": \"amod\", \"dir\": \"left\"}, {\"start\": 1, \"end\": 2, \"label\": \"amod\", \"dir\": \"left\"}],\n",
       "            words: [{\"text\": \"ROOT\"}, {\"text\": \"Economic\"}, {\"text\": \"news\"}, {\"text\": \"had\"}, {\"text\": \"little\"}, {\"text\": \"effect\"}]\n",
       "        };\n",
       "\n",
       "        displacy.render(parse, {\n",
       "            uniqueId: 'render_displacy29'\n",
       "            //color: '#ff0000'\n",
       "        });\n",
       "        return {};\n",
       "    });\n",
       "    });\n",
       "    </script></td><td>leftArc-amod</td></tr>\n",
       "<tr><td>on financial markets .</td><td>ROOT had effect</td><td>\n",
       "    <div id='displacy30' style=\"overflow: scroll; width: 500px;\"></div>\n",
       "    <script>\n",
       "    $(function() {\n",
       "    requirejs.config({\n",
       "        paths: {\n",
       "            'displaCy': ['/files/node_modules/displacy/displacy'],\n",
       "                                                  // strip .js ^, require adds it back\n",
       "        },\n",
       "    });\n",
       "    require(['displaCy'], function() {\n",
       "        console.log(\"Loaded :)\");\n",
       "        const displacy = new displaCy('http://localhost:8000', {\n",
       "            container: '#displacy30',\n",
       "            format: 'spacy',\n",
       "            distance: 150,\n",
       "            offsetX: 0,\n",
       "            wordSpacing: 20,\n",
       "            arrowSpacing: 3,\n",
       "\n",
       "        });\n",
       "        const parse = {\n",
       "            arcs: [{\"start\": 2, \"end\": 3, \"label\": \"nsubj\", \"dir\": \"left\"}, {\"start\": 4, \"end\": 5, \"label\": \"amod\", \"dir\": \"left\"}, {\"start\": 3, \"end\": 5, \"label\": \"dobj\", \"dir\": \"right\"}, {\"start\": 1, \"end\": 2, \"label\": \"amod\", \"dir\": \"left\"}, {\"start\": 0, \"end\": 3, \"label\": \"root\", \"dir\": \"right\"}],\n",
       "            words: [{\"text\": \"ROOT\"}, {\"text\": \"Economic\"}, {\"text\": \"news\"}, {\"text\": \"had\"}, {\"text\": \"little\"}, {\"text\": \"effect\"}, {\"text\": \"on\"}]\n",
       "        };\n",
       "\n",
       "        displacy.render(parse, {\n",
       "            uniqueId: 'render_displacy30'\n",
       "            //color: '#ff0000'\n",
       "        });\n",
       "        return {};\n",
       "    });\n",
       "    });\n",
       "    </script></td><td>rightArc-dobj</td></tr>\n",
       "<tr><td>financial markets .</td><td>ROOT had effect on</td><td>\n",
       "    <div id='displacy31' style=\"overflow: scroll; width: 500px;\"></div>\n",
       "    <script>\n",
       "    $(function() {\n",
       "    requirejs.config({\n",
       "        paths: {\n",
       "            'displaCy': ['/files/node_modules/displacy/displacy'],\n",
       "                                                  // strip .js ^, require adds it back\n",
       "        },\n",
       "    });\n",
       "    require(['displaCy'], function() {\n",
       "        console.log(\"Loaded :)\");\n",
       "        const displacy = new displaCy('http://localhost:8000', {\n",
       "            container: '#displacy31',\n",
       "            format: 'spacy',\n",
       "            distance: 150,\n",
       "            offsetX: 0,\n",
       "            wordSpacing: 20,\n",
       "            arrowSpacing: 3,\n",
       "\n",
       "        });\n",
       "        const parse = {\n",
       "            arcs: [{\"start\": 2, \"end\": 3, \"label\": \"nsubj\", \"dir\": \"left\"}, {\"start\": 4, \"end\": 5, \"label\": \"amod\", \"dir\": \"left\"}, {\"start\": 5, \"end\": 6, \"label\": \"prep\", \"dir\": \"right\"}, {\"start\": 3, \"end\": 5, \"label\": \"dobj\", \"dir\": \"right\"}, {\"start\": 1, \"end\": 2, \"label\": \"amod\", \"dir\": \"left\"}, {\"start\": 0, \"end\": 3, \"label\": \"root\", \"dir\": \"right\"}],\n",
       "            words: [{\"text\": \"ROOT\"}, {\"text\": \"Economic\"}, {\"text\": \"news\"}, {\"text\": \"had\"}, {\"text\": \"little\"}, {\"text\": \"effect\"}, {\"text\": \"on\"}, {\"text\": \"financial\"}]\n",
       "        };\n",
       "\n",
       "        displacy.render(parse, {\n",
       "            uniqueId: 'render_displacy31'\n",
       "            //color: '#ff0000'\n",
       "        });\n",
       "        return {};\n",
       "    });\n",
       "    });\n",
       "    </script></td><td>rightArc-prep</td></tr>\n",
       "<tr><td>markets .</td><td>ROOT had effect on financial</td><td>\n",
       "    <div id='displacy32' style=\"overflow: scroll; width: 500px;\"></div>\n",
       "    <script>\n",
       "    $(function() {\n",
       "    requirejs.config({\n",
       "        paths: {\n",
       "            'displaCy': ['/files/node_modules/displacy/displacy'],\n",
       "                                                  // strip .js ^, require adds it back\n",
       "        },\n",
       "    });\n",
       "    require(['displaCy'], function() {\n",
       "        console.log(\"Loaded :)\");\n",
       "        const displacy = new displaCy('http://localhost:8000', {\n",
       "            container: '#displacy32',\n",
       "            format: 'spacy',\n",
       "            distance: 150,\n",
       "            offsetX: 0,\n",
       "            wordSpacing: 20,\n",
       "            arrowSpacing: 3,\n",
       "\n",
       "        });\n",
       "        const parse = {\n",
       "            arcs: [{\"start\": 2, \"end\": 3, \"label\": \"nsubj\", \"dir\": \"left\"}, {\"start\": 4, \"end\": 5, \"label\": \"amod\", \"dir\": \"left\"}, {\"start\": 5, \"end\": 6, \"label\": \"prep\", \"dir\": \"right\"}, {\"start\": 3, \"end\": 5, \"label\": \"dobj\", \"dir\": \"right\"}, {\"start\": 1, \"end\": 2, \"label\": \"amod\", \"dir\": \"left\"}, {\"start\": 0, \"end\": 3, \"label\": \"root\", \"dir\": \"right\"}],\n",
       "            words: [{\"text\": \"ROOT\"}, {\"text\": \"Economic\"}, {\"text\": \"news\"}, {\"text\": \"had\"}, {\"text\": \"little\"}, {\"text\": \"effect\"}, {\"text\": \"on\"}, {\"text\": \"financial\"}, {\"text\": \"markets\"}]\n",
       "        };\n",
       "\n",
       "        displacy.render(parse, {\n",
       "            uniqueId: 'render_displacy32'\n",
       "            //color: '#ff0000'\n",
       "        });\n",
       "        return {};\n",
       "    });\n",
       "    });\n",
       "    </script></td><td>shift</td></tr>\n",
       "<tr><td>markets .</td><td>ROOT had effect on</td><td>\n",
       "    <div id='displacy33' style=\"overflow: scroll; width: 500px;\"></div>\n",
       "    <script>\n",
       "    $(function() {\n",
       "    requirejs.config({\n",
       "        paths: {\n",
       "            'displaCy': ['/files/node_modules/displacy/displacy'],\n",
       "                                                  // strip .js ^, require adds it back\n",
       "        },\n",
       "    });\n",
       "    require(['displaCy'], function() {\n",
       "        console.log(\"Loaded :)\");\n",
       "        const displacy = new displaCy('http://localhost:8000', {\n",
       "            container: '#displacy33',\n",
       "            format: 'spacy',\n",
       "            distance: 150,\n",
       "            offsetX: 0,\n",
       "            wordSpacing: 20,\n",
       "            arrowSpacing: 3,\n",
       "\n",
       "        });\n",
       "        const parse = {\n",
       "            arcs: [{\"start\": 7, \"end\": 8, \"label\": \"amod\", \"dir\": \"left\"}, {\"start\": 2, \"end\": 3, \"label\": \"nsubj\", \"dir\": \"left\"}, {\"start\": 4, \"end\": 5, \"label\": \"amod\", \"dir\": \"left\"}, {\"start\": 5, \"end\": 6, \"label\": \"prep\", \"dir\": \"right\"}, {\"start\": 3, \"end\": 5, \"label\": \"dobj\", \"dir\": \"right\"}, {\"start\": 1, \"end\": 2, \"label\": \"amod\", \"dir\": \"left\"}, {\"start\": 0, \"end\": 3, \"label\": \"root\", \"dir\": \"right\"}],\n",
       "            words: [{\"text\": \"ROOT\"}, {\"text\": \"Economic\"}, {\"text\": \"news\"}, {\"text\": \"had\"}, {\"text\": \"little\"}, {\"text\": \"effect\"}, {\"text\": \"on\"}, {\"text\": \"financial\"}, {\"text\": \"markets\"}]\n",
       "        };\n",
       "\n",
       "        displacy.render(parse, {\n",
       "            uniqueId: 'render_displacy33'\n",
       "            //color: '#ff0000'\n",
       "        });\n",
       "        return {};\n",
       "    });\n",
       "    });\n",
       "    </script></td><td>leftArc-amod</td></tr>\n",
       "<tr><td>.</td><td>ROOT had effect on markets</td><td>\n",
       "    <div id='displacy34' style=\"overflow: scroll; width: 500px;\"></div>\n",
       "    <script>\n",
       "    $(function() {\n",
       "    requirejs.config({\n",
       "        paths: {\n",
       "            'displaCy': ['/files/node_modules/displacy/displacy'],\n",
       "                                                  // strip .js ^, require adds it back\n",
       "        },\n",
       "    });\n",
       "    require(['displaCy'], function() {\n",
       "        console.log(\"Loaded :)\");\n",
       "        const displacy = new displaCy('http://localhost:8000', {\n",
       "            container: '#displacy34',\n",
       "            format: 'spacy',\n",
       "            distance: 150,\n",
       "            offsetX: 0,\n",
       "            wordSpacing: 20,\n",
       "            arrowSpacing: 3,\n",
       "\n",
       "        });\n",
       "        const parse = {\n",
       "            arcs: [{\"start\": 7, \"end\": 8, \"label\": \"amod\", \"dir\": \"left\"}, {\"start\": 2, \"end\": 3, \"label\": \"nsubj\", \"dir\": \"left\"}, {\"start\": 4, \"end\": 5, \"label\": \"amod\", \"dir\": \"left\"}, {\"start\": 5, \"end\": 6, \"label\": \"prep\", \"dir\": \"right\"}, {\"start\": 3, \"end\": 5, \"label\": \"dobj\", \"dir\": \"right\"}, {\"start\": 1, \"end\": 2, \"label\": \"amod\", \"dir\": \"left\"}, {\"start\": 0, \"end\": 3, \"label\": \"root\", \"dir\": \"right\"}, {\"start\": 6, \"end\": 8, \"label\": \"pmod\", \"dir\": \"right\"}],\n",
       "            words: [{\"text\": \"ROOT\"}, {\"text\": \"Economic\"}, {\"text\": \"news\"}, {\"text\": \"had\"}, {\"text\": \"little\"}, {\"text\": \"effect\"}, {\"text\": \"on\"}, {\"text\": \"financial\"}, {\"text\": \"markets\"}, {\"text\": \".\"}]\n",
       "        };\n",
       "\n",
       "        displacy.render(parse, {\n",
       "            uniqueId: 'render_displacy34'\n",
       "            //color: '#ff0000'\n",
       "        });\n",
       "        return {};\n",
       "    });\n",
       "    });\n",
       "    </script></td><td>rightArc-pmod</td></tr>\n",
       "<tr><td>.</td><td>ROOT had effect on</td><td>\n",
       "    <div id='displacy35' style=\"overflow: scroll; width: 500px;\"></div>\n",
       "    <script>\n",
       "    $(function() {\n",
       "    requirejs.config({\n",
       "        paths: {\n",
       "            'displaCy': ['/files/node_modules/displacy/displacy'],\n",
       "                                                  // strip .js ^, require adds it back\n",
       "        },\n",
       "    });\n",
       "    require(['displaCy'], function() {\n",
       "        console.log(\"Loaded :)\");\n",
       "        const displacy = new displaCy('http://localhost:8000', {\n",
       "            container: '#displacy35',\n",
       "            format: 'spacy',\n",
       "            distance: 150,\n",
       "            offsetX: 0,\n",
       "            wordSpacing: 20,\n",
       "            arrowSpacing: 3,\n",
       "\n",
       "        });\n",
       "        const parse = {\n",
       "            arcs: [{\"start\": 7, \"end\": 8, \"label\": \"amod\", \"dir\": \"left\"}, {\"start\": 2, \"end\": 3, \"label\": \"nsubj\", \"dir\": \"left\"}, {\"start\": 4, \"end\": 5, \"label\": \"amod\", \"dir\": \"left\"}, {\"start\": 5, \"end\": 6, \"label\": \"prep\", \"dir\": \"right\"}, {\"start\": 3, \"end\": 5, \"label\": \"dobj\", \"dir\": \"right\"}, {\"start\": 1, \"end\": 2, \"label\": \"amod\", \"dir\": \"left\"}, {\"start\": 0, \"end\": 3, \"label\": \"root\", \"dir\": \"right\"}, {\"start\": 6, \"end\": 8, \"label\": \"pmod\", \"dir\": \"right\"}],\n",
       "            words: [{\"text\": \"ROOT\"}, {\"text\": \"Economic\"}, {\"text\": \"news\"}, {\"text\": \"had\"}, {\"text\": \"little\"}, {\"text\": \"effect\"}, {\"text\": \"on\"}, {\"text\": \"financial\"}, {\"text\": \"markets\"}, {\"text\": \".\"}]\n",
       "        };\n",
       "\n",
       "        displacy.render(parse, {\n",
       "            uniqueId: 'render_displacy35'\n",
       "            //color: '#ff0000'\n",
       "        });\n",
       "        return {};\n",
       "    });\n",
       "    });\n",
       "    </script></td><td>reduce</td></tr>\n",
       "<tr><td>.</td><td>ROOT had effect</td><td>\n",
       "    <div id='displacy36' style=\"overflow: scroll; width: 500px;\"></div>\n",
       "    <script>\n",
       "    $(function() {\n",
       "    requirejs.config({\n",
       "        paths: {\n",
       "            'displaCy': ['/files/node_modules/displacy/displacy'],\n",
       "                                                  // strip .js ^, require adds it back\n",
       "        },\n",
       "    });\n",
       "    require(['displaCy'], function() {\n",
       "        console.log(\"Loaded :)\");\n",
       "        const displacy = new displaCy('http://localhost:8000', {\n",
       "            container: '#displacy36',\n",
       "            format: 'spacy',\n",
       "            distance: 150,\n",
       "            offsetX: 0,\n",
       "            wordSpacing: 20,\n",
       "            arrowSpacing: 3,\n",
       "\n",
       "        });\n",
       "        const parse = {\n",
       "            arcs: [{\"start\": 7, \"end\": 8, \"label\": \"amod\", \"dir\": \"left\"}, {\"start\": 2, \"end\": 3, \"label\": \"nsubj\", \"dir\": \"left\"}, {\"start\": 4, \"end\": 5, \"label\": \"amod\", \"dir\": \"left\"}, {\"start\": 5, \"end\": 6, \"label\": \"prep\", \"dir\": \"right\"}, {\"start\": 3, \"end\": 5, \"label\": \"dobj\", \"dir\": \"right\"}, {\"start\": 1, \"end\": 2, \"label\": \"amod\", \"dir\": \"left\"}, {\"start\": 0, \"end\": 3, \"label\": \"root\", \"dir\": \"right\"}, {\"start\": 6, \"end\": 8, \"label\": \"pmod\", \"dir\": \"right\"}],\n",
       "            words: [{\"text\": \"ROOT\"}, {\"text\": \"Economic\"}, {\"text\": \"news\"}, {\"text\": \"had\"}, {\"text\": \"little\"}, {\"text\": \"effect\"}, {\"text\": \"on\"}, {\"text\": \"financial\"}, {\"text\": \"markets\"}, {\"text\": \".\"}]\n",
       "        };\n",
       "\n",
       "        displacy.render(parse, {\n",
       "            uniqueId: 'render_displacy36'\n",
       "            //color: '#ff0000'\n",
       "        });\n",
       "        return {};\n",
       "    });\n",
       "    });\n",
       "    </script></td><td>reduce</td></tr>\n",
       "<tr><td>.</td><td>ROOT had</td><td>\n",
       "    <div id='displacy37' style=\"overflow: scroll; width: 500px;\"></div>\n",
       "    <script>\n",
       "    $(function() {\n",
       "    requirejs.config({\n",
       "        paths: {\n",
       "            'displaCy': ['/files/node_modules/displacy/displacy'],\n",
       "                                                  // strip .js ^, require adds it back\n",
       "        },\n",
       "    });\n",
       "    require(['displaCy'], function() {\n",
       "        console.log(\"Loaded :)\");\n",
       "        const displacy = new displaCy('http://localhost:8000', {\n",
       "            container: '#displacy37',\n",
       "            format: 'spacy',\n",
       "            distance: 150,\n",
       "            offsetX: 0,\n",
       "            wordSpacing: 20,\n",
       "            arrowSpacing: 3,\n",
       "\n",
       "        });\n",
       "        const parse = {\n",
       "            arcs: [{\"start\": 7, \"end\": 8, \"label\": \"amod\", \"dir\": \"left\"}, {\"start\": 2, \"end\": 3, \"label\": \"nsubj\", \"dir\": \"left\"}, {\"start\": 4, \"end\": 5, \"label\": \"amod\", \"dir\": \"left\"}, {\"start\": 5, \"end\": 6, \"label\": \"prep\", \"dir\": \"right\"}, {\"start\": 3, \"end\": 5, \"label\": \"dobj\", \"dir\": \"right\"}, {\"start\": 1, \"end\": 2, \"label\": \"amod\", \"dir\": \"left\"}, {\"start\": 0, \"end\": 3, \"label\": \"root\", \"dir\": \"right\"}, {\"start\": 6, \"end\": 8, \"label\": \"pmod\", \"dir\": \"right\"}],\n",
       "            words: [{\"text\": \"ROOT\"}, {\"text\": \"Economic\"}, {\"text\": \"news\"}, {\"text\": \"had\"}, {\"text\": \"little\"}, {\"text\": \"effect\"}, {\"text\": \"on\"}, {\"text\": \"financial\"}, {\"text\": \"markets\"}, {\"text\": \".\"}]\n",
       "        };\n",
       "\n",
       "        displacy.render(parse, {\n",
       "            uniqueId: 'render_displacy37'\n",
       "            //color: '#ff0000'\n",
       "        });\n",
       "        return {};\n",
       "    });\n",
       "    });\n",
       "    </script></td><td>reduce</td></tr>\n",
       "<tr><td>.</td><td>ROOT</td><td>\n",
       "    <div id='displacy38' style=\"overflow: scroll; width: 500px;\"></div>\n",
       "    <script>\n",
       "    $(function() {\n",
       "    requirejs.config({\n",
       "        paths: {\n",
       "            'displaCy': ['/files/node_modules/displacy/displacy'],\n",
       "                                                  // strip .js ^, require adds it back\n",
       "        },\n",
       "    });\n",
       "    require(['displaCy'], function() {\n",
       "        console.log(\"Loaded :)\");\n",
       "        const displacy = new displaCy('http://localhost:8000', {\n",
       "            container: '#displacy38',\n",
       "            format: 'spacy',\n",
       "            distance: 150,\n",
       "            offsetX: 0,\n",
       "            wordSpacing: 20,\n",
       "            arrowSpacing: 3,\n",
       "\n",
       "        });\n",
       "        const parse = {\n",
       "            arcs: [{\"start\": 7, \"end\": 8, \"label\": \"amod\", \"dir\": \"left\"}, {\"start\": 2, \"end\": 3, \"label\": \"nsubj\", \"dir\": \"left\"}, {\"start\": 4, \"end\": 5, \"label\": \"amod\", \"dir\": \"left\"}, {\"start\": 5, \"end\": 6, \"label\": \"prep\", \"dir\": \"right\"}, {\"start\": 3, \"end\": 5, \"label\": \"dobj\", \"dir\": \"right\"}, {\"start\": 1, \"end\": 2, \"label\": \"amod\", \"dir\": \"left\"}, {\"start\": 0, \"end\": 3, \"label\": \"root\", \"dir\": \"right\"}, {\"start\": 6, \"end\": 8, \"label\": \"pmod\", \"dir\": \"right\"}],\n",
       "            words: [{\"text\": \"ROOT\"}, {\"text\": \"Economic\"}, {\"text\": \"news\"}, {\"text\": \"had\"}, {\"text\": \"little\"}, {\"text\": \"effect\"}, {\"text\": \"on\"}, {\"text\": \"financial\"}, {\"text\": \"markets\"}, {\"text\": \".\"}]\n",
       "        };\n",
       "\n",
       "        displacy.render(parse, {\n",
       "            uniqueId: 'render_displacy38'\n",
       "            //color: '#ff0000'\n",
       "        });\n",
       "        return {};\n",
       "    });\n",
       "    });\n",
       "    </script></td><td>reduce</td></tr>\n",
       "<tr><td></td><td>ROOT .</td><td>\n",
       "    <div id='displacy39' style=\"overflow: scroll; width: 500px;\"></div>\n",
       "    <script>\n",
       "    $(function() {\n",
       "    requirejs.config({\n",
       "        paths: {\n",
       "            'displaCy': ['/files/node_modules/displacy/displacy'],\n",
       "                                                  // strip .js ^, require adds it back\n",
       "        },\n",
       "    });\n",
       "    require(['displaCy'], function() {\n",
       "        console.log(\"Loaded :)\");\n",
       "        const displacy = new displaCy('http://localhost:8000', {\n",
       "            container: '#displacy39',\n",
       "            format: 'spacy',\n",
       "            distance: 150,\n",
       "            offsetX: 0,\n",
       "            wordSpacing: 20,\n",
       "            arrowSpacing: 3,\n",
       "\n",
       "        });\n",
       "        const parse = {\n",
       "            arcs: [{\"start\": 0, \"end\": 9, \"label\": \"p\", \"dir\": \"right\"}, {\"start\": 7, \"end\": 8, \"label\": \"amod\", \"dir\": \"left\"}, {\"start\": 2, \"end\": 3, \"label\": \"nsubj\", \"dir\": \"left\"}, {\"start\": 4, \"end\": 5, \"label\": \"amod\", \"dir\": \"left\"}, {\"start\": 5, \"end\": 6, \"label\": \"prep\", \"dir\": \"right\"}, {\"start\": 3, \"end\": 5, \"label\": \"dobj\", \"dir\": \"right\"}, {\"start\": 1, \"end\": 2, \"label\": \"amod\", \"dir\": \"left\"}, {\"start\": 0, \"end\": 3, \"label\": \"root\", \"dir\": \"right\"}, {\"start\": 6, \"end\": 8, \"label\": \"pmod\", \"dir\": \"right\"}],\n",
       "            words: [{\"text\": \"ROOT\"}, {\"text\": \"Economic\"}, {\"text\": \"news\"}, {\"text\": \"had\"}, {\"text\": \"little\"}, {\"text\": \"effect\"}, {\"text\": \"on\"}, {\"text\": \"financial\"}, {\"text\": \"markets\"}, {\"text\": \".\"}]\n",
       "        };\n",
       "\n",
       "        displacy.render(parse, {\n",
       "            uniqueId: 'render_displacy39'\n",
       "            //color: '#ff0000'\n",
       "        });\n",
       "        return {};\n",
       "    });\n",
       "    });\n",
       "    </script></td><td>rightArc-p</td></tr>\n",
       "<tr><td></td><td>ROOT .</td><td>\n",
       "    <div id='displacy40' style=\"overflow: scroll; width: 500px;\"></div>\n",
       "    <script>\n",
       "    $(function() {\n",
       "    requirejs.config({\n",
       "        paths: {\n",
       "            'displaCy': ['/files/node_modules/displacy/displacy'],\n",
       "                                                  // strip .js ^, require adds it back\n",
       "        },\n",
       "    });\n",
       "    require(['displaCy'], function() {\n",
       "        console.log(\"Loaded :)\");\n",
       "        const displacy = new displaCy('http://localhost:8000', {\n",
       "            container: '#displacy40',\n",
       "            format: 'spacy',\n",
       "            distance: 150,\n",
       "            offsetX: 0,\n",
       "            wordSpacing: 20,\n",
       "            arrowSpacing: 3,\n",
       "\n",
       "        });\n",
       "        const parse = {\n",
       "            arcs: [{\"start\": 0, \"end\": 9, \"label\": \"p\", \"dir\": \"right\"}, {\"start\": 7, \"end\": 8, \"label\": \"amod\", \"dir\": \"left\"}, {\"start\": 2, \"end\": 3, \"label\": \"nsubj\", \"dir\": \"left\"}, {\"start\": 4, \"end\": 5, \"label\": \"amod\", \"dir\": \"left\"}, {\"start\": 5, \"end\": 6, \"label\": \"prep\", \"dir\": \"right\"}, {\"start\": 3, \"end\": 5, \"label\": \"dobj\", \"dir\": \"right\"}, {\"start\": 1, \"end\": 2, \"label\": \"amod\", \"dir\": \"left\"}, {\"start\": 0, \"end\": 3, \"label\": \"root\", \"dir\": \"right\"}, {\"start\": 6, \"end\": 8, \"label\": \"pmod\", \"dir\": \"right\"}],\n",
       "            words: [{\"text\": \"ROOT\"}, {\"text\": \"Economic\"}, {\"text\": \"news\"}, {\"text\": \"had\"}, {\"text\": \"little\"}, {\"text\": \"effect\"}, {\"text\": \"on\"}, {\"text\": \"financial\"}, {\"text\": \"markets\"}, {\"text\": \".\"}]\n",
       "        };\n",
       "\n",
       "        displacy.render(parse, {\n",
       "            uniqueId: 'render_displacy40'\n",
       "            //color: '#ff0000'\n",
       "        });\n",
       "        return {};\n",
       "    });\n",
       "    });\n",
       "    </script></td><td>TERMINAL</td></tr></table>"
      ],
      "text/plain": [
       "<statnlpbook.transition.render_transitions_displacy.<locals>.Output at 0x7f3e82bd96d0>"
      ]
     },
     "metadata": {},
     "output_type": "execute_result",
     "execution_count": 12
    }
   ],
   "source": [
    "render_transitions_displacy(transitions[:], tokenized_sentence)"
   ]
  },
  {
   "cell_type": "markdown",
   "metadata": {
    "slideshow": {
     "slide_type": "slide"
    }
   },
   "source": [
    "## Machine Learning\n",
    "\n",
    "How do we learn to parse? \n",
    "\n",
    "* Decompose parse tree into a sequence of actions\n",
    "* Learn to score individual actions as well as whole tree\n",
    "    * structured prediction problem!"
   ]
  },
  {
   "cell_type": "markdown",
   "metadata": {
    "slideshow": {
     "slide_type": "subslide"
    }
   },
   "source": [
    "How to decide what action to take? \n",
    "\n",
    "* Learn a discriminative classifier $p(y | \\x)$ where \n",
    "   * $\\x$ is a representation of buffer, stack and parse. \n",
    "   * $y$ is the action to choose\n",
    "* Current state-of-the-art systems use neural networks as classifiers (e.g. Parsey McParseFace)\n",
    "* Use **greedy search** or **beam search** to find the highest scoring sequence of steps"
   ]
  },
  {
   "cell_type": "markdown",
   "metadata": {
    "slideshow": {
     "slide_type": "subslide"
    }
   },
   "source": [
    "### Oracle\n",
    "\n",
    "How do we get training data for the classifier?\n",
    "\n",
    "* Training data: whole trees labelled as correct/incorrect\n",
    "* We need to design an **oracle**\n",
    "    * function that, given a sentence and its dependency tree, recovers the sequence of actions used to construct it\n",
    "    * can also be thought of reverse engineering a tree into a sequence of actions\n",
    "* An oracle does this for every possible parse tree\n",
    "* Oracle can also be thought of as human demonstrator teaching the parser"
   ]
  },
  {
   "cell_type": "markdown",
   "metadata": {
    "slideshow": {
     "slide_type": "slide"
    }
   },
   "source": [
    "## Summary\n",
    "\n",
    "* Dependency parsing predicts word-to-word dependencies \n",
    "* simple annotations\n",
    "* fast parsing\n",
    "* sufficient for most down-stream applications"
   ]
  },
  {
   "cell_type": "markdown",
   "metadata": {
    "slideshow": {
     "slide_type": "slide"
    }
   },
   "source": [
    "## Background Material\n",
    "\n",
    "* Arc-standard transition-based parsing system ([Nivre, 2004](https://www.aclweb.org/anthology/W04-0308))\n",
    "* [EACL 2014 tutorial](http://stp.lingfil.uu.se/~nivre/eacl14.html)\n",
    "* Jurafsky & Martin, [Speech and Language Processing (Third Edition)](https://web.stanford.edu/~jurafsky/slp3/ed3book.pdf): Chapter 13, Dependency Parsing."
   ]
  }
 ],
 "metadata": {
  "celltoolbar": "Slideshow",
  "kernelspec": {
   "display_name": "Python 3",
   "language": "python",
   "name": "python3"
  },
  "language_info": {
   "codemirror_mode": {
    "name": "ipython",
    "version": 3
   },
   "file_extension": ".py",
   "mimetype": "text/x-python",
   "name": "python",
   "nbconvert_exporter": "python",
   "pygments_lexer": "ipython3",
   "version": "3.6.2"
  },
  "pycharm": {
   "stem_cell": {
    "cell_type": "raw",
    "source": [],
    "metadata": {
     "collapsed": false
    }
   }
  }
 },
 "nbformat": 4,
 "nbformat_minor": 1
}