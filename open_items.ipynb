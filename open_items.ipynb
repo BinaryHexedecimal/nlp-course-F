{
 "cells": [
  {
   "cell_type": "markdown",
   "metadata": {
    "slideshow": {
     "slide_type": "skip"
    }
   },
   "source": [
    "<!---\n",
    "Latex Macros\n",
    "-->\n",
    "$$\n",
    "\\newcommand{\\Xs}{\\mathcal{X}}\n",
    "\\newcommand{\\Ys}{\\mathcal{Y}}\n",
    "\\newcommand{\\y}{\\mathbf{y}}\n",
    "\\newcommand{\\balpha}{\\boldsymbol{\\alpha}}\n",
    "\\newcommand{\\bbeta}{\\boldsymbol{\\beta}}\n",
    "\\newcommand{\\aligns}{\\mathbf{a}}\n",
    "\\newcommand{\\align}{a}\n",
    "\\newcommand{\\source}{\\mathbf{s}}\n",
    "\\newcommand{\\target}{\\mathbf{t}}\n",
    "\\newcommand{\\ssource}{s}\n",
    "\\newcommand{\\starget}{t}\n",
    "\\newcommand{\\repr}{\\mathbf{f}}\n",
    "\\newcommand{\\repry}{\\mathbf{g}}\n",
    "\\newcommand{\\x}{\\mathbf{x}}\n",
    "\\newcommand{\\prob}{p}\n",
    "\\newcommand{\\vocab}{V}\n",
    "\\newcommand{\\params}{\\boldsymbol{\\theta}}\n",
    "\\newcommand{\\param}{\\theta}\n",
    "\\DeclareMathOperator{\\perplexity}{PP}\n",
    "\\DeclareMathOperator{\\argmax}{argmax}\n",
    "\\DeclareMathOperator{\\argmin}{argmin}\n",
    "\\newcommand{\\train}{\\mathcal{D}}\n",
    "\\newcommand{\\counts}[2]{\\#_{#1}(#2) }\n",
    "\\newcommand{\\length}[1]{\\text{length}(#1) }\n",
    "\\newcommand{\\indi}{\\mathbb{I}}\n",
    "$$"
   ]
  },
  {
   "cell_type": "markdown",
   "metadata": {
    "slideshow": {
     "slide_type": "slide"
    }
   },
   "source": [
    "# Open Items Lecture 2\n",
    "\n",
    "* Fixed [shirtless slide](/notebooks/chapters/introduction.ipynb#/slide-9-0)!\n",
    "* Workload for assignments: 5h-20h per assignment, depending on your background, skills etc\n",
    "* Module Selection Priorities:\n",
    "    * Optional\n",
    "    * Elective\n",
    "    * Non-CS (update: will not be impossible)\n",
    "* First Come First Serve, but Elective students will only know if they have a spot after next Friday"
   ]
  },
  {
   "cell_type": "markdown",
   "metadata": {
    "slideshow": {
     "slide_type": "slide"
    }
   },
   "source": [
    "# Open Items Lecture 3\n",
    "\n",
    "* Please use the moodle for questions regarding the assignment\n",
    "* No office hour today\n",
    "* Next: [Language Models: MLE](chapters/language_models_slides.ipynb)"
   ]
  },
  {
   "cell_type": "markdown",
   "metadata": {
    "slideshow": {
     "slide_type": "slide"
    }
   },
   "source": [
    "\n",
    "# Open Items Lecture 4\n",
    "\n",
    "* Assignment questions?\n",
    "    * Please use the moodle for questions regarding the assignment\n",
    "* I will not be available for office hours today\n",
    "* Next: [Language Models: MLE](chapters/language_models_slides.ipynb)"
   ]
  },
  {
   "cell_type": "markdown",
   "metadata": {
    "slideshow": {
     "slide_type": "slide"
    }
   },
   "source": [
    "\n",
    "# Open Items Lecture 5\n",
    "\n",
    "* Assignment Questions\n",
    "    * Are we allowed to use the `replace_OOVs` function on `_snlp_test_song_words`?\n",
    "    * Will the hidden test set we are assessed on already have the replace OOV's function applied to it? \n",
    "    * Can we use helper functions from the exercices in the coursework?\n",
    "    * Question on the `OOVAwareLM`\n",
    "* Next: Word-Based Machine Translation"
   ]
  },
  {
   "cell_type": "markdown",
   "metadata": {
    "slideshow": {
     "slide_type": "slide"
    }
   },
   "source": [
    "# Open Items Lecture 6\n",
    "\n",
    "* Do read the course notes\n",
    "* Assignment:\n",
    "    * You are allowed to use both development and training set as \"larger training set\" but understand the potential drawbacks.\n",
    "    * If you try something interesting that doesn't work, do report it!\n",
    "    * There is a potential to cheat (don't)\n",
    "* Re question on simplification: http://nlp.cs.swarthmore.edu/semeval/tasks/task10/summary.shtml\n",
    "* Next: MT Noisy Channel"
   ]
  },
  {
   "cell_type": "markdown",
   "metadata": {
    "slideshow": {
     "slide_type": "slide"
    }
   },
   "source": [
    "# Open Items Lecture 7 \n",
    "\n",
    "* LectureCast: online! \n",
    "* Next: [Word-based MT](/notebooks/chapters/word_mt_slides.ipynb), EM Algorithm\n"
   ]
  },
  {
   "cell_type": "markdown",
   "metadata": {
    "slideshow": {
     "slide_type": "slide"
    }
   },
   "source": [
    "# Open Items Lecture 8\n",
    "\n",
    "* Assignments: \n",
    "    * It's possible to train most (unless neural) LMs by scanning through the data once and gathering counts\n",
    "    * You often do not need to calculate normalizers by explicit summing (e.g. in Absolute Discounting)\n",
    "* Next: CFGs in [Parsing](/notebooks/chapters/parsing_slides.ipynb)\n"
   ]
  },
  {
   "cell_type": "markdown",
   "metadata": {
    "slideshow": {
     "slide_type": "slide"
    }
   },
   "source": [
    "# Open Items Lecture 9\n",
    "\n",
    "* Assignment 2 coming out today!\n",
    "    * will be about feature engineering\n",
    "    * see lecture notes on text classification and sequence labelling\n",
    "    * you have 4 weeks! \n",
    "* After reading week we will discuss possible MSc projects\n",
    "* Next: [Parsing](/notebooks/chapters/parsing_slides.ipynb), PCFG\n"
   ]
  },
  {
   "cell_type": "markdown",
   "metadata": {
    "slideshow": {
     "slide_type": "slide"
    }
   },
   "source": [
    "# Open Items Lecture 10\n",
    "\n",
    "* [South England NLP Meetups](https://www.meetup.com/South-England-Natural-Language-Processing-Meetup/?_cookie-check=BhaN3MFi2WYR6z7T)\n",
    "* Next: text classification\n"
   ]
  },
  {
   "cell_type": "markdown",
   "metadata": {
    "slideshow": {
     "slide_type": "slide"
    }
   },
   "source": [
    "# Open Items Lecture 11\n",
    "\n",
    "* Assignment 1:\n",
    "    * Please do not edit areas that say 'do not edit'\n",
    "    * Please test your notebook properly\n",
    "        * \"Restart and Run\" is your friend\n",
    "    * We had to manually fix in one way or another about 40 notebooks\n",
    "* Assignment 2:\n",
    "    * The above will lead to reduced score\n",
    "* Next: Text Classification with NB, evaluation\n"
   ]
  },
  {
   "cell_type": "markdown",
   "metadata": {
    "slideshow": {
     "slide_type": "slide"
    }
   },
   "source": [
    "# Open Items Lecture 12\n",
    "\n",
    "* No office hours this week\n",
    "* Next weeks:\n",
    "    * Relation Extraction with Isabelle\n",
    "    * Representation Learning with Tim & Pontus\n",
    "    * Deep Learning with Tim & Pontus\n",
    "    * Industry Presentation\n",
    "* Next: Back to Text Classification"
   ]
  }
 ],
 "metadata": {
  "celltoolbar": "Slideshow",
  "hide_input": false,
  "kernelspec": {
   "display_name": "Python 3",
   "language": "python",
   "name": "python3"
  },
  "language_info": {
   "codemirror_mode": {
    "name": "ipython",
    "version": 3
   },
   "file_extension": ".py",
   "mimetype": "text/x-python",
   "name": "python",
   "nbconvert_exporter": "python",
   "pygments_lexer": "ipython3",
   "version": "3.6.2"
  }
 },
 "nbformat": 4,
 "nbformat_minor": 1
}
