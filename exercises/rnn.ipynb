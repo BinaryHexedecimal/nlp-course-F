{
 "cells": [
  {
   "cell_type": "markdown",
   "metadata": {
    "run_control": {
     "frozen": false,
     "read_only": false
    }
   },
   "source": [
    "# Exercise: Recognizing Textual Entailment\n",
    "\n",
    "In this exercise, we are going to implement some of the models discussed in the Deep Learning for Natural Language Processing chapter. Specifically, we are going to implement an RTE system using TensorFlow. Instead of running this on a large corpus like SNLI, we are working on a very small corpus for implementation purposes. This is a common practice as in early stages of development we will likely encounter bugs in our cope and compile and run-time errors for which we do not need to train on a lot of data. It is generally a good idea to first test whether our model can overfit a tiny debug corpus."
   ]
  },
  {
   "cell_type": "code",
   "execution_count": 39,
   "metadata": {
    "ExecuteTime": {
     "end_time": "2016-12-11T17:34:58.776194",
     "start_time": "2016-12-11T17:34:58.745553"
    },
    "collapsed": false
   },
   "outputs": [
    {
     "name": "stderr",
     "output_type": "stream",
     "text": [
      "/usr/local/lib/python3.5/site-packages/numpy/core/numeric.py:301: FutureWarning: in the future, full([6, 15], 0) will return an array of dtype('int64')\n",
      "  format(shape, fill_value, array(fill_value).dtype), FutureWarning)\n",
      "/usr/local/lib/python3.5/site-packages/numpy/core/numeric.py:301: FutureWarning: in the future, full([6, 12], 0) will return an array of dtype('int64')\n",
      "  format(shape, fill_value, array(fill_value).dtype), FutureWarning)\n"
     ]
    }
   ],
   "source": [
    "import numpy as np\n",
    "\n",
    "# examples from SNLI training corpus, 2=entailment, 1=neutral, 0=contradiction\n",
    "# premise, hypothesis, label\n",
    "data = [\n",
    "    (\"Children smiling and waving at camera\", \"They are smiling at their parents\", 1),\n",
    "    (\"A boy is jumping on skateboard in the middle of a red bridge.\", \"The boy does a skateboarding trick.\", 2),\n",
    "    (\"A boy is jumping on skateboard in the middle of a red bridge.\", \"The boy skates down the sidewalk.\", 0),\n",
    "    (\"A person on a horse jumps over a broken down airplane.\", \"A person is outdoors, on a horse.\", 2),    \n",
    "    (\"A woman in a green jacket and hood over her head looking towards a valley.\", \"The woman is cold.\", 1),\n",
    "    (\"A couple playing with a little boy on the beach.\", \"A couple watch a little girl play by herself on the beach.\", 0)\n",
    "]\n",
    "\n",
    "def data2np(data, PAD=0):\n",
    "    \"\"\"Transforms data into a list of numpy tensors.\"\"\"\n",
    "    premises = []; premise_lengths = []\n",
    "    hypotheses = []; hypothesis_lengths = []\n",
    "    labels = []    \n",
    "    for premise, hypothesis, label in data:\n",
    "        premise_tokenized = premise.split(\" \")\n",
    "        premises.append(premise_tokenized)\n",
    "        premise_lengths.append(len(premise_tokenized))\n",
    "        hypotheses_tokenized = hypothesis.split(\" \")\n",
    "        hypotheses.append(hypotheses_tokenized)\n",
    "        hypothesis_lengths.append(len(hypotheses_tokenized))\n",
    "        labels.append(label)\n",
    "    vocab = {\"<PAD>\": PAD}\n",
    "    premises_np = np.full([len(data), np.max(premise_lengths)], PAD)\n",
    "    hypotheses_np = np.full([len(data), np.max(hypothesis_lengths)], PAD)    \n",
    "    for k, seqs in enumerate([premises, hypotheses]):\n",
    "        for i, seq in enumerate(seqs):\n",
    "            for j, word in enumerate(seq):\n",
    "                if word not in vocab:\n",
    "                    vocab[word] = len(vocab)\n",
    "                seq[j] = vocab[word] \n",
    "            if k == 0:\n",
    "                premises_np[i, 0:premise_lengths[i]] = seq\n",
    "            else:\n",
    "                hypotheses_np[i, 0:hypothesis_lengths[i]] = seq\n",
    "    return premises_np, premise_lengths, hypotheses_np, hypothesis_lengths, labels, vocab\n",
    "\n",
    "premises_np, premise_lengths, hypotheses_np, hypothesis_lengths, labels, vocab = data2np(data)"
   ]
  },
  {
   "cell_type": "code",
   "execution_count": 78,
   "metadata": {
    "ExecuteTime": {
     "end_time": "2016-12-11T21:28:08.533477",
     "start_time": "2016-12-11T21:28:03.614526"
    },
    "collapsed": false
   },
   "outputs": [
    {
     "name": "stdout",
     "output_type": "stream",
     "text": [
      "Loss: 6.55747\n"
     ]
    },
    {
     "data": {
      "image/png": "[encoded data removed]",
      "text/plain": [
       "<matplotlib.figure.Figure at 0x11a3915f8>"
      ]
     },
     "metadata": {},
     "output_type": "display_data"
    },
    {
     "name": "stdout",
     "output_type": "stream",
     "text": [
      "Loss: 6.05837\n"
     ]
    },
    {
     "data": {
      "image/png": "[encoded data removed]",
      "text/plain": [
       "<matplotlib.figure.Figure at 0x1195b42e8>"
      ]
     },
     "metadata": {},
     "output_type": "display_data"
    },
    {
     "name": "stdout",
     "output_type": "stream",
     "text": [
      "Loss: 4.60696\n"
     ]
    },
    {
     "data": {
      "image/png": "[encoded data removed]",
      "text/plain": [
       "<matplotlib.figure.Figure at 0x11a02c0f0>"
      ]
     },
     "metadata": {},
     "output_type": "display_data"
    },
    {
     "name": "stdout",
     "output_type": "stream",
     "text": [
      "Loss: 3.57584\n"
     ]
    },
    {
     "data": {
      "image/png": "[encoded data removed]",
      "text/plain": [
       "<matplotlib.figure.Figure at 0x11ee45e10>"
      ]
     },
     "metadata": {},
     "output_type": "display_data"
    },
    {
     "name": "stdout",
     "output_type": "stream",
     "text": [
      "Loss: 3.01958\n"
     ]
    },
    {
     "data": {
      "image/png": "[encoded data removed]",
      "text/plain": [
       "<matplotlib.figure.Figure at 0x11a021a90>"
      ]
     },
     "metadata": {},
     "output_type": "display_data"
    },
    {
     "name": "stdout",
     "output_type": "stream",
     "text": [
      "Loss: 2.55705\n"
     ]
    },
    {
     "data": {
      "image/png": "[encoded data removed]",
      "text/plain": [
       "<matplotlib.figure.Figure at 0x119c4c588>"
      ]
     },
     "metadata": {},
     "output_type": "display_data"
    },
    {
     "name": "stdout",
     "output_type": "stream",
     "text": [
      "Loss: 3.07091\n"
     ]
    },
    {
     "data": {
      "image/png": "[encoded data removed]",
      "text/plain": [
       "<matplotlib.figure.Figure at 0x11fe124e0>"
      ]
     },
     "metadata": {},
     "output_type": "display_data"
    },
    {
     "name": "stdout",
     "output_type": "stream",
     "text": [
      "Loss: 2.11781\n"
     ]
    },
    {
     "data": {
      "image/png": "[encoded data removed]",
      "text/plain": [
       "<matplotlib.figure.Figure at 0x119930f60>"
      ]
     },
     "metadata": {},
     "output_type": "display_data"
    },
    {
     "name": "stdout",
     "output_type": "stream",
     "text": [
      "Loss: 2.15781\n"
     ]
    },
    {
     "data": {
      "image/png": "[encoded data removed]",
      "text/plain": [
       "<matplotlib.figure.Figure at 0x119ed8b70>"
      ]
     },
     "metadata": {},
     "output_type": "display_data"
    },
    {
     "name": "stdout",
     "output_type": "stream",
     "text": [
      "Loss: 1.81419\n"
     ]
    },
    {
     "data": {
      "image/png": "[encoded data removed]",
      "text/plain": [
       "<matplotlib.figure.Figure at 0x11ed60ac8>"
      ]
     },
     "metadata": {},
     "output_type": "display_data"
    }
   ],
   "source": [
    "import tensorflow as tf\n",
    "import seaborn as sns\n",
    "import matplotlib.pyplot as plt\n",
    "%matplotlib inline\n",
    "\n",
    "with tf.Graph().as_default():\n",
    "    ## Placeholders\n",
    "    # [batch_size x max_premise_length]\n",
    "    premises_pl = tf.placeholder(tf.int64, [None, None], \"premises\")\n",
    "    # [batch_size]\n",
    "    premise_lengths_pl = tf.placeholder(tf.int64, [None], \"premise_lengths\")\n",
    "    # [batch_size x max_hypothesis_length]\n",
    "    hypotheses_pl = tf.placeholder(tf.int64, [None, None], \"hypotheses\")\n",
    "    # [batch_size]\n",
    "    hypothesis_lengths_pl = tf.placeholder(tf.int64, [None], \"hypothesis_lengths\")\n",
    "    # [batch_size]\n",
    "    labels_pl = tf.placeholder(tf.int64, [None], \"labels\")\n",
    "\n",
    "    ## Model\n",
    "    input_size = 2\n",
    "    hidden_size = 5\n",
    "    target_size = 3\n",
    "    vocab_size = len(vocab)\n",
    "\n",
    "    embeddings = tf.get_variable(\"W\", [vocab_size, input_size])\n",
    "\n",
    "    # [batch_size x max_premise_length x input_size]\n",
    "    premises_embedded = tf.nn.embedding_lookup(embeddings, premises_pl)\n",
    "    # [batch_size x max_hypothesis_length x input_size]\n",
    "    hypotheses_embedded = tf.nn.embedding_lookup(embeddings, premises_pl)\n",
    "\n",
    "    with tf.variable_scope(\"encoder\") as varscope:\n",
    "        cell = tf.nn.rnn_cell.LSTMCell(hidden_size, state_is_tuple=True)\n",
    "        _, premise_final_state = \\\n",
    "            tf.nn.dynamic_rnn(cell, premises_embedded, sequence_length=premise_lengths_pl, dtype=tf.float32)    \n",
    "        premises_h = premise_final_state.h\n",
    "        varscope.reuse_variables()  # using the same encoder for premises and hypotheses\n",
    "        _, hypothesis_final_state = \\\n",
    "            tf.nn.dynamic_rnn(cell, hypotheses_embedded, sequence_length=hypothesis_lengths_pl, dtype=tf.float32)    \n",
    "        hypotheses_h = hypothesis_final_state.h\n",
    "         \n",
    "    # [batch_size x 2*hidden_size]\n",
    "    pair_representation = tf.concat(1, [premises_h, hypotheses_h])\n",
    "        \n",
    "    # [batch_size x target_size]\n",
    "    logits = tf.contrib.layers.linear(pair_representation, target_size)\n",
    "    \n",
    "    probability = tf.nn.softmax(logits)\n",
    "    \n",
    "    ## Training Loss\n",
    "    loss = tf.reduce_sum(tf.nn.sparse_softmax_cross_entropy_with_logits(logits, labels))\n",
    "            \n",
    "    ## Optimizer\n",
    "    optim = tf.train.AdamOptimizer(0.1)\n",
    "    optim_op = optim.minimize(loss)\n",
    "        \n",
    "    with tf.Session() as sess:\n",
    "        sess.run(tf.initialize_all_variables())\n",
    "        \n",
    "        feed_dict = {\n",
    "            premises_pl: premises_np,\n",
    "            premise_lengths_pl: premise_lengths,\n",
    "            hypotheses_pl: hypotheses_np,\n",
    "            hypothesis_lengths_pl: hypothesis_lengths,\n",
    "            labels_pl: labels\n",
    "        }\n",
    "        \n",
    "        for i in range(10):\n",
    "            _, current_loss, current_probabilities = sess.run([optim_op, loss, probability], feed_dict)\n",
    "            print(\"Loss:\", current_loss)\n",
    "            sns.heatmap(current_probabilities, vmin=0.0, vmax=1.0, square=True, cmap=\"Blues\") \n",
    "            plt.show()"
   ]
  }
 ],
 "metadata": {
  "hide_input": false,
  "kernelspec": {
   "display_name": "Python 3",
   "language": "python",
   "name": "python3"
  },
  "language_info": {
   "codemirror_mode": {
    "name": "ipython",
    "version": 3
   },
   "file_extension": ".py",
   "mimetype": "text/x-python",
   "name": "python",
   "nbconvert_exporter": "python",
   "pygments_lexer": "ipython3",
   "version": "3.5.0"
  }
 },
 "nbformat": 4,
 "nbformat_minor": 0
}
