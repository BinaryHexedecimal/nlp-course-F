{
 "cells": [
  {
   "cell_type": "code",
   "execution_count": 1,
   "metadata": {
    "slideshow": {
     "slide_type": "skip"
    }
   },
   "outputs": [],
   "source": [
    "%%capture\n",
    "%load_ext autoreload\n",
    "%autoreload 2\n",
    "%matplotlib inline\n",
    "# %cd .. \n",
    "import sys\n",
    "sys.path.append(\"..\")\n",
    "import statnlpbook.util as util\n",
    "util.execute_notebook('structured_prediction.ipynb')"
   ]
  },
  {
   "cell_type": "markdown",
   "metadata": {
    "slideshow": {
     "slide_type": "skip"
    }
   },
   "source": [
    "<!---\n",
    "Latex Macros\n",
    "-->\n",
    "$$\n",
    "\\newcommand{\\Xs}{\\mathcal{X}}\n",
    "\\newcommand{\\Ys}{\\mathcal{Y}}\n",
    "\\newcommand{\\y}{\\mathbf{y}}\n",
    "\\newcommand{\\repr}{\\mathbf{f}}\n",
    "\\newcommand{\\repry}{\\mathbf{g}}\n",
    "\\newcommand{\\x}{\\mathbf{x}}\n",
    "\\newcommand{\\vocab}{V}\n",
    "\\newcommand{\\params}{\\boldsymbol{\\theta}}\n",
    "\\newcommand{\\param}{\\theta}\n",
    "\\DeclareMathOperator{\\perplexity}{PP}\n",
    "\\DeclareMathOperator{\\argmax}{argmax}\n",
    "\\DeclareMathOperator{\\argmin}{argmin}\n",
    "\\newcommand{\\train}{\\mathcal{D}}\n",
    "\\newcommand{\\counts}[2]{\\#_{#1}(#2) }\n",
    "\\newcommand{\\indi}{\\mathbb{I}}\n",
    "$$"
   ]
  },
  {
   "cell_type": "markdown",
   "metadata": {
    "slideshow": {
     "slide_type": "slide"
    }
   },
   "source": [
    "# Structured Prediction"
   ]
  },
  {
   "cell_type": "markdown",
   "metadata": {
    "slideshow": {
     "slide_type": "slide"
    }
   },
   "source": [
    "No emerging unified _theory of NLP_, most textbooks and courses explain NLP as \n",
    "\n",
    "> a collection of problems, techniques, ideas, frameworks, etc. that really are not tied together in any reasonable way other than the fact that they have to do with NLP.\n",
    ">\n",
    ">  -- <cite>[Hal Daume](http://nlpers.blogspot.co.uk/2012/12/teaching-intro-grad-nlp.html)</cite>"
   ]
  },
  {
   "cell_type": "markdown",
   "metadata": {
    "slideshow": {
     "slide_type": "slide"
    }
   },
   "source": [
    "but there is a reoccurring pattern ... the\n",
    "## Structured Prediction Task"
   ]
  },
  {
   "cell_type": "markdown",
   "metadata": {
    "slideshow": {
     "slide_type": "subslide"
    }
   },
   "source": [
    "## Problem Signature \n",
    "\n",
    "* Given given some input structure \\\\(\\x \\in \\Xs \\\\), such as a token, sentence, or document ...  \n",
    "* predict an **output structure** \\\\(\\y \\in \\Ys \\\\), such as a class label, a sentence or syntactic tree"
   ]
  },
  {
   "cell_type": "markdown",
   "metadata": {
    "slideshow": {
     "slide_type": "subslide"
    }
   },
   "source": [
    "## Recipes\n",
    "* *Learn* how to **score** structures, *implement* how to **predict**\n",
    "* *Learn* how to **predict**"
   ]
  },
  {
   "cell_type": "markdown",
   "metadata": {
    "slideshow": {
     "slide_type": "subslide"
    }
   },
   "source": [
    "## Recipe 1: Learn to Score, Implement How to Predict"
   ]
  },
  {
   "cell_type": "markdown",
   "metadata": {
    "slideshow": {
     "slide_type": "fragment"
    }
   },
   "source": [
    " * Define a parametrized _model_ \\\\(s_\\params(\\x,\\y)\\\\) that measures the _match_ of a given \\\\(\\x\\\\) and \\\\(\\y\\\\) using _representations_ $\\repr(\\x)$ and $\\repry(\\y)$."
   ]
  },
  {
   "cell_type": "markdown",
   "metadata": {
    "slideshow": {
     "slide_type": "fragment"
    }
   },
   "source": [
    " * _Learn_ the parameters \\\\(\\params\\\\) from the training data \\\\(\\train\\\\) to minimise a loss (a _continuous optimization problem_)."
   ]
  },
  {
   "cell_type": "markdown",
   "metadata": {
    "slideshow": {
     "slide_type": "fragment"
    }
   },
   "source": [
    " * Given an input \\\\(\\x\\\\) find the highest-scoring output structure $$ \\y^* = \\argmax_{\\y\\in\\Ys} s_\\params(\\x,\\y) $$ (a _discrete optimization problem_).  "
   ]
  },
  {
   "cell_type": "markdown",
   "metadata": {
    "slideshow": {
     "slide_type": "subslide"
    }
   },
   "source": [
    "**Good NLPers** combine **three skills** in accordance with this recipe: \n",
    "\n",
    "* modelling,\n",
    "* continuous optimization and\n",
    "* discrete optimization."
   ]
  },
  {
   "cell_type": "markdown",
   "metadata": {
    "slideshow": {
     "slide_type": "slide"
    }
   },
   "source": [
    "## Example\n",
    "* Difficult to show meaningful example without going into depth (as we will do later)\n",
    "* Instead consider toy example that uses same ingredients and steps"
   ]
  },
  {
   "cell_type": "markdown",
   "metadata": {
    "slideshow": {
     "slide_type": "subslide"
    }
   },
   "source": [
    "### Task\n",
    "\"Machine translation\" from English into German sentences\n",
    "\n",
    "### Assumptions\n",
    "* There are only 4 target German sentences we care about.\n",
    "* The lengths of the source English and target German sentences are sufficient representations of the problem."
   ]
  },
  {
   "cell_type": "code",
   "execution_count": 2,
   "metadata": {
    "slideshow": {
     "slide_type": "subslide"
    }
   },
   "outputs": [
    {
     "data": {
      "text/html": [
       "<table style=\"font-size:large;\"><tr><td style='padding:5px'>I ate an apple</td> <td style='padding:5px'>Ich aß einen Apfel</td><tr><tr><td style='padding:5px'>I ate a red apple</td> <td style='padding:5px'>Ich aß einen roten Apfel</td><tr></table>"
      ],
      "text/plain": [
       "<statnlpbook.util.Table at 0x1083c50f0>"
      ]
     },
     "execution_count": 2,
     "metadata": {},
     "output_type": "execute_result"
    }
   ],
   "source": [
    "util.Table(train)"
   ]
  },
  {
   "cell_type": "code",
   "execution_count": 3,
   "metadata": {
    "slideshow": {
     "slide_type": "fragment"
    }
   },
   "outputs": [
    {
     "data": {
      "text/html": [
       "<table style=\"font-size:large;\"><tr><td style='padding:5px'>Yesterday I ate a red apple</td> <td style='padding:5px'>Gestern aß ich einen roten Apfel</td><tr><tr><td style='padding:5px'>Yesterday I ate a red apply with a friend</td> <td style='padding:5px'>Gestern aß ich einen roten Apfel mit einem Freund</td><tr></table>"
      ],
      "text/plain": [
       "<statnlpbook.util.Table at 0x10842f3c8>"
      ]
     },
     "execution_count": 3,
     "metadata": {},
     "output_type": "execute_result"
    }
   ],
   "source": [
    "util.Table(test)  "
   ]
  },
  {
   "cell_type": "markdown",
   "metadata": {
    "slideshow": {
     "slide_type": "subslide"
    }
   },
   "source": [
    "Our \n",
    "### Output Space\n",
    "is simply:"
   ]
  },
  {
   "cell_type": "code",
   "execution_count": 4,
   "metadata": {
    "slideshow": {
     "slide_type": "fragment"
    }
   },
   "outputs": [
    {
     "data": {
      "text/plain": [
       "['Ich aß einen Apfel',\n",
       " 'Ich aß einen roten Apfel',\n",
       " 'Gestern aß ich einen roten Apfel',\n",
       " 'Gestern aß ich einen roten Apfel mit einem Freund']"
      ]
     },
     "execution_count": 4,
     "metadata": {},
     "output_type": "execute_result"
    }
   ],
   "source": [
    "y_space"
   ]
  },
  {
   "cell_type": "markdown",
   "metadata": {
    "slideshow": {
     "slide_type": "subslide"
    }
   },
   "source": [
    "### Representation\n",
    "* $\\repr(\\x)=|\\x|$ \n",
    "* $\\repry(\\y)=|\\y|$ "
   ]
  },
  {
   "cell_type": "markdown",
   "metadata": {
    "slideshow": {
     "slide_type": "fragment"
    }
   },
   "source": [
    "### Model\n",
    "$$\n",
    "s_\\param(\\x,\\y) = -|\\param \\repr(\\x) - \\repry(\\y)|\n",
    "$$\n",
    "\n",
    "Note: $\\param$ should capture fact that German sentences are a little longer (here!)"
   ]
  },
  {
   "cell_type": "markdown",
   "metadata": {
    "slideshow": {
     "slide_type": "subslide"
    }
   },
   "source": [
    "Let us inspect this model: "
   ]
  },
  {
   "cell_type": "code",
   "execution_count": 5,
   "metadata": {
    "slideshow": {
     "slide_type": "fragment"
    }
   },
   "outputs": [
    {
     "data": {
      "text/html": [
       "<table style=\"font-size:large;\"><tr><td style='padding:5px'>I ate an apple</td> <td style='padding:5px'>Ich aß einen Apfel</td> <td style='padding:5px'>14</td> <td style='padding:5px'>18</td> <td style='padding:5px'>-4.0</td><tr><tr><td style='padding:5px'>I ate a red apple</td> <td style='padding:5px'>Ich aß einen roten Apfel</td> <td style='padding:5px'>17</td> <td style='padding:5px'>24</td> <td style='padding:5px'>-7.0</td><tr></table>"
      ],
      "text/plain": [
       "<statnlpbook.util.Table at 0x108470e10>"
      ]
     },
     "execution_count": 5,
     "metadata": {},
     "output_type": "execute_result"
    }
   ],
   "source": [
    "util.Table([(x, y, f(x), g(y), s(1.0, x, y)) for x, y in train])"
   ]
  },
  {
   "cell_type": "markdown",
   "metadata": {
    "slideshow": {
     "slide_type": "subslide"
    }
   },
   "source": [
    "Does this scoring function help to **discriminate** right from wrong? "
   ]
  },
  {
   "cell_type": "code",
   "execution_count": 6,
   "metadata": {
    "slideshow": {
     "slide_type": "fragment"
    }
   },
   "outputs": [
    {
     "data": {
      "text/html": [
       "<table style=\"font-size:large;\"><tr><td style='padding:5px'>I ate a red apple</td> <td style='padding:5px'>Ich aß einen Apfel</td> <td style='padding:5px'>-4.100000000000001</td><tr><tr><td style='padding:5px'>I ate a red apple</td> <td style='padding:5px'>Ich aß einen roten Apfel</td> <td style='padding:5px'>-1.8999999999999986</td><tr><tr><td style='padding:5px'>I ate a red apple</td> <td style='padding:5px'>Gestern aß ich einen roten Apfel</td> <td style='padding:5px'>-9.899999999999999</td><tr><tr><td style='padding:5px'>I ate a red apple</td> <td style='padding:5px'>Gestern aß ich einen roten Apfel mit einem Freund</td> <td style='padding:5px'>-26.9</td><tr></table>"
      ],
      "text/plain": [
       "<statnlpbook.util.Table at 0x108470c50>"
      ]
     },
     "execution_count": 6,
     "metadata": {},
     "output_type": "execute_result"
    }
   ],
   "source": [
    "util.Table([(train[1][0],y,s(1.3,train[1][0],y)) for y in y_space])"
   ]
  },
  {
   "cell_type": "markdown",
   "metadata": {
    "slideshow": {
     "slide_type": "subslide"
    }
   },
   "source": [
    "How to estimate $\\param$? Let us define a \n",
    "### Loss Function\n",
    "$$\n",
    "l(\\param)=\\sum_{(\\x,\\y) \\in \\train} \\indi(\\y\\neq\\y^*_{\\param}(\\x))\n",
    "$$\n",
    "where \n",
    "* $\\indi(\\mathrm{True})=1$ and $\\indi(\\mathrm{False})=0$ \n",
    "* $\\y^*_{\\param}(\\x) \\in \\Ys$ is highest scoring translation of $\\x$\n",
    "$$\\y^*_{\\param}(\\x)=\\argmax_\\y s_\\param(\\x,\\y).$$\n"
   ]
  },
  {
   "cell_type": "code",
   "execution_count": 7,
   "metadata": {
    "scrolled": true,
    "slideshow": {
     "slide_type": "subslide"
    }
   },
   "outputs": [
    {
     "data": {
      "text/plain": [
       "[<matplotlib.lines.Line2D at 0x1084fb208>]"
      ]
     },
     "execution_count": 7,
     "metadata": {},
     "output_type": "execute_result"
    },
    {
     "data": {
      "image/png": "[encoded data removed]",
      "text/plain": [
       "<matplotlib.figure.Figure at 0x108470240>"
      ]
     },
     "metadata": {},
     "output_type": "display_data"
    }
   ],
   "source": [
    "thetas = np.linspace(0.0, 2.0, num=50)\n",
    "plt.plot(thetas, [loss(theta,train) for theta in thetas])"
   ]
  },
  {
   "cell_type": "markdown",
   "metadata": {
    "slideshow": {
     "slide_type": "subslide"
    }
   },
   "source": [
    "### Learning\n",
    "is as simple as choosing the parameter with the lowest loss:\n",
    "\n",
    "$$\n",
    "\\param^* = \\argmin_{\\param \\in [0,2]} l(\\param) \n",
    "$$\n"
   ]
  },
  {
   "cell_type": "code",
   "execution_count": 8,
   "metadata": {
    "slideshow": {
     "slide_type": "fragment"
    }
   },
   "outputs": [
    {
     "data": {
      "text/plain": [
       "1.2653061224489794"
      ]
     },
     "execution_count": 8,
     "metadata": {},
     "output_type": "execute_result"
    }
   ],
   "source": [
    "theta_star = thetas[np.argmin([loss(theta,train) for theta in thetas])]\n",
    "theta_star"
   ]
  },
  {
   "cell_type": "markdown",
   "metadata": {
    "slideshow": {
     "slide_type": "subslide"
    }
   },
   "source": [
    "### Prediction\n",
    "same thing, just in $\\Ys$:\n",
    "\n",
    "$$\\y{^*}_{\\param}=\\argmax_\\y s_\\param(\\x,\\y).$$\n",
    "\n",
    "Seen before? Yes, training often involves prediction in inner loop."
   ]
  },
  {
   "cell_type": "code",
   "execution_count": 9,
   "metadata": {
    "slideshow": {
     "slide_type": "fragment"
    }
   },
   "outputs": [
    {
     "data": {
      "text/html": [
       "<table style=\"font-size:large;\"><tr><td style='padding:5px'>Yesterday I ate a red apple</td> <td style='padding:5px'>Gestern aß ich einen roten Apfel</td><tr><tr><td style='padding:5px'>Yesterday I ate a red apply with a friend</td> <td style='padding:5px'>Gestern aß ich einen roten Apfel mit einem Freund</td><tr></table>"
      ],
      "text/plain": [
       "<statnlpbook.util.Table at 0x1084fbeb8>"
      ]
     },
     "execution_count": 9,
     "metadata": {},
     "output_type": "execute_result"
    }
   ],
   "source": [
    "util.Table([(x,predict(theta_star, x)) for x,_ in test])"
   ]
  },
  {
   "cell_type": "markdown",
   "metadata": {
    "slideshow": {
     "slide_type": "slide"
    }
   },
   "source": [
    "### In Practice\n",
    "Feature representations and scoring functions are **more elaborate**\n",
    "* involve several **non-linear** transformations of both input and output. \n",
    "* Maybe learn automatically: **representation** and **deep learning**"
   ]
  },
  {
   "cell_type": "markdown",
   "metadata": {
    "slideshow": {
     "slide_type": "subslide"
    }
   },
   "source": [
    "Parameter space usually **multi-dimensional** (millions of dimensions). \n",
    "* **Impossible to search exhaustively**.\n",
    "* **Numeric optimisation algorithms** (often SGD)."
   ]
  },
  {
   "cell_type": "markdown",
   "metadata": {
    "slideshow": {
     "slide_type": "subslide"
    }
   },
   "source": [
    "Output space often exponentional sized (e.g. *all* German sentences)\n",
    "* **Impossible to search exhaustively**.\n",
    "* **Discrete optimisation algorithms** (Dynamic Programming, Greedy, integer linear programming)"
   ]
  },
  {
   "cell_type": "markdown",
   "metadata": {
    "slideshow": {
     "slide_type": "subslide"
    }
   },
   "source": [
    "## Recipe 2: Learn to Predict\n",
    "\n",
    "* Consider language processing as a **program**\n",
    "* Learn which action the program should do at each stage\n",
    "* For example:\n",
    "    * actions are \"adding a word to a translation\"\n",
    "    * program performs actions until all source words are translated\n",
    "* Can be framed as \n",
    "    * reinforcement learning \n",
    "    * [imitation learning](https://www.cs.cmu.edu/~sross1/publications/Ross-AIStats11-NoRegret.pdf)\n",
    "* Will see this in [dependency parsing](/notebooks/chapters/Transition-based%20dependency%20parsing.ipynb) \n",
    "    \n",
    " "
   ]
  },
  {
   "cell_type": "markdown",
   "metadata": {
    "slideshow": {
     "slide_type": "slide"
    }
   },
   "source": [
    "## Background Reading\n",
    "\n",
    "* Noah Smith, [Linguistic Structure Prediction](http://www.cs.cmu.edu/~nasmith/LSP/)\n",
    "    * Free when logging in through UCL \n",
    "    * Relevant: \n",
    "        * Introduction\n",
    "        * Dynamic Programming \n",
    "        * Generative Models (and unsupervised generative models)\n",
    "        * Globally Normalized Conditional Log-Linear Models  \n",
    "   "
   ]
  }
 ],
 "metadata": {
  "celltoolbar": "Slideshow",
  "kernelspec": {
   "display_name": "Python 3",
   "language": "python",
   "name": "python3"
  },
  "language_info": {
   "codemirror_mode": {
    "name": "ipython",
    "version": 3
   },
   "file_extension": ".py",
   "mimetype": "text/x-python",
   "name": "python",
   "nbconvert_exporter": "python",
   "pygments_lexer": "ipython3",
   "version": "3.6.1"
  }
 },
 "nbformat": 4,
 "nbformat_minor": 1
}
