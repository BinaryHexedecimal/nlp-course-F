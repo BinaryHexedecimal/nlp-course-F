{
 "cells": [
  {
   "cell_type": "markdown",
   "metadata": {
    "slideshow": {
     "slide_type": "slide"
    }
   },
   "source": [
    "# NDAK18000U Overview\n",
    "content at [https://github.com/coastalcph/stat-nlp-book](https://github.com/coastalcph/stat-nlp-book), click on slides for *Course Logistics*"
   ]
  },
  {
   "cell_type": "markdown",
   "metadata": {
    "slideshow": {
     "slide_type": "slide"
    }
   },
   "source": [
    "### NDAK18000U Details\n",
    "\n",
    "- **Course Responsible**: [Isabelle Augenstein](http://isabelleaugenstein.github.io/)\n",
    "- **Guest Lecturers**: [Marcel Bollmann](https://marcel.bollmann.me/), [Johannes Bjerva](https://bjerva.github.io/), [Meriem Beloucif](http://www.cs.ust.hk/~mbeloucif/)\n",
    "- **Teaching Assistant**: [Yova Kementchedjhieva](https://yovakem.github.io/)"
   ]
  },
  {
   "cell_type": "markdown",
   "metadata": {
    "slideshow": {
     "slide_type": "slide"
    }
   },
   "source": [
    "### NDAK18000U Schedule\n",
    "\n",
    "- Lectures:  \n",
    "    -  Monday 10 - 12; weeks 36-41, 43-44; aud - AUD 01 (AKB) Universitetsparken 13\n",
    "    -  Tuesday 13 - 15; week 43; aud - Aud 03 (AKB), Universitetsparken 13\n",
    "    \n",
    "- Lab Sessions:\n",
    "    - Friday 10 - 12; weeks 36-41, 43; øv - 4-0-02, Ole Maaløes Vej 5 (Biocenter)"
   ]
  },
  {
   "cell_type": "markdown",
   "metadata": {
    "slideshow": {
     "slide_type": "slide"
    }
   },
   "source": [
    "### Course Requirements\n",
    "* Familiarity with machine learning (probability theory, linear algebra, classification)\n",
    "* Knowledge of programming (Python)\n",
    "* No prior knowledge of natural language processing or linguistics is required\n",
    "\n",
    "Relevant machine learning competencies can be obtained through one of the following courses: \n",
    "* NDAK15007U Machine Learning (ML) \n",
    "* NDAK16003U Introduction to Data Science (IDS) \n",
    "* Machine Learning, Coursera\n",
    "\n",
    "See also the [course description](http://kurser.ku.dk/course/ndak18000u/2018-2019)"
   ]
  },
  {
   "cell_type": "markdown",
   "metadata": {
    "slideshow": {
     "slide_type": "slide"
    }
   },
   "source": [
    "### Course Materials\n",
    "* We will be using the [stat-nlp-book](../overview.ipynb) project. \n",
    "* Contains **interactive** [jupyter](http://jupyter.org/) notes and slides\n",
    "    * View statically [here](http://nbviewer.jupyter.org/github/uclmr/stat-nlp-book/blob/python/overview.ipynb)\n",
    "    * Use interactively via install, see [github repo](https://github.com/coastalcph/stat-nlp-book) instructions  \n",
    "* References to other material are given in context.\n",
    "* This is work in progress.\n",
    "    * Course materials are being adapted from a [course I co-taught at UCL](https://github.com/uclmr/stat-nlp-book) (course organiser: [Sebastian Riedel](http://www.riedelcastro.org/))\n",
    "    * Use `git pull` regularly for updates\n",
    "    * *Watch* for updates, *star* if you like it\n",
    "* Please contribute by adding issues on github when you see errors.\n",
    "* For assignment hand-in, announcements, discussion forum, check [Moodle](https://absalon.instructure.com/login/saml)"
   ]
  },
  {
   "cell_type": "markdown",
   "metadata": {
    "slideshow": {
     "slide_type": "slide"
    }
   },
   "source": [
    "### Teaching Methods\n",
    "* Course combines\n",
    "    * Traditional lectures\n",
    "    * Hands-on exercises\n",
    "    * Group work\n",
    "* You are expected to read some background material for each lecture and do a short quiz\n",
    "    * This is such that everyone is on the same page\n",
    "    * And so that there is more time for exercises and discussion in lectures\n",
    "* The background material and quiz will be made available a week before each lecture\n",
    "    * No mandatory reading material for the first lecture"
   ]
  },
  {
   "cell_type": "markdown",
   "metadata": {
    "slideshow": {
     "slide_type": "slide"
    }
   },
   "source": [
    "### Lecture Preparation\n",
    "\n",
    "* Read Background Material\n",
    "* Go through lecture notes, play with code\n",
    "* Do exercises"
   ]
  },
  {
   "cell_type": "markdown",
   "metadata": {
    "slideshow": {
     "slide_type": "slide"
    }
   },
   "source": [
    "### Assessment Methods\n",
    "\n",
    "* **Short weekly quizzes (20%)**, at least 5 to be submitted\n",
    "    * Weekly hand-in: Friday 8am\n",
    "    \n",
    "* **4 small assignments throughout the course (30%)**, to be completed individually\n",
    "    * Assignment 1: dependency parsing\n",
    "        * Released: 10 September; hand-in: 17 September, 8am\n",
    "    * Assignment 2: language modelling\n",
    "        * Released: 17 September; hand-in: 24 September, 8am\n",
    "    * Assignment 3: text classification\n",
    "        * Released: 24 September; hand-in: 1 October, 8am\n",
    "    * Assignment 4: sequence labelling\n",
    "        * Released: 1 October; hand-in: 8 October\n",
    "        \n",
    "* **Final project (50%)**, can be completed in a group of up to 3 students\n",
    "    * Released: 8 October, hand-in: 9 November 39:59\n",
    "    * Note: lectures until hand-in date will still be relevant for project"
   ]
  },
  {
   "cell_type": "markdown",
   "metadata": {
    "slideshow": {
     "slide_type": "slide"
    }
   },
   "source": [
    "### Late Hand-In\n",
    "\n",
    "* Late hand-ins **cannot be accepted**\n",
    "* Exceptions can be made in rare exceptions, e.g. due to illness with doctor's notice\n",
    "    * Get in touch with course responsible at least one working day in advance"
   ]
  },
  {
   "cell_type": "markdown",
   "metadata": {
    "slideshow": {
     "slide_type": "slide"
    }
   },
   "source": [
    "### Plagiarism\n",
    "\n",
    "* Don't do it\n",
    "* Don't enable it\n",
    "* Check [rules and consequences](https://student-ambassador.ku.dk/rights/avoid-plagiarism/) if unclear"
   ]
  },
  {
   "cell_type": "markdown",
   "metadata": {
    "slideshow": {
     "slide_type": "slide"
    }
   },
   "source": [
    "### Docker\n",
    "\n",
    "* The book, tutorials and assignments run in a [docker](https://www.docker.com/) container\n",
    "* Container comes with all dependencies pre-installed\n",
    "* You can install it on your machine or on Azure/AWS machines\n",
    "* We provide no support for non-docker installations"
   ]
  },
  {
   "cell_type": "markdown",
   "metadata": {
    "slideshow": {
     "slide_type": "slide"
    }
   },
   "source": [
    "### Python\n",
    "\n",
    "* Lectures, lab exercises and assignments focus on **Python** (version 3.6)\n",
    "* Python is a leading language for data science, machine learning etc., with many relevant libraries\n",
    "* We expect you to know Python, or be willing to learn it **on your own**\n",
    "* Labs and assignments focus on development within [jupyter notebooks](http://jupyter.org/)"
   ]
  },
  {
   "cell_type": "markdown",
   "metadata": {
    "slideshow": {
     "slide_type": "slide"
    }
   },
   "source": [
    "### Discussion Forum\n",
    "\n",
    "* Our moodle page has a **discussion forum**.\n",
    "* Please post questions there (instead of private emails) \n",
    "* We give low priority to **questions already answered** in previous lectures, tutorials and posts, \n",
    "    * and to **pure programming related issues**\n",
    "* We expect you to **online-search** for answers before.\n",
    "* You are highly encouraged to participate and **help each other** on the forum. \n",
    "* The teaching team will check the discussion forum regularly **within normal working hours**\n",
    "    * do not expect answers late in the evenings and on weekends\n",
    "    * **start your assignments early**"
   ]
  },
  {
   "cell_type": "markdown",
   "metadata": {
    "slideshow": {
     "slide_type": "slide"
    }
   },
   "source": [
    "### Copenhagen NLP Group\n",
    "\n",
    "* Research Group in UCPH Computer Science Department, Machine Learning Section\n",
    "* Led by Anders Søgaard, Isabelle Augenstein, Desmond Elliott\n",
    "* Official webpage: https://di.ku.dk/english/research/imagesection/nlp/\n",
    "* List of group members: http://coastalcph.github.io/\n",
    "* Twitter: \n",
    "    * @coastalcph https://twitter.com/coastalcph\n",
    "    * @IAugenstein https://twitter.com/IAugenstein\n",
    "* Always looking for strong MSc students\n",
    "* PhD positions available dependent on funding"
   ]
  }
 ],
 "metadata": {
  "celltoolbar": "Slideshow",
  "kernelspec": {
   "display_name": "Python 3",
   "language": "python",
   "name": "python3"
  },
  "language_info": {
   "codemirror_mode": {
    "name": "ipython",
    "version": 3
   },
   "file_extension": ".py",
   "mimetype": "text/x-python",
   "name": "python",
   "nbconvert_exporter": "python",
   "pygments_lexer": "ipython3",
   "version": "3.6.2"
  }
 },
 "nbformat": 4,
 "nbformat_minor": 1
}
