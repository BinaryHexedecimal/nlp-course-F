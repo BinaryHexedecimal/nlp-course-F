{
 "cells": [
  {
   "cell_type": "markdown",
   "metadata": {
    "slideshow": {
     "slide_type": "slide"
    }
   },
   "source": [
    "# NDAK18000U Overview\n",
    "content at [https://github.com/copenlu/stat-nlp-book](https://github.com/copenlu/stat-nlp-book), click on slides for *Course Logistics*"
   ]
  },
  {
   "cell_type": "markdown",
   "metadata": {
    "slideshow": {
     "slide_type": "slide"
    }
   },
   "source": [
    "### NDAK18000U Details\n",
    "\n",
    "- **Course Responsible**: [Isabelle Augenstein](http://isabelleaugenstein.github.io/)\n",
    "- **Guest Lecturers**: [Isabelle Augenstein](http://isabelleaugenstein.github.io/), [Daniel Hershcovich](https://danielhers.github.io/)\n",
    "- **Teaching Assistants**: [Pepa Atanasova](https://scholar.google.bg/citations?user=CLOC3rEAAAAJ&hl=en), [Dustin Wright](https://dustinbwright.com/)"
   ]
  },
  {
   "cell_type": "markdown",
   "metadata": {
    "slideshow": {
     "slide_type": "slide"
    }
   },
   "source": [
    "### NDAK18000U Schedule\n",
    "\n",
    "**TBD: pending notification from room booking people**\n",
    "\n",
    "- Lectures:  \n",
    "    -  Tuesdays, 13-15 in Auditorium 6, Universitetsparken 5, Weeks 36-41 + 43-44\n",
    "    \n",
    "- Lab Sessions:\n",
    "    -  Mondays, 10-12 in C103, Universitetsparken 5, Weeks 37-41 + 43-44 (typically Yova)\n",
    "    -  Fridays, 10-12 in A107, Universitetsparken 5, weeks 36-41, 43-44 (typically Pepa)\n",
    "    \n",
    "You are welcome to attend one or both lab sessions"
   ]
  },
  {
   "cell_type": "markdown",
   "metadata": {
    "slideshow": {
     "slide_type": "slide"
    }
   },
   "source": [
    "### Course Requirements\n",
    "* Familiarity with machine learning (probability theory, linear algebra, classification)\n",
    "* Knowledge of programming (Python)\n",
    "* No prior knowledge of natural language processing or linguistics is required\n",
    "\n",
    "Relevant machine learning competencies can be obtained through one of the following courses: \n",
    "* NDAK15007U Machine Learning (ML) \n",
    "* NDAK16003U Introduction to Data Science (IDS) \n",
    "* NDAB18000U Data Science\n",
    "* NDAB18003U Elements of Machine Learning \n",
    "* Machine Learning, Coursera\n",
    "\n",
    "See also the [course description](https://kurser.ku.dk/course/ndak18000u/2020-2021)"
   ]
  },
  {
   "cell_type": "markdown",
   "metadata": {
    "slideshow": {
     "slide_type": "slide"
    }
   },
   "source": [
    "### About You: previously taken courses related to NLP?\n",
    "\n",
    "**TBD: add graph**"
   ]
  },
  {
   "cell_type": "markdown",
   "metadata": {
    "slideshow": {
     "slide_type": "slide"
    }
   },
   "source": [
    "### About You: previously taken courses in Machine Learning?\n",
    "\n",
    "**TBD: add graph**"
   ]
  },
  {
   "cell_type": "markdown",
   "metadata": {
    "slideshow": {
     "slide_type": "slide"
    }
   },
   "source": [
    "### About You: experience with using neural network software libraries?\n",
    "\n",
    "**TBD: add graph**"
   ]
  },
  {
   "cell_type": "markdown",
   "metadata": {
    "slideshow": {
     "slide_type": "slide"
    }
   },
   "source": [
    "### About You: degree are you enrolled in\n",
    "\n",
    "**TBD: add graph**"
   ]
  },
  {
   "cell_type": "markdown",
   "metadata": {
    "slideshow": {
     "slide_type": "slide"
    }
   },
   "source": [
    "### About You: what you want to get out of this course\n",
    "\n",
    "**TBD: add graph**"
   ]
  },
  {
   "cell_type": "markdown",
   "metadata": {
    "slideshow": {
     "slide_type": "slide"
    }
   },
   "source": [
    "### Course Materials\n",
    "* We will be using the [stat-nlp-book](../overview.ipynb) project. \n",
    "* Contains **interactive** [jupyter](http://jupyter.org/) notes and slides\n",
    "    * View statically [here](https://nbviewer.jupyter.org/github/copenlu/stat-nlp-book/blob/master/overview.ipynb)\n",
    "    * Use interactively via install, see [github repo](https://github.com/copenlu/stat-nlp-book) instructions  \n",
    "* References to other material are given in context.\n",
    "* This is work in progress.\n",
    "    * Course materials are adapted from a [course I co-taught at UCL](https://github.com/uclmr/stat-nlp-book) (course organiser: [Sebastian Riedel](http://www.riedelcastro.org/))\n",
    "    * Use `git pull` regularly for updates\n",
    "    * *Watch* for updates\n",
    "    * Please contribute by adding issues on github when you see errors\n",
    "* For assignment hand-in, announcements, discussion forum, check [Absalon](https://absalon.instructure.com/login/saml)"
   ]
  },
  {
   "cell_type": "markdown",
   "metadata": {
    "slideshow": {
     "slide_type": "slide"
    }
   },
   "source": [
    "### Teaching Methods\n",
    "* Course combines\n",
    "    * Traditional lectures\n",
    "    * Hands-on exercises\n",
    "    * Group work\n",
    "* Occasional small exercises during lectures, so bring your laptop\n",
    "* You are expected to read some background material for each lecture\n",
    "    * This is such that everyone is on the same page\n",
    "    * And so that there is more time for exercises and discussions in lectures\n",
    "* The background material will be made available a week before each lecture\n",
    "    * No reading material for the first lecture"
   ]
  },
  {
   "cell_type": "markdown",
   "metadata": {
    "slideshow": {
     "slide_type": "slide"
    }
   },
   "source": [
    "### Lecture Preparation\n",
    "\n",
    "* Read Background Material\n",
    "* Go through lecture notes, play with code (optional)\n",
    "* Do exercises (optional)"
   ]
  },
  {
   "cell_type": "markdown",
   "metadata": {
    "slideshow": {
     "slide_type": "slide"
    }
   },
   "source": [
    "### Assessment Methods\n",
    "\n",
    "* **Group project (50%)**, can be completed in a group of up to 3 students\n",
    "    * Released 3 August, hand-in 4 November 17:00\n",
    "       * joint report, contribution of each student should be stated clearly\n",
    "       * individual mark for each group member, based on the quality and quantity of their contributions\n",
    "    * Assignment consists of several parts tied to weekly lecture topics\n",
    "    * Finding a group: \n",
    "       * deadline for group forming: 4 September 17:00\n",
    "       * offer to help you find a group -- fill in the \"Getting to know you\" quiz by the end of *first lecture day,* **TBD** (https://absalon.instructure.com/courses/42382/quizzes/45824). If you choose this option, you can still change groups by asking other students to swap groups in the first week.\n",
    "       * otherwise, we assume you will find a group by yourself this week, e.g. by coordinating with other students in the lab session"
   ]
  },
  {
   "cell_type": "markdown",
   "metadata": {
    "slideshow": {
     "slide_type": "slide"
    }
   },
   "source": [
    "### Assessment Methods\n",
    "\n",
    "* **Take-home exam (50%)**, to be completed individually\n",
    "    * Released 4 November 17:00, hand-in 6 November 17:00\n",
    "    * Exam is timed: 1.5 hours \n",
    "    * Theoretical exam, covering the whole course curriculum"
   ]
  },
  {
   "cell_type": "markdown",
   "metadata": {
    "slideshow": {
     "slide_type": "slide"
    }
   },
   "source": [
    "### Late Hand-In\n",
    "\n",
    "* Late hand-ins **cannot be accepted**\n",
    "* Exceptions can be made in rare cases, e.g. due to illness with doctor's notice\n",
    "    * Get in touch with course responsible at least one working day in advance"
   ]
  },
  {
   "cell_type": "markdown",
   "metadata": {
    "slideshow": {
     "slide_type": "slide"
    }
   },
   "source": [
    "### Plagiarism\n",
    "\n",
    "* Don't do it\n",
    "* Don't enable it\n",
    "* Check [rules and consequences](https://student-ambassador.ku.dk/rights/avoid-plagiarism/) if unclear"
   ]
  },
  {
   "cell_type": "markdown",
   "metadata": {
    "slideshow": {
     "slide_type": "slide"
    }
   },
   "source": [
    "### Docker\n",
    "\n",
    "* The book, tutorials and assignments run in a [docker](https://www.docker.com/) container\n",
    "* Container comes with all dependencies pre-installed\n",
    "* You can install it on your machine or on Azure/AWS machines\n",
    "* We provide no support for non-docker installations"
   ]
  },
  {
   "cell_type": "markdown",
   "metadata": {
    "slideshow": {
     "slide_type": "slide"
    }
   },
   "source": [
    "### Python\n",
    "\n",
    "* Lectures, lab exercises and assignments focus on **Python**\n",
    "* Python is a leading language for data science, machine learning etc., with many relevant libraries\n",
    "* We expect you to know Python, or be willing to learn it **on your own**\n",
    "* Labs and assignments focus on development within [jupyter notebooks](http://jupyter.org/)"
   ]
  },
  {
   "cell_type": "markdown",
   "metadata": {
    "slideshow": {
     "slide_type": "slide"
    }
   },
   "source": [
    "### Discussion Forum\n",
    "\n",
    "* Our Absalon page has a [**discussion forum**](https://absalon.instructure.com/courses/42382/discussion_topics).\n",
    "* Please post questions there (instead of sending private emails) \n",
    "* We give low priority to **questions already answered** in previous lectures, tutorials and posts, \n",
    "    * and to **pure programming related issues**\n",
    "* We expect you to **search online** for answers to your questions before you contact us.\n",
    "* You are highly encouraged to participate and **help each other** on the forum. \n",
    "* The teaching team will check the discussion forum regularly **within normal working hours**\n",
    "    * do not expect answers late in the evenings and on weekends\n",
    "    * **start working on your assignments early**\n",
    "    * come to the lab sessions and ask questions there"
   ]
  },
  {
   "cell_type": "markdown",
   "metadata": {
    "slideshow": {
     "slide_type": "slide"
    }
   },
   "source": [
    "### Copenhagen NLP\n",
    "\n",
    "* Research area in Machine Learning Section, UCPH Computer Science Department\n",
    "* Faculty members: Isabelle Augenstein, Daniel Hershcovich, Desmond Elliott, Anders Søgaard\n",
    "* Official webpage: https://di.ku.dk/english/research/groups/nlp/\n",
    "* List of group members: http://copenlu.github.io ; http://coastalcph.github.io/\n",
    "* Twitter: \n",
    "    * @copenlu https://twitter.com/CopeNLU\n",
    "    * @coastalcph https://twitter.com/coastalcph\n",
    "* NLP Meetup: https://www.meetup.com/Natural-Language-Processing-Copenhagen-Meetup/\n",
    "* Always looking for strong MSc students\n",
    "* PhD positions available dependent on funding"
   ]
  }
 ],
 "metadata": {
  "celltoolbar": "Slideshow",
  "kernelspec": {
   "display_name": "Python 3",
   "language": "python",
   "name": "python3"
  },
  "language_info": {
   "codemirror_mode": {
    "name": "ipython",
    "version": 3
   },
   "file_extension": ".py",
   "mimetype": "text/x-python",
   "name": "python",
   "nbconvert_exporter": "python",
   "pygments_lexer": "ipython3",
   "version": "3.6.10"
  }
 },
 "nbformat": 4,
 "nbformat_minor": 1
}
